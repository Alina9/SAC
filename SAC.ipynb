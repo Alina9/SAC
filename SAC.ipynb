{
 "cells": [
  {
   "cell_type": "code",
   "execution_count": 1,
   "metadata": {},
   "outputs": [],
   "source": [
    "from gym import make\n",
    "import pybullet_envs\n",
    "import numpy as np\n",
    "import random\n",
    "import torch\n",
    "import torch.nn as nn\n",
    "import torch.optim as optim\n",
    "import torch.nn.functional as F\n",
    "import copy\n",
    "import time\n",
    "from collections import deque\n",
    "from torch.distributions.normal import Normal"
   ]
  },
  {
   "cell_type": "code",
   "execution_count": 2,
   "metadata": {},
   "outputs": [],
   "source": [
    "device = torch.device(\"cuda\" if torch.cuda.is_available() else \"cpu\")"
   ]
  },
  {
   "cell_type": "markdown",
   "metadata": {},
   "source": [
    "## Actor"
   ]
  },
  {
   "cell_type": "code",
   "execution_count": 3,
   "metadata": {},
   "outputs": [],
   "source": [
    "LOG_STD_MIN = -20\n",
    "LOG_STD_MAX = 2"
   ]
  },
  {
   "cell_type": "code",
   "execution_count": 4,
   "metadata": {},
   "outputs": [],
   "source": [
    "class Actor(nn.Module):\n",
    "    def __init__(self, state_size, action_size, hidden_dim, high, low):\n",
    "        super(Actor, self).__init__()\n",
    "        self.linear1 = nn.Linear(state_size, hidden_dim)\n",
    "        self.linear2 = nn.Linear(hidden_dim, hidden_dim)\n",
    "        \n",
    "        self.mean = nn.Linear(hidden_dim, action_size)\n",
    "        self.log_std = nn.Linear(hidden_dim, action_size)\n",
    "        \n",
    "        self.high = torch.tensor(high).to(device)\n",
    "        self.low = torch.tensor(low).to(device)\n",
    "        \n",
    "        self.action_scale = torch.FloatTensor(\n",
    "                (high - low) / 2.).to(device)\n",
    "        self.action_bias = torch.FloatTensor(\n",
    "                (high + low) / 2.).to(device)\n",
    "    \n",
    "    def forward(self, state):\n",
    "        x = state\n",
    "        x = F.relu(self.linear1(x))\n",
    "        x = F.relu(self.linear2(x))\n",
    "        m = self.mean(x)\n",
    "        s = self.log_std(x)\n",
    "        s = torch.clamp(s, min = LOG_STD_MIN, max = LOG_STD_MAX)\n",
    "        return m, s\n",
    "    \n",
    "    def sample(self, state):\n",
    "        m, s = self.forward(state) \n",
    "        std = s.exp()\n",
    "        normal = Normal(m, std)\n",
    "        a = normal.rsample()\n",
    "        \n",
    "        tanh = torch.tanh(a)\n",
    "        action = tanh * self.action_scale + self.action_bias\n",
    "        \n",
    "        # we got a complicated distribution\n",
    "        \n",
    "        logp = normal.log_prob(a)\n",
    "        logp -= torch.log(self.action_scale * (1 - tanh.pow(2)) + 1e-6)\n",
    "        logp = logp.sum(1, keepdim=True)\n",
    "        \n",
    "        return action, logp"
   ]
  },
  {
   "cell_type": "markdown",
   "metadata": {
    "colab_type": "text",
    "id": "Xm8algpcAO9s"
   },
   "source": [
    "## Critic"
   ]
  },
  {
   "cell_type": "code",
   "execution_count": 5,
   "metadata": {},
   "outputs": [],
   "source": [
    "class Critic(nn.Module):\n",
    "    def __init__(self, state_dim, action_dim, hidden_dim):\n",
    "        super(Critic, self).__init__()\n",
    "\n",
    "        # Q1 \n",
    "        self.linear1 = nn.Linear(state_dim + action_dim, hidden_dim)\n",
    "        self.linear2 = nn.Linear(hidden_dim, hidden_dim)\n",
    "        self.linear3 = nn.Linear(hidden_dim, 1)\n",
    "\n",
    "        # Q2 \n",
    "        self.linear4 = nn.Linear(state_dim + action_dim, hidden_dim)\n",
    "        self.linear5 = nn.Linear(hidden_dim, hidden_dim)\n",
    "        self.linear6 = nn.Linear(hidden_dim, 1)\n",
    "\n",
    "\n",
    "    def forward(self, state, action):\n",
    "        state_action = torch.cat([state, action], 1)\n",
    "\n",
    "        q1 = F.relu(self.linear1(state_action))\n",
    "        q1 = F.relu(self.linear2(q1))\n",
    "        q1 = self.linear3(q1)\n",
    "\n",
    "        q2 = F.relu(self.linear4(state_action))\n",
    "        q2 = F.relu(self.linear5(q2))\n",
    "        q2 = self.linear6(q2)\n",
    "        return q1, q2"
   ]
  },
  {
   "cell_type": "markdown",
   "metadata": {
    "colab_type": "text",
    "id": "Q4j47QJEAO9_"
   },
   "source": [
    "## Buffer"
   ]
  },
  {
   "cell_type": "code",
   "execution_count": 6,
   "metadata": {},
   "outputs": [],
   "source": [
    "class Memory:\n",
    "    def __init__(self, buffer_size, batch_size):\n",
    "        self.buffer_size = buffer_size\n",
    "        self.batch_size = batch_size\n",
    "        self.memory = []\n",
    "        self.position = 0\n",
    "\n",
    "    def push(self, element):\n",
    "        if len(self.memory) < self.buffer_size:\n",
    "            self.memory.append(None)\n",
    "        self.memory[self.position] = element\n",
    "        self.position = (self.position + 1) % self.buffer_size\n",
    "\n",
    "    def sample(self):\n",
    "        return list(zip(*random.sample(self.memory, self.batch_size)))\n",
    "\n",
    "    def __len__(self):\n",
    "        return len(self.memory)"
   ]
  },
  {
   "cell_type": "code",
   "execution_count": 7,
   "metadata": {},
   "outputs": [],
   "source": [
    "class Sac_agent:\n",
    "    def __init__(self, state_size, action_size, hidden_dim, high, low, buffer_size, batch_size,\n",
    "                 gamma, tau,num_updates, update_rate, alpha):\n",
    "        \n",
    "         # Actor Network and Target Network\n",
    "        self.actor = Actor(state_size, action_size,hidden_dim, high, low).to(device)\n",
    "        self.actor.apply(self.init_weights)\n",
    "        self.actor_optimizer = optim.Adam(self.actor.parameters(), lr=1e-4)\n",
    "        \n",
    "\n",
    "        # Critic Network and Target Network\n",
    "        self.critic = Critic(state_size, action_size, hidden_dim).to(device)   \n",
    "        self.critic.apply(self.init_weights)\n",
    "        self.critic_target = Critic(state_size, action_size, hidden_dim).to(device)        \n",
    "        self.critic_optimizer = optim.Adam(self.critic.parameters(), lr=1e-4)\n",
    "        \n",
    "        # copy weights\n",
    "        self.hard_update(self.critic_target, self.critic)\n",
    "        \n",
    "        self.state_size = state_size\n",
    "        self.action_size = action_size\n",
    "        \n",
    "        # Target Entropy = −dim(A) (e.g. , -6 for HalfCheetah-v2)\n",
    "        self.target_entropy = -float(self.action_size)\n",
    "        self.log_alpha = torch.zeros(1, requires_grad=True, device = device)\n",
    "        self.alpha_optimizer = optim.Adam([self.log_alpha], lr=1e-4)\n",
    "        \n",
    "        self.memory = Memory(buffer_size, batch_size)\n",
    "        self.gamma = gamma\n",
    "        self.tau = tau\n",
    "        self.num_updates = num_updates\n",
    "        self.update_rate = update_rate\n",
    "        self.alpha = alpha\n",
    "        \n",
    "        self.iters = 0\n",
    "        \n",
    "    def init_weights(self, layer):\n",
    "        if type(layer) == nn.Linear:\n",
    "            nn.init.xavier_normal_(layer.weight)\n",
    "            nn.init.constant_(layer.bias, 0)\n",
    "        \n",
    "        \n",
    "    def hard_update(self, target, network):\n",
    "        for target_param, param in zip(target.parameters(), network.parameters()):\n",
    "            target_param.data.copy_(param.data)\n",
    "            \n",
    "    def soft_update(self, target, network):\n",
    "        for target_param, param in zip(target.parameters(), network.parameters()):\n",
    "            target_param.data.copy_(self.tau*param.data + (1-self.tau)*target_param.data)\n",
    "            \n",
    "    def learn(self, batch):\n",
    "        for _ in range(self.num_updates):                \n",
    "            state, action, reward, next_state, mask = batch\n",
    "\n",
    "            state = torch.tensor(state).to(device).float()\n",
    "            next_state = torch.tensor(next_state).to(device).float()\n",
    "            reward = torch.tensor(reward).to(device).float().unsqueeze(1)\n",
    "            action = torch.tensor(action).to(device).float()\n",
    "            mask = torch.tensor(mask).to(device).int().unsqueeze(1)\n",
    "            \n",
    "            # compute target action\n",
    "            with torch.no_grad():\n",
    "                a, logp = self.actor.sample(next_state)\n",
    "                \n",
    "                # compute targets\n",
    "                Q_target1, Q_target2 = self.critic_target(next_state, a) \n",
    "                min_Q = torch.min(Q_target1, Q_target2)\n",
    "                Q_target = reward + self.gamma*mask*(min_Q - self.alpha*logp)\n",
    "\n",
    "            # update critic       \n",
    "            critic_1, critic_2 = self.critic(state, action)\n",
    "            critic_loss1 = F.mse_loss(critic_1, Q_target)\n",
    "            critic_loss2 = F.mse_loss(critic_2, Q_target)       \n",
    "\n",
    "            # update actor \n",
    "            pi, log_pi = self.actor.sample(state)\n",
    "            Q1_pi, Q2_pi = self.critic(state, pi)\n",
    "            min_Q_pi = torch.min(Q1_pi, Q2_pi)\n",
    "            actor_loss = (self.alpha*log_pi - min_Q_pi).mean()\n",
    "            \n",
    "            #gradient steps\n",
    "            self.critic_optimizer.zero_grad()\n",
    "            critic_loss1.backward()          \n",
    "            self.critic_optimizer.step()\n",
    "            \n",
    "            self.critic_optimizer.zero_grad()\n",
    "            critic_loss2.backward()          \n",
    "            self.critic_optimizer.step()\n",
    "            \n",
    "            self.actor_optimizer.zero_grad()\n",
    "            actor_loss.backward()            \n",
    "            self.actor_optimizer.step()\n",
    "            \n",
    "            # update alpha\n",
    "            alpha_loss = -(self.log_alpha * (log_pi + self.target_entropy).detach()).mean()\n",
    "\n",
    "            self.alpha_optimizer.zero_grad()\n",
    "            alpha_loss.backward()\n",
    "            self.alpha_optimizer.step()\n",
    "\n",
    "            self.alpha = self.log_alpha.exp()\n",
    "\n",
    "            # update critic_targe\n",
    "            self.soft_update(self.critic_target, self.critic)\n",
    "        \n",
    "    def act(self, state):\n",
    "        state =  torch.tensor(state).unsqueeze(0).to(device).float()\n",
    "        action, logp = self.actor.sample(state)\n",
    "        return action.cpu().data.numpy()[0]\n",
    "    \n",
    "    def step(self, state, action, reward, next_state, mask):\n",
    "        self.iters += 1\n",
    "        self.memory.push((state, action, reward, next_state, mask))\n",
    "        if ( len(self.memory) >= self.memory.batch_size ) and ( self.iters % self.update_rate == 0 ):\n",
    "            self.learn(self.memory.sample())\n",
    "        \n",
    "    def save(self):\n",
    "        torch.save(self.actor.state_dict(), \"ant_actor.pkl\")\n",
    "        torch.save(self.critic.state_dict(), \"ant_critic.pkl\")\n",
    "        \n",
    "    def test(self):\n",
    "        new_env = make(\"AntBulletEnv-v0\")\n",
    "        new_env.seed(9)\n",
    "        reward = []\n",
    "        for i in range(10):\n",
    "            state = new_env.reset()\n",
    "            local_reward = 0\n",
    "            done = False\n",
    "            while not done:\n",
    "                action = self.act(state)\n",
    "                state, r, done, _ = new_env.step(action)\n",
    "                local_reward += r\n",
    "            reward.append(local_reward)\n",
    "        return reward\n",
    "            "
   ]
  },
  {
   "cell_type": "markdown",
   "metadata": {
    "colab_type": "text",
    "id": "WwZy9dbKAO-k"
   },
   "source": [
    "## Ant"
   ]
  },
  {
   "cell_type": "code",
   "execution_count": 8,
   "metadata": {},
   "outputs": [
    {
     "name": "stdout",
     "output_type": "stream",
     "text": [
      "size of each action = 8\n",
      "size of state = 28\n",
      "low of each action = [-1. -1. -1. -1. -1. -1. -1. -1.]\n",
      "high of each action = [1. 1. 1. 1. 1. 1. 1. 1.]\n"
     ]
    },
    {
     "name": "stderr",
     "output_type": "stream",
     "text": [
      "c:\\users\\alina\\gym\\gym\\logger.py:30: UserWarning: \u001b[33mWARN: Box bound precision lowered by casting to float32\u001b[0m\n",
      "  warnings.warn(colorize('%s: %s'%('WARN', msg % args), 'yellow'))\n"
     ]
    }
   ],
   "source": [
    "env = make(\"AntBulletEnv-v0\")\n",
    "np.random.seed(0)\n",
    "env.seed(0)\n",
    "\n",
    "action_size = env.action_space.shape[0]\n",
    "print(f'size of each action = {action_size}')\n",
    "state_size = env.observation_space.shape[0]\n",
    "print(f'size of state = {state_size}')\n",
    "low = env.action_space.low\n",
    "high = env.action_space.high\n",
    "print(f'low of each action = {low}')\n",
    "print(f'high of each action = {high}')"
   ]
  },
  {
   "cell_type": "markdown",
   "metadata": {
    "colab_type": "text",
    "id": "uJKddDUqAO-5"
   },
   "source": [
    "## Train the Agent"
   ]
  },
  {
   "cell_type": "code",
   "execution_count": 9,
   "metadata": {},
   "outputs": [],
   "source": [
    "BUFFER_SIZE = int(1e6)\n",
    "BATCH_SIZE = 256\n",
    "GAMMA = 0.99            \n",
    "TAU = 0.005               \n",
    "EPISODES = 1500\n",
    "NUM_UPDATES = 1\n",
    "UPDATE_RATE = 1\n",
    "ENTROPY_COEFFICIENT = 0.2"
   ]
  },
  {
   "cell_type": "code",
   "execution_count": null,
   "metadata": {},
   "outputs": [
    {
     "name": "stdout",
     "output_type": "stream",
     "text": [
      "Ep.: 1, Ep.Steps: 1000, Score: 530.82, Avg.Score: 530.82, Time: 00:01:05\n",
      "Ep.: 2, Ep.Steps: 1000, Score: 484.80, Avg.Score: 507.81, Time: 00:02:39\n",
      "Ep.: 3, Ep.Steps: 1000, Score: 396.87, Avg.Score: 470.83, Time: 00:04:10\n",
      "Ep.: 4, Ep.Steps: 447, Score: 217.66, Avg.Score: 407.54, Time: 00:04:47\n",
      "Ep.: 5, Ep.Steps: 1000, Score: 510.66, Avg.Score: 428.16, Time: 00:06:14\n",
      "Ep.: 6, Ep.Steps: 1000, Score: 522.79, Avg.Score: 443.93, Time: 00:07:41\n",
      "Ep.: 7, Ep.Steps: 1000, Score: 508.87, Avg.Score: 453.21, Time: 00:09:25\n",
      "Ep.: 8, Ep.Steps: 1000, Score: 526.13, Avg.Score: 462.33, Time: 00:11:03\n",
      "Ep.: 9, Ep.Steps: 1000, Score: 451.80, Avg.Score: 461.16, Time: 00:12:30\n",
      "Ep.: 10, Ep.Steps: 1000, Score: 485.92, Avg.Score: 463.63, Time: 00:13:56\n",
      "Ep.: 11, Ep.Steps: 1000, Score: 251.85, Avg.Score: 444.38, Time: 00:15:35\n",
      "Ep.: 12, Ep.Steps: 1000, Score: 419.57, Avg.Score: 442.31, Time: 00:17:12\n",
      "Ep.: 13, Ep.Steps: 1000, Score: 282.28, Avg.Score: 430.00, Time: 00:18:48\n",
      "Ep.: 14, Ep.Steps: 158, Score: 83.09, Avg.Score: 405.22, Time: 00:19:05\n",
      "Ep.: 15, Ep.Steps: 983, Score: 298.40, Avg.Score: 398.10, Time: 00:20:42\n",
      "Ep.: 16, Ep.Steps: 1000, Score: 273.62, Avg.Score: 390.32, Time: 00:22:10\n",
      "Ep.: 17, Ep.Steps: 1000, Score: 338.54, Avg.Score: 387.27, Time: 00:23:40\n",
      "Ep.: 18, Ep.Steps: 76, Score: 30.06, Avg.Score: 367.43, Time: 00:23:47\n",
      "Ep.: 19, Ep.Steps: 117, Score: 59.87, Avg.Score: 351.24, Time: 00:23:57\n",
      "Ep.: 20, Ep.Steps: 21, Score: 6.39, Avg.Score: 334.00, Time: 00:23:59\n",
      "Ep.: 21, Ep.Steps: 1000, Score: 353.71, Avg.Score: 334.94, Time: 00:25:34\n",
      "Ep.: 22, Ep.Steps: 20, Score: 4.39, Avg.Score: 319.91, Time: 00:25:36\n",
      "Ep.: 23, Ep.Steps: 20, Score: 4.09, Avg.Score: 306.18, Time: 00:25:38\n",
      "Ep.: 24, Ep.Steps: 20, Score: 4.06, Avg.Score: 293.59, Time: 00:25:40\n",
      "Ep.: 25, Ep.Steps: 20, Score: 4.09, Avg.Score: 282.01, Time: 00:25:42\n",
      "Ep.: 26, Ep.Steps: 20, Score: 2.70, Avg.Score: 271.27, Time: 00:25:44\n",
      "Ep.: 27, Ep.Steps: 20, Score: 3.72, Avg.Score: 261.36, Time: 00:25:45\n",
      "Ep.: 28, Ep.Steps: 20, Score: 3.18, Avg.Score: 252.14, Time: 00:25:47\n",
      "Ep.: 29, Ep.Steps: 20, Score: 3.91, Avg.Score: 243.58, Time: 00:25:49\n",
      "Ep.: 30, Ep.Steps: 20, Score: 4.06, Avg.Score: 235.60, Time: 00:25:51\n",
      "Ep.: 31, Ep.Steps: 20, Score: 1.41, Avg.Score: 228.04, Time: 00:25:53\n",
      "Ep.: 32, Ep.Steps: 20, Score: 2.22, Avg.Score: 220.99, Time: 00:25:55\n",
      "Ep.: 33, Ep.Steps: 20, Score: 5.66, Avg.Score: 214.46, Time: 00:25:56\n",
      "Ep.: 34, Ep.Steps: 191, Score: 78.53, Avg.Score: 210.46, Time: 00:26:14\n",
      "Ep.: 35, Ep.Steps: 1000, Score: 367.10, Avg.Score: 214.94, Time: 00:27:46\n",
      "Ep.: 36, Ep.Steps: 1000, Score: 528.14, Avg.Score: 223.64, Time: 00:29:17\n",
      "Ep.: 37, Ep.Steps: 1000, Score: 410.61, Avg.Score: 228.69, Time: 00:30:48\n",
      "Ep.: 38, Ep.Steps: 1000, Score: 475.59, Avg.Score: 235.19, Time: 00:32:16\n",
      "Ep.: 39, Ep.Steps: 1000, Score: 428.86, Avg.Score: 240.15, Time: 00:33:51\n",
      "Ep.: 40, Ep.Steps: 1000, Score: 476.89, Avg.Score: 246.07, Time: 00:35:18\n",
      "Ep.: 41, Ep.Steps: 1000, Score: 364.93, Avg.Score: 248.97, Time: 00:36:45\n",
      "Ep.: 42, Ep.Steps: 1000, Score: 539.24, Avg.Score: 255.88, Time: 00:38:17\n",
      "Ep.: 43, Ep.Steps: 1000, Score: 420.62, Avg.Score: 259.71, Time: 00:39:49\n",
      "Ep.: 44, Ep.Steps: 1000, Score: 412.42, Avg.Score: 263.18, Time: 00:41:32\n",
      "Ep.: 45, Ep.Steps: 1000, Score: 500.68, Avg.Score: 268.46, Time: 00:43:04\n",
      "Ep.: 46, Ep.Steps: 1000, Score: 461.32, Avg.Score: 272.65, Time: 00:44:38\n",
      "Ep.: 47, Ep.Steps: 1000, Score: 536.11, Avg.Score: 278.26, Time: 00:46:20\n",
      "Ep.: 48, Ep.Steps: 90, Score: 28.08, Avg.Score: 273.05, Time: 00:46:28\n",
      "Ep.: 49, Ep.Steps: 39, Score: -8.30, Avg.Score: 267.31, Time: 00:46:32\n",
      "Ep.: 50, Ep.Steps: 45, Score: 8.60, Avg.Score: 262.13, Time: 00:46:36\n",
      "Ep.: 51, Ep.Steps: 1000, Score: 282.76, Avg.Score: 262.54, Time: 00:48:10\n",
      "Ep.: 52, Ep.Steps: 20, Score: -0.51, Avg.Score: 257.48, Time: 00:48:12\n",
      "Ep.: 53, Ep.Steps: 36, Score: 2.03, Avg.Score: 252.66, Time: 00:48:15\n",
      "Ep.: 54, Ep.Steps: 20, Score: -0.35, Avg.Score: 247.97, Time: 00:48:17\n",
      "Ep.: 55, Ep.Steps: 47, Score: 8.45, Avg.Score: 243.62, Time: 00:48:21\n",
      "Ep.: 56, Ep.Steps: 50, Score: 8.18, Avg.Score: 239.41, Time: 00:48:26\n",
      "Ep.: 57, Ep.Steps: 21, Score: -1.73, Avg.Score: 235.18, Time: 00:48:28\n",
      "Ep.: 58, Ep.Steps: 97, Score: 32.35, Avg.Score: 231.69, Time: 00:48:38\n",
      "Ep.: 59, Ep.Steps: 29, Score: 1.83, Avg.Score: 227.79, Time: 00:48:41\n",
      "Ep.: 60, Ep.Steps: 667, Score: 302.44, Avg.Score: 229.03, Time: 00:49:42\n",
      "Ep.: 61, Ep.Steps: 1000, Score: 410.95, Avg.Score: 232.02, Time: 00:51:20\n",
      "Ep.: 62, Ep.Steps: 1000, Score: 399.76, Avg.Score: 234.72, Time: 00:52:54\n",
      "Ep.: 63, Ep.Steps: 1000, Score: 432.85, Avg.Score: 237.87, Time: 00:54:39\n",
      "Ep.: 64, Ep.Steps: 1000, Score: 415.19, Avg.Score: 240.64, Time: 00:56:14\n",
      "Ep.: 65, Ep.Steps: 149, Score: 27.57, Avg.Score: 237.36, Time: 00:56:27\n",
      "Ep.: 66, Ep.Steps: 1000, Score: 552.51, Avg.Score: 242.13, Time: 00:58:10\n",
      "Ep.: 67, Ep.Steps: 1000, Score: 402.28, Avg.Score: 244.52, Time: 00:59:54\n",
      "Ep.: 68, Ep.Steps: 1000, Score: 562.44, Avg.Score: 249.20, Time: 01:01:41\n",
      "Ep.: 69, Ep.Steps: 1000, Score: 502.89, Avg.Score: 252.88, Time: 01:03:31\n",
      "Ep.: 70, Ep.Steps: 1000, Score: 422.30, Avg.Score: 255.30, Time: 01:05:01\n",
      "Ep.: 71, Ep.Steps: 1000, Score: 504.97, Avg.Score: 258.81, Time: 01:06:28\n",
      "Ep.: 72, Ep.Steps: 1000, Score: 440.59, Avg.Score: 261.34, Time: 01:07:56\n",
      "Ep.: 73, Ep.Steps: 1000, Score: 394.72, Avg.Score: 263.17, Time: 01:09:29\n",
      "Ep.: 74, Ep.Steps: 1000, Score: 422.08, Avg.Score: 265.31, Time: 01:10:55\n",
      "Ep.: 75, Ep.Steps: 236, Score: 95.35, Avg.Score: 263.05, Time: 01:11:23\n",
      "Ep.: 76, Ep.Steps: 167, Score: 45.23, Avg.Score: 260.18, Time: 01:11:38\n",
      "Ep.: 77, Ep.Steps: 21, Score: 4.19, Avg.Score: 256.86, Time: 01:11:40\n",
      "Ep.: 78, Ep.Steps: 20, Score: 3.93, Avg.Score: 253.61, Time: 01:11:42\n",
      "Ep.: 79, Ep.Steps: 20, Score: 3.16, Avg.Score: 250.44, Time: 01:11:44\n",
      "Ep.: 80, Ep.Steps: 57, Score: 16.02, Avg.Score: 247.51, Time: 01:11:49\n",
      "Ep.: 81, Ep.Steps: 20, Score: 2.25, Avg.Score: 244.49, Time: 01:11:51\n",
      "Ep.: 82, Ep.Steps: 21, Score: 3.72, Avg.Score: 241.55, Time: 01:11:53\n",
      "Ep.: 83, Ep.Steps: 232, Score: 97.06, Avg.Score: 239.81, Time: 01:12:16\n",
      "Ep.: 84, Ep.Steps: 1000, Score: 464.76, Avg.Score: 242.49, Time: 01:13:52\n",
      "Ep.: 85, Ep.Steps: 1000, Score: 576.44, Avg.Score: 246.41, Time: 01:15:33\n",
      "Ep.: 86, Ep.Steps: 1000, Score: 358.89, Avg.Score: 247.72, Time: 01:17:07\n",
      "Ep.: 87, Ep.Steps: 1000, Score: 385.39, Avg.Score: 249.31, Time: 01:18:40\n",
      "Ep.: 88, Ep.Steps: 1000, Score: 495.74, Avg.Score: 252.11, Time: 01:20:24\n",
      "Ep.: 89, Ep.Steps: 1000, Score: 357.36, Avg.Score: 253.29, Time: 01:22:27\n",
      "Ep.: 90, Ep.Steps: 1000, Score: 275.04, Avg.Score: 253.53, Time: 01:24:36\n",
      "Ep.: 91, Ep.Steps: 1000, Score: 453.25, Avg.Score: 255.72, Time: 01:26:46\n",
      "Ep.: 92, Ep.Steps: 1000, Score: 359.31, Avg.Score: 256.85, Time: 01:28:24\n",
      "Ep.: 93, Ep.Steps: 1000, Score: 523.71, Avg.Score: 259.72, Time: 01:30:18\n",
      "Ep.: 94, Ep.Steps: 106, Score: 35.31, Avg.Score: 257.33, Time: 01:30:31\n",
      "Ep.: 95, Ep.Steps: 21, Score: -0.11, Avg.Score: 254.62, Time: 01:30:34\n",
      "Ep.: 96, Ep.Steps: 21, Score: -0.74, Avg.Score: 251.96, Time: 01:30:35\n",
      "Ep.: 97, Ep.Steps: 20, Score: -0.43, Avg.Score: 249.36, Time: 01:30:37\n",
      "Ep.: 98, Ep.Steps: 244, Score: 110.54, Avg.Score: 247.94, Time: 01:31:06\n",
      "Ep.: 99, Ep.Steps: 20, Score: -0.29, Avg.Score: 245.44, Time: 01:31:08\n",
      "Ep.: 100, Ep.Steps: 20, Score: 0.16, Avg.Score: 242.98, Time: 01:31:10\n",
      "Ep.: 101, Ep.Steps: 20, Score: -0.34, Avg.Score: 237.67, Time: 01:31:12\n",
      "Ep.: 102, Ep.Steps: 20, Score: 0.71, Avg.Score: 232.83, Time: 01:31:14\n",
      "Ep.: 103, Ep.Steps: 20, Score: 0.71, Avg.Score: 228.87, Time: 01:31:17\n",
      "Ep.: 104, Ep.Steps: 22, Score: 0.85, Avg.Score: 226.70, Time: 01:31:19\n",
      "Ep.: 105, Ep.Steps: 20, Score: -0.10, Avg.Score: 221.59, Time: 01:31:21\n",
      "Ep.: 106, Ep.Steps: 20, Score: 1.39, Avg.Score: 216.38, Time: 01:31:22\n",
      "Ep.: 107, Ep.Steps: 20, Score: 0.57, Avg.Score: 211.30, Time: 01:31:24\n",
      "Ep.: 108, Ep.Steps: 20, Score: -0.35, Avg.Score: 206.03, Time: 01:31:26\n",
      "Ep.: 109, Ep.Steps: 20, Score: 0.95, Avg.Score: 201.52, Time: 01:31:27\n",
      "Ep.: 110, Ep.Steps: 20, Score: 1.45, Avg.Score: 196.68, Time: 01:31:29\n",
      "Ep.: 111, Ep.Steps: 20, Score: 0.52, Avg.Score: 194.17, Time: 01:31:31\n",
      "Ep.: 112, Ep.Steps: 20, Score: 1.22, Avg.Score: 189.98, Time: 01:31:33\n",
      "Ep.: 113, Ep.Steps: 20, Score: 0.90, Avg.Score: 187.17, Time: 01:31:37\n",
      "Ep.: 114, Ep.Steps: 20, Score: 1.28, Avg.Score: 186.35, Time: 01:31:41\n"
     ]
    },
    {
     "name": "stdout",
     "output_type": "stream",
     "text": [
      "Ep.: 115, Ep.Steps: 20, Score: 1.88, Avg.Score: 183.39, Time: 01:31:43\n",
      "Ep.: 116, Ep.Steps: 20, Score: 2.70, Avg.Score: 180.68, Time: 01:31:46\n",
      "Ep.: 117, Ep.Steps: 20, Score: -0.47, Avg.Score: 177.29, Time: 01:31:49\n",
      "Ep.: 118, Ep.Steps: 20, Score: 1.07, Avg.Score: 177.00, Time: 01:31:51\n",
      "Ep.: 119, Ep.Steps: 20, Score: -0.69, Avg.Score: 176.39, Time: 01:31:54\n",
      "Ep.: 120, Ep.Steps: 20, Score: -0.40, Avg.Score: 176.32, Time: 01:31:57\n",
      "Ep.: 121, Ep.Steps: 20, Score: -0.57, Avg.Score: 172.78, Time: 01:32:00\n",
      "Ep.: 122, Ep.Steps: 1000, Score: 394.75, Avg.Score: 176.68, Time: 01:33:37\n",
      "Ep.: 123, Ep.Steps: 20, Score: 0.45, Avg.Score: 176.65, Time: 01:33:39\n",
      "Ep.: 124, Ep.Steps: 20, Score: 0.38, Avg.Score: 176.61, Time: 01:33:42\n",
      "Ep.: 125, Ep.Steps: 20, Score: 1.82, Avg.Score: 176.59, Time: 01:33:46\n",
      "Ep.: 126, Ep.Steps: 20, Score: 2.00, Avg.Score: 176.58, Time: 01:33:48\n",
      "Ep.: 127, Ep.Steps: 20, Score: 0.79, Avg.Score: 176.55, Time: 01:33:50\n",
      "Ep.: 128, Ep.Steps: 20, Score: 1.25, Avg.Score: 176.53, Time: 01:33:52\n",
      "Ep.: 129, Ep.Steps: 20, Score: 1.19, Avg.Score: 176.50, Time: 01:33:53\n",
      "Ep.: 130, Ep.Steps: 20, Score: 0.67, Avg.Score: 176.47, Time: 01:33:55\n",
      "Ep.: 131, Ep.Steps: 20, Score: -0.27, Avg.Score: 176.45, Time: 01:33:57\n",
      "Ep.: 132, Ep.Steps: 20, Score: 0.11, Avg.Score: 176.43, Time: 01:33:59\n",
      "Ep.: 133, Ep.Steps: 20, Score: -0.67, Avg.Score: 176.37, Time: 01:34:00\n",
      "Ep.: 134, Ep.Steps: 20, Score: 0.36, Avg.Score: 175.59, Time: 01:34:02\n",
      "Ep.: 135, Ep.Steps: 20, Score: 0.41, Avg.Score: 171.92, Time: 01:34:04\n",
      "Ep.: 136, Ep.Steps: 20, Score: 0.02, Avg.Score: 166.64, Time: 01:34:06\n",
      "Ep.: 137, Ep.Steps: 20, Score: -1.05, Avg.Score: 162.52, Time: 01:34:08\n",
      "Ep.: 138, Ep.Steps: 20, Score: 0.55, Avg.Score: 157.77, Time: 01:34:11\n",
      "Ep.: 139, Ep.Steps: 20, Score: -0.27, Avg.Score: 153.48, Time: 01:34:13\n",
      "Ep.: 140, Ep.Steps: 20, Score: -0.42, Avg.Score: 148.71, Time: 01:34:15\n",
      "Ep.: 141, Ep.Steps: 20, Score: 0.26, Avg.Score: 145.06, Time: 01:34:17\n",
      "Ep.: 142, Ep.Steps: 20, Score: 1.18, Avg.Score: 139.68, Time: 01:34:18\n",
      "Ep.: 143, Ep.Steps: 20, Score: -0.02, Avg.Score: 135.47, Time: 01:34:20\n",
      "Ep.: 144, Ep.Steps: 20, Score: 0.15, Avg.Score: 131.35, Time: 01:34:22\n",
      "Ep.: 145, Ep.Steps: 20, Score: 0.97, Avg.Score: 126.35, Time: 01:34:24\n",
      "Ep.: 146, Ep.Steps: 20, Score: 0.30, Avg.Score: 121.74, Time: 01:34:25\n",
      "Ep.: 147, Ep.Steps: 20, Score: 0.73, Avg.Score: 116.39, Time: 01:34:27\n",
      "Ep.: 148, Ep.Steps: 20, Score: 0.33, Avg.Score: 116.11, Time: 01:34:29\n",
      "Ep.: 149, Ep.Steps: 20, Score: 0.14, Avg.Score: 116.20, Time: 01:34:31\n",
      "Ep.: 150, Ep.Steps: 20, Score: 1.07, Avg.Score: 116.12, Time: 01:34:33\n",
      "Ep.: 151, Ep.Steps: 20, Score: 0.98, Avg.Score: 113.30, Time: 01:34:34\n",
      "Ep.: 152, Ep.Steps: 20, Score: 0.37, Avg.Score: 113.31, Time: 01:34:36\n",
      "Ep.: 153, Ep.Steps: 20, Score: 0.97, Avg.Score: 113.30, Time: 01:34:38\n",
      "Ep.: 154, Ep.Steps: 20, Score: 1.16, Avg.Score: 113.32, Time: 01:34:40\n",
      "Ep.: 155, Ep.Steps: 20, Score: 0.36, Avg.Score: 113.24, Time: 01:34:42\n",
      "Ep.: 156, Ep.Steps: 20, Score: 0.61, Avg.Score: 113.16, Time: 01:34:44\n",
      "Ep.: 157, Ep.Steps: 20, Score: 0.50, Avg.Score: 113.18, Time: 01:34:46\n",
      "Ep.: 158, Ep.Steps: 20, Score: 0.22, Avg.Score: 112.86, Time: 01:34:48\n",
      "Ep.: 159, Ep.Steps: 1000, Score: 385.34, Avg.Score: 116.70, Time: 01:36:18\n",
      "Ep.: 160, Ep.Steps: 1000, Score: 442.09, Avg.Score: 118.09, Time: 01:37:54\n",
      "Ep.: 161, Ep.Steps: 1000, Score: 468.26, Avg.Score: 118.67, Time: 01:39:21\n",
      "Ep.: 162, Ep.Steps: 1000, Score: 480.25, Avg.Score: 119.47, Time: 01:40:52\n",
      "Ep.: 163, Ep.Steps: 1000, Score: 522.09, Avg.Score: 120.36, Time: 01:42:19\n",
      "Ep.: 164, Ep.Steps: 1000, Score: 211.46, Avg.Score: 118.33, Time: 01:43:48\n",
      "Ep.: 165, Ep.Steps: 434, Score: 234.35, Avg.Score: 120.39, Time: 01:44:29\n",
      "Ep.: 166, Ep.Steps: 1000, Score: 433.70, Avg.Score: 119.21, Time: 01:45:57\n",
      "Ep.: 167, Ep.Steps: 1000, Score: 266.49, Avg.Score: 117.85, Time: 01:47:24\n",
      "Ep.: 168, Ep.Steps: 1000, Score: 336.36, Avg.Score: 115.59, Time: 01:48:47\n",
      "Ep.: 169, Ep.Steps: 370, Score: 191.38, Avg.Score: 112.47, Time: 01:49:21\n",
      "Ep.: 170, Ep.Steps: 69, Score: 26.84, Avg.Score: 108.52, Time: 01:49:27\n",
      "Ep.: 171, Ep.Steps: 139, Score: 65.44, Avg.Score: 104.12, Time: 01:49:38\n",
      "Ep.: 172, Ep.Steps: 404, Score: 204.59, Avg.Score: 101.76, Time: 01:50:15\n",
      "Ep.: 173, Ep.Steps: 1000, Score: 601.69, Avg.Score: 103.83, Time: 01:51:47\n",
      "Ep.: 174, Ep.Steps: 1000, Score: 530.38, Avg.Score: 104.92, Time: 01:53:33\n",
      "Ep.: 175, Ep.Steps: 20, Score: 2.91, Avg.Score: 103.99, Time: 01:53:36\n",
      "Ep.: 176, Ep.Steps: 20, Score: 1.83, Avg.Score: 103.56, Time: 01:53:39\n",
      "Ep.: 177, Ep.Steps: 20, Score: 3.45, Avg.Score: 103.55, Time: 01:53:41\n",
      "Ep.: 178, Ep.Steps: 20, Score: 3.76, Avg.Score: 103.55, Time: 01:53:43\n",
      "Ep.: 179, Ep.Steps: 20, Score: 2.97, Avg.Score: 103.55, Time: 01:53:45\n",
      "Ep.: 180, Ep.Steps: 20, Score: 2.90, Avg.Score: 103.42, Time: 01:53:47\n",
      "Ep.: 181, Ep.Steps: 20, Score: 2.82, Avg.Score: 103.42, Time: 01:53:49\n",
      "Ep.: 182, Ep.Steps: 20, Score: 2.23, Avg.Score: 103.41, Time: 01:53:50\n",
      "Ep.: 183, Ep.Steps: 21, Score: 1.14, Avg.Score: 102.45, Time: 01:53:52\n",
      "Ep.: 184, Ep.Steps: 20, Score: 3.23, Avg.Score: 97.83, Time: 01:53:54\n",
      "Ep.: 185, Ep.Steps: 20, Score: 3.65, Avg.Score: 92.10, Time: 01:53:55\n",
      "Ep.: 186, Ep.Steps: 20, Score: 1.66, Avg.Score: 88.53, Time: 01:53:57\n",
      "Ep.: 187, Ep.Steps: 39, Score: 11.07, Avg.Score: 84.79, Time: 01:54:01\n",
      "Ep.: 188, Ep.Steps: 21, Score: 3.82, Avg.Score: 79.87, Time: 01:54:04\n",
      "Ep.: 189, Ep.Steps: 111, Score: 40.73, Avg.Score: 76.70, Time: 01:54:22\n",
      "Ep.: 190, Ep.Steps: 20, Score: 1.11, Avg.Score: 73.96, Time: 01:54:24\n",
      "Ep.: 191, Ep.Steps: 20, Score: 3.54, Avg.Score: 69.47, Time: 01:54:26\n",
      "Ep.: 192, Ep.Steps: 20, Score: 2.62, Avg.Score: 65.90, Time: 01:54:28\n",
      "Ep.: 193, Ep.Steps: 20, Score: 2.83, Avg.Score: 60.69, Time: 01:54:30\n",
      "Ep.: 194, Ep.Steps: 20, Score: 1.71, Avg.Score: 60.35, Time: 01:54:33\n",
      "Ep.: 195, Ep.Steps: 36, Score: 10.44, Avg.Score: 60.46, Time: 01:54:36\n",
      "Ep.: 196, Ep.Steps: 20, Score: 2.99, Avg.Score: 60.50, Time: 01:54:38\n",
      "Ep.: 197, Ep.Steps: 85, Score: 23.28, Avg.Score: 60.73, Time: 01:54:47\n",
      "Ep.: 198, Ep.Steps: 22, Score: 3.26, Avg.Score: 59.66, Time: 01:54:48\n",
      "Ep.: 199, Ep.Steps: 97, Score: 39.77, Avg.Score: 60.06, Time: 01:54:55\n",
      "Ep.: 200, Ep.Steps: 21, Score: 1.08, Avg.Score: 60.07, Time: 01:54:57\n",
      "Ep.: 201, Ep.Steps: 20, Score: 1.58, Avg.Score: 60.09, Time: 01:55:00\n",
      "Ep.: 202, Ep.Steps: 20, Score: 1.02, Avg.Score: 60.09, Time: 01:55:02\n",
      "Ep.: 203, Ep.Steps: 20, Score: 2.51, Avg.Score: 60.11, Time: 01:55:05\n",
      "Ep.: 204, Ep.Steps: 20, Score: 1.01, Avg.Score: 60.11, Time: 01:55:08\n",
      "Ep.: 205, Ep.Steps: 20, Score: 1.61, Avg.Score: 60.13, Time: 01:55:09\n",
      "Ep.: 206, Ep.Steps: 20, Score: 2.12, Avg.Score: 60.14, Time: 01:55:11\n",
      "Ep.: 207, Ep.Steps: 20, Score: 2.52, Avg.Score: 60.16, Time: 01:55:13\n",
      "Ep.: 208, Ep.Steps: 20, Score: 1.16, Avg.Score: 60.17, Time: 01:55:15\n",
      "Ep.: 209, Ep.Steps: 20, Score: 1.13, Avg.Score: 60.17, Time: 01:55:16\n",
      "Ep.: 210, Ep.Steps: 20, Score: 0.77, Avg.Score: 60.17, Time: 01:55:20\n",
      "Ep.: 211, Ep.Steps: 20, Score: 0.34, Avg.Score: 60.17, Time: 01:55:23\n",
      "Ep.: 212, Ep.Steps: 20, Score: 0.83, Avg.Score: 60.16, Time: 01:55:26\n",
      "Ep.: 213, Ep.Steps: 20, Score: 0.02, Avg.Score: 60.15, Time: 01:55:29\n",
      "Ep.: 214, Ep.Steps: 20, Score: 1.02, Avg.Score: 60.15, Time: 01:55:32\n",
      "Ep.: 215, Ep.Steps: 20, Score: 1.09, Avg.Score: 60.14, Time: 01:55:34\n",
      "Ep.: 216, Ep.Steps: 20, Score: 0.45, Avg.Score: 60.12, Time: 01:55:37\n",
      "Ep.: 217, Ep.Steps: 20, Score: 0.90, Avg.Score: 60.13, Time: 01:55:40\n",
      "Ep.: 218, Ep.Steps: 20, Score: 0.07, Avg.Score: 60.12, Time: 01:55:42\n",
      "Ep.: 219, Ep.Steps: 20, Score: -0.46, Avg.Score: 60.13, Time: 01:55:45\n",
      "Ep.: 220, Ep.Steps: 20, Score: 0.36, Avg.Score: 60.13, Time: 01:55:48\n",
      "Ep.: 221, Ep.Steps: 20, Score: 0.74, Avg.Score: 60.15, Time: 01:55:51\n",
      "Ep.: 222, Ep.Steps: 20, Score: 1.04, Avg.Score: 56.21, Time: 01:55:53\n",
      "Ep.: 223, Ep.Steps: 20, Score: 0.81, Avg.Score: 56.21, Time: 01:55:55\n",
      "Ep.: 224, Ep.Steps: 20, Score: 1.25, Avg.Score: 56.22, Time: 01:55:57\n",
      "Ep.: 225, Ep.Steps: 20, Score: -0.41, Avg.Score: 56.20, Time: 01:55:59\n",
      "Ep.: 226, Ep.Steps: 20, Score: -0.25, Avg.Score: 56.18, Time: 01:56:01\n",
      "Ep.: 227, Ep.Steps: 20, Score: 0.34, Avg.Score: 56.17, Time: 01:56:02\n",
      "Ep.: 228, Ep.Steps: 20, Score: -0.04, Avg.Score: 56.16, Time: 01:56:04\n",
      "Ep.: 229, Ep.Steps: 20, Score: 0.39, Avg.Score: 56.15, Time: 01:56:05\n"
     ]
    },
    {
     "name": "stdout",
     "output_type": "stream",
     "text": [
      "Ep.: 230, Ep.Steps: 20, Score: 0.88, Avg.Score: 56.15, Time: 01:56:07\n",
      "Ep.: 231, Ep.Steps: 20, Score: 0.55, Avg.Score: 56.16, Time: 01:56:09\n",
      "Ep.: 232, Ep.Steps: 20, Score: 1.52, Avg.Score: 56.18, Time: 01:56:11\n",
      "Ep.: 233, Ep.Steps: 20, Score: 0.52, Avg.Score: 56.19, Time: 01:56:13\n",
      "Ep.: 234, Ep.Steps: 20, Score: -0.13, Avg.Score: 56.18, Time: 01:56:14\n",
      "Ep.: 235, Ep.Steps: 20, Score: 0.10, Avg.Score: 56.18, Time: 01:56:16\n",
      "Ep.: 236, Ep.Steps: 20, Score: 0.22, Avg.Score: 56.18, Time: 01:56:18\n",
      "Ep.: 237, Ep.Steps: 20, Score: 1.03, Avg.Score: 56.20, Time: 01:56:19\n",
      "Ep.: 238, Ep.Steps: 20, Score: -0.12, Avg.Score: 56.20, Time: 01:56:21\n",
      "Ep.: 239, Ep.Steps: 20, Score: 0.22, Avg.Score: 56.20, Time: 01:56:23\n",
      "Ep.: 240, Ep.Steps: 20, Score: 0.38, Avg.Score: 56.21, Time: 01:56:24\n",
      "Ep.: 241, Ep.Steps: 20, Score: 0.49, Avg.Score: 56.21, Time: 01:56:26\n",
      "Ep.: 242, Ep.Steps: 20, Score: 0.83, Avg.Score: 56.21, Time: 01:56:28\n",
      "Ep.: 243, Ep.Steps: 20, Score: 0.42, Avg.Score: 56.21, Time: 01:56:29\n",
      "Ep.: 244, Ep.Steps: 20, Score: 0.19, Avg.Score: 56.21, Time: 01:56:31\n",
      "Ep.: 245, Ep.Steps: 20, Score: 1.23, Avg.Score: 56.22, Time: 01:56:33\n",
      "Ep.: 246, Ep.Steps: 20, Score: 0.51, Avg.Score: 56.22, Time: 01:56:34\n",
      "Ep.: 247, Ep.Steps: 20, Score: 0.13, Avg.Score: 56.21, Time: 01:56:36\n",
      "Ep.: 248, Ep.Steps: 21, Score: 1.41, Avg.Score: 56.22, Time: 01:56:38\n",
      "Ep.: 249, Ep.Steps: 21, Score: 3.36, Avg.Score: 56.25, Time: 01:56:40\n",
      "Ep.: 250, Ep.Steps: 1000, Score: 445.30, Avg.Score: 60.70, Time: 01:58:05\n",
      "Ep.: 251, Ep.Steps: 20, Score: 3.04, Avg.Score: 60.72, Time: 01:58:06\n",
      "Ep.: 252, Ep.Steps: 20, Score: 2.99, Avg.Score: 60.74, Time: 01:58:08\n",
      "Ep.: 253, Ep.Steps: 20, Score: 2.99, Avg.Score: 60.76, Time: 01:58:09\n",
      "Ep.: 254, Ep.Steps: 20, Score: 3.81, Avg.Score: 60.79, Time: 01:58:11\n",
      "Ep.: 255, Ep.Steps: 20, Score: 3.11, Avg.Score: 60.82, Time: 01:58:12\n",
      "Ep.: 256, Ep.Steps: 21, Score: 4.58, Avg.Score: 60.86, Time: 01:58:14\n",
      "Ep.: 257, Ep.Steps: 20, Score: 3.71, Avg.Score: 60.89, Time: 01:58:15\n",
      "Ep.: 258, Ep.Steps: 20, Score: 3.73, Avg.Score: 60.92, Time: 01:58:17\n",
      "Ep.: 259, Ep.Steps: 280, Score: 187.13, Avg.Score: 58.94, Time: 01:58:40\n",
      "Ep.: 260, Ep.Steps: 1000, Score: 456.65, Avg.Score: 59.09, Time: 02:00:09\n",
      "Ep.: 261, Ep.Steps: 1000, Score: 471.50, Avg.Score: 59.12, Time: 02:01:36\n",
      "Ep.: 262, Ep.Steps: 1000, Score: 619.31, Avg.Score: 60.51, Time: 02:03:00\n",
      "Ep.: 263, Ep.Steps: 1000, Score: 491.59, Avg.Score: 60.21, Time: 02:04:25\n",
      "Ep.: 264, Ep.Steps: 1000, Score: 454.77, Avg.Score: 62.64, Time: 02:05:47\n",
      "Ep.: 265, Ep.Steps: 1000, Score: 480.44, Avg.Score: 65.10, Time: 02:07:12\n",
      "Ep.: 266, Ep.Steps: 1000, Score: 414.45, Avg.Score: 64.91, Time: 02:08:35\n",
      "Ep.: 267, Ep.Steps: 1000, Score: 431.35, Avg.Score: 66.56, Time: 02:09:57\n",
      "Ep.: 268, Ep.Steps: 1000, Score: 512.12, Avg.Score: 68.31, Time: 02:11:18\n",
      "Ep.: 269, Ep.Steps: 1000, Score: 578.62, Avg.Score: 72.19, Time: 02:12:42\n",
      "Ep.: 270, Ep.Steps: 1000, Score: 531.81, Avg.Score: 77.24, Time: 02:14:07\n",
      "Ep.: 271, Ep.Steps: 1000, Score: 576.79, Avg.Score: 82.35, Time: 02:15:33\n",
      "Ep.: 272, Ep.Steps: 1000, Score: 436.64, Avg.Score: 84.67, Time: 02:17:20\n",
      "Ep.: 273, Ep.Steps: 1000, Score: 455.40, Avg.Score: 83.21, Time: 02:18:46\n",
      "Ep.: 274, Ep.Steps: 1000, Score: 603.41, Avg.Score: 83.94, Time: 02:20:12\n",
      "Ep.: 275, Ep.Steps: 1000, Score: 408.36, Avg.Score: 87.99, Time: 02:21:37\n",
      "Ep.: 276, Ep.Steps: 1000, Score: 424.42, Avg.Score: 92.22, Time: 02:23:04\n",
      "Ep.: 277, Ep.Steps: 1000, Score: 410.91, Avg.Score: 96.29, Time: 02:24:25\n",
      "Ep.: 278, Ep.Steps: 1000, Score: 362.37, Avg.Score: 99.88, Time: 02:25:47\n",
      "Ep.: 279, Ep.Steps: 1000, Score: 459.58, Avg.Score: 104.44, Time: 02:27:33\n",
      "Ep.: 280, Ep.Steps: 1000, Score: 263.18, Avg.Score: 107.05, Time: 02:29:13\n",
      "Ep.: 281, Ep.Steps: 1000, Score: 277.97, Avg.Score: 109.80, Time: 02:30:50\n",
      "Ep.: 282, Ep.Steps: 1000, Score: 288.62, Avg.Score: 112.66, Time: 02:32:33\n",
      "Ep.: 283, Ep.Steps: 1000, Score: 403.45, Avg.Score: 116.69, Time: 02:34:08\n",
      "Ep.: 284, Ep.Steps: 1000, Score: 478.77, Avg.Score: 121.44, Time: 02:35:39\n",
      "Ep.: 285, Ep.Steps: 1000, Score: 524.78, Avg.Score: 126.65, Time: 02:37:06\n",
      "Ep.: 286, Ep.Steps: 618, Score: 284.27, Avg.Score: 129.48, Time: 02:37:58\n",
      "Ep.: 287, Ep.Steps: 20, Score: 1.39, Avg.Score: 129.38, Time: 02:38:00\n",
      "Ep.: 288, Ep.Steps: 1000, Score: 382.36, Avg.Score: 133.17, Time: 02:39:33\n",
      "Ep.: 289, Ep.Steps: 21, Score: 0.99, Avg.Score: 132.77, Time: 02:39:35\n",
      "Ep.: 290, Ep.Steps: 20, Score: 1.87, Avg.Score: 132.78, Time: 02:39:37\n",
      "Ep.: 291, Ep.Steps: 20, Score: 1.60, Avg.Score: 132.76, Time: 02:39:38\n",
      "Ep.: 292, Ep.Steps: 20, Score: 1.85, Avg.Score: 132.75, Time: 02:39:39\n",
      "Ep.: 293, Ep.Steps: 251, Score: 126.13, Avg.Score: 133.98, Time: 02:40:01\n",
      "Ep.: 294, Ep.Steps: 21, Score: 0.77, Avg.Score: 133.97, Time: 02:40:02\n",
      "Ep.: 295, Ep.Steps: 568, Score: 301.96, Avg.Score: 136.89, Time: 02:40:53\n",
      "Ep.: 296, Ep.Steps: 20, Score: 1.75, Avg.Score: 136.88, Time: 02:40:54\n",
      "Ep.: 297, Ep.Steps: 20, Score: 2.31, Avg.Score: 136.67, Time: 02:40:56\n",
      "Ep.: 298, Ep.Steps: 188, Score: 99.36, Avg.Score: 137.63, Time: 02:41:11\n",
      "Ep.: 299, Ep.Steps: 315, Score: 167.74, Avg.Score: 138.91, Time: 02:41:38\n",
      "Ep.: 300, Ep.Steps: 20, Score: 2.01, Avg.Score: 138.92, Time: 02:41:40\n",
      "Ep.: 301, Ep.Steps: 466, Score: 253.10, Avg.Score: 141.43, Time: 02:42:21\n",
      "Ep.: 302, Ep.Steps: 287, Score: 158.57, Avg.Score: 143.01, Time: 02:42:47\n",
      "Ep.: 303, Ep.Steps: 1000, Score: 542.30, Avg.Score: 148.40, Time: 02:44:18\n",
      "Ep.: 304, Ep.Steps: 20, Score: 2.31, Avg.Score: 148.42, Time: 02:44:20\n",
      "Ep.: 305, Ep.Steps: 20, Score: 1.30, Avg.Score: 148.41, Time: 02:44:21\n",
      "Ep.: 306, Ep.Steps: 1000, Score: 517.17, Avg.Score: 153.57, Time: 02:45:37\n",
      "Ep.: 307, Ep.Steps: 1000, Score: 477.17, Avg.Score: 158.31, Time: 02:46:51\n",
      "Ep.: 308, Ep.Steps: 20, Score: 3.45, Avg.Score: 158.33, Time: 02:46:53\n",
      "Ep.: 309, Ep.Steps: 21, Score: 3.80, Avg.Score: 158.36, Time: 02:46:55\n",
      "Ep.: 310, Ep.Steps: 414, Score: 199.68, Avg.Score: 160.35, Time: 02:47:26\n",
      "Ep.: 311, Ep.Steps: 21, Score: 3.13, Avg.Score: 160.38, Time: 02:47:27\n",
      "Ep.: 312, Ep.Steps: 21, Score: 4.18, Avg.Score: 160.41, Time: 02:47:29\n",
      "Ep.: 313, Ep.Steps: 21, Score: 4.39, Avg.Score: 160.46, Time: 02:47:30\n",
      "Ep.: 314, Ep.Steps: 1000, Score: 512.99, Avg.Score: 165.58, Time: 02:48:45\n",
      "Ep.: 315, Ep.Steps: 1000, Score: 448.96, Avg.Score: 170.05, Time: 02:50:00\n",
      "Ep.: 316, Ep.Steps: 1000, Score: 380.75, Avg.Score: 173.86, Time: 02:51:15\n",
      "Ep.: 317, Ep.Steps: 1000, Score: 679.79, Avg.Score: 180.65, Time: 02:52:27\n",
      "Ep.: 318, Ep.Steps: 1000, Score: 545.13, Avg.Score: 186.10, Time: 02:53:42\n",
      "Ep.: 319, Ep.Steps: 1000, Score: 628.04, Avg.Score: 192.38, Time: 02:54:55\n",
      "Ep.: 320, Ep.Steps: 1000, Score: 366.04, Avg.Score: 196.04, Time: 02:56:09\n",
      "Ep.: 321, Ep.Steps: 1000, Score: 634.24, Avg.Score: 202.37, Time: 02:57:25\n",
      "Ep.: 322, Ep.Steps: 1000, Score: 415.60, Avg.Score: 206.52, Time: 02:58:39\n",
      "Ep.: 323, Ep.Steps: 1000, Score: 660.04, Avg.Score: 213.11, Time: 02:59:56\n",
      "Ep.: 324, Ep.Steps: 1000, Score: 689.64, Avg.Score: 220.00, Time: 03:01:11\n",
      "Ep.: 325, Ep.Steps: 1000, Score: 474.36, Avg.Score: 224.74, Time: 03:02:25\n",
      "Ep.: 326, Ep.Steps: 1000, Score: 563.37, Avg.Score: 230.38, Time: 03:03:40\n",
      "Ep.: 327, Ep.Steps: 1000, Score: 416.56, Avg.Score: 234.54, Time: 03:04:53\n",
      "Ep.: 328, Ep.Steps: 1000, Score: 747.58, Avg.Score: 242.02, Time: 03:06:08\n",
      "Ep.: 329, Ep.Steps: 1000, Score: 351.24, Avg.Score: 245.53, Time: 03:07:22\n",
      "Ep.: 330, Ep.Steps: 215, Score: 61.35, Avg.Score: 246.13, Time: 03:07:39\n",
      "Ep.: 331, Ep.Steps: 1000, Score: 617.24, Avg.Score: 252.30, Time: 03:08:54\n",
      "Ep.: 332, Ep.Steps: 171, Score: 86.07, Avg.Score: 253.14, Time: 03:09:08\n",
      "Ep.: 333, Ep.Steps: 146, Score: 62.68, Avg.Score: 253.76, Time: 03:09:18\n",
      "Ep.: 334, Ep.Steps: 161, Score: 75.60, Avg.Score: 254.52, Time: 03:09:31\n",
      "Ep.: 335, Ep.Steps: 1000, Score: 727.08, Avg.Score: 261.79, Time: 03:10:46\n",
      "Ep.: 336, Ep.Steps: 115, Score: 46.73, Avg.Score: 262.26, Time: 03:10:53\n",
      "Ep.: 337, Ep.Steps: 1000, Score: 482.56, Avg.Score: 267.07, Time: 03:12:09\n",
      "Ep.: 338, Ep.Steps: 1000, Score: 656.60, Avg.Score: 273.64, Time: 03:13:25\n",
      "Ep.: 339, Ep.Steps: 1000, Score: 313.37, Avg.Score: 276.77, Time: 03:14:42\n",
      "Ep.: 340, Ep.Steps: 1000, Score: 306.86, Avg.Score: 279.84, Time: 03:16:02\n",
      "Ep.: 341, Ep.Steps: 1000, Score: 720.53, Avg.Score: 287.04, Time: 03:17:20\n",
      "Ep.: 342, Ep.Steps: 1000, Score: 454.53, Avg.Score: 291.57, Time: 03:18:39\n"
     ]
    },
    {
     "name": "stdout",
     "output_type": "stream",
     "text": [
      "Ep.: 343, Ep.Steps: 1000, Score: 339.00, Avg.Score: 294.96, Time: 03:19:59\n",
      "Ep.: 344, Ep.Steps: 734, Score: 461.10, Avg.Score: 299.57, Time: 03:20:57\n",
      "Ep.: 345, Ep.Steps: 1000, Score: 452.76, Avg.Score: 304.08, Time: 03:22:18\n",
      "Ep.: 346, Ep.Steps: 20, Score: 3.74, Avg.Score: 304.12, Time: 03:22:19\n",
      "Ep.: 347, Ep.Steps: 1000, Score: 617.23, Avg.Score: 310.29, Time: 03:23:38\n",
      "Ep.: 348, Ep.Steps: 1000, Score: 358.58, Avg.Score: 313.86, Time: 03:24:57\n",
      "Ep.: 349, Ep.Steps: 1000, Score: 328.23, Avg.Score: 317.11, Time: 03:26:18\n",
      "Ep.: 350, Ep.Steps: 1000, Score: 315.59, Avg.Score: 315.81, Time: 03:27:39\n",
      "Ep.: 351, Ep.Steps: 307, Score: 80.67, Avg.Score: 316.59, Time: 03:28:08\n",
      "Ep.: 352, Ep.Steps: 1000, Score: 299.67, Avg.Score: 319.55, Time: 03:29:29\n",
      "Ep.: 353, Ep.Steps: 1000, Score: 395.79, Avg.Score: 323.48, Time: 03:30:50\n",
      "Ep.: 354, Ep.Steps: 1000, Score: 563.72, Avg.Score: 329.08, Time: 03:32:10\n",
      "Ep.: 355, Ep.Steps: 1000, Score: 291.91, Avg.Score: 331.97, Time: 03:33:32\n",
      "Ep.: 356, Ep.Steps: 1000, Score: 428.84, Avg.Score: 336.21, Time: 03:34:54\n",
      "Ep.: 357, Ep.Steps: 1000, Score: 324.59, Avg.Score: 339.42, Time: 03:36:16\n",
      "Ep.: 358, Ep.Steps: 1000, Score: 644.24, Avg.Score: 345.82, Time: 03:37:36\n",
      "Ep.: 359, Ep.Steps: 1000, Score: 623.65, Avg.Score: 350.19, Time: 03:38:57\n",
      "Ep.: 360, Ep.Steps: 1000, Score: 606.47, Avg.Score: 351.69, Time: 03:40:18\n",
      "Ep.: 361, Ep.Steps: 1000, Score: 542.44, Avg.Score: 352.40, Time: 03:41:42\n",
      "Ep.: 362, Ep.Steps: 1000, Score: 629.62, Avg.Score: 352.50, Time: 03:43:03\n",
      "Ep.: 363, Ep.Steps: 21, Score: 3.21, Avg.Score: 347.62, Time: 03:43:05\n",
      "Ep.: 364, Ep.Steps: 32, Score: 5.75, Avg.Score: 343.13, Time: 03:43:07\n",
      "Ep.: 365, Ep.Steps: 20, Score: 3.20, Avg.Score: 338.35, Time: 03:43:09\n",
      "Ep.: 366, Ep.Steps: 20, Score: 1.23, Avg.Score: 334.22, Time: 03:43:10\n",
      "Ep.: 367, Ep.Steps: 20, Score: 3.85, Avg.Score: 329.95, Time: 03:43:12\n",
      "Ep.: 368, Ep.Steps: 21, Score: 1.91, Avg.Score: 324.85, Time: 03:43:14\n",
      "Ep.: 369, Ep.Steps: 1000, Score: 522.92, Avg.Score: 324.29, Time: 03:44:39\n",
      "Ep.: 370, Ep.Steps: 1000, Score: 654.40, Avg.Score: 325.51, Time: 03:46:00\n",
      "Ep.: 371, Ep.Steps: 1000, Score: 395.35, Avg.Score: 323.70, Time: 03:47:24\n",
      "Ep.: 372, Ep.Steps: 109, Score: 45.56, Avg.Score: 319.79, Time: 03:47:32\n",
      "Ep.: 373, Ep.Steps: 222, Score: 130.80, Avg.Score: 316.54, Time: 03:47:50\n",
      "Ep.: 374, Ep.Steps: 1000, Score: 421.77, Avg.Score: 314.73, Time: 03:49:13\n",
      "Ep.: 375, Ep.Steps: 1000, Score: 550.86, Avg.Score: 316.15, Time: 03:50:38\n",
      "Ep.: 376, Ep.Steps: 780, Score: 361.64, Avg.Score: 315.52, Time: 03:51:42\n",
      "Ep.: 377, Ep.Steps: 1000, Score: 309.54, Avg.Score: 314.51, Time: 03:53:05\n",
      "Ep.: 378, Ep.Steps: 1000, Score: 583.60, Avg.Score: 316.72, Time: 03:54:29\n",
      "Ep.: 379, Ep.Steps: 1000, Score: 572.86, Avg.Score: 317.86, Time: 03:55:53\n",
      "Ep.: 380, Ep.Steps: 69, Score: 35.51, Avg.Score: 315.58, Time: 03:55:59\n",
      "Ep.: 381, Ep.Steps: 1000, Score: 432.78, Avg.Score: 317.13, Time: 03:57:21\n",
      "Ep.: 382, Ep.Steps: 1000, Score: 199.73, Avg.Score: 316.24, Time: 03:58:46\n",
      "Ep.: 383, Ep.Steps: 1000, Score: 442.27, Avg.Score: 316.63, Time: 04:00:11\n",
      "Ep.: 384, Ep.Steps: 1000, Score: 460.33, Avg.Score: 316.44, Time: 04:01:34\n",
      "Ep.: 385, Ep.Steps: 1000, Score: 486.73, Avg.Score: 316.06, Time: 04:03:19\n",
      "Ep.: 386, Ep.Steps: 1000, Score: 463.30, Avg.Score: 317.85, Time: 04:04:53\n",
      "Ep.: 387, Ep.Steps: 1000, Score: 511.25, Avg.Score: 322.95, Time: 04:06:31\n",
      "Ep.: 388, Ep.Steps: 1000, Score: 565.38, Avg.Score: 324.78, Time: 04:08:01\n",
      "Ep.: 389, Ep.Steps: 502, Score: 293.37, Avg.Score: 327.70, Time: 04:08:57\n",
      "Ep.: 390, Ep.Steps: 1000, Score: 541.10, Avg.Score: 333.10, Time: 04:10:37\n",
      "Ep.: 391, Ep.Steps: 1000, Score: 507.85, Avg.Score: 338.16, Time: 04:12:14\n",
      "Ep.: 392, Ep.Steps: 1000, Score: 543.64, Avg.Score: 343.58, Time: 04:13:54\n",
      "Ep.: 393, Ep.Steps: 1000, Score: 581.56, Avg.Score: 348.13, Time: 04:15:36\n",
      "Ep.: 394, Ep.Steps: 1000, Score: 577.11, Avg.Score: 353.89, Time: 04:17:05\n",
      "Ep.: 395, Ep.Steps: 1000, Score: 561.37, Avg.Score: 356.49, Time: 04:18:40\n",
      "Ep.: 396, Ep.Steps: 1000, Score: 518.56, Avg.Score: 361.66, Time: 04:20:09\n",
      "Ep.: 397, Ep.Steps: 57, Score: 24.07, Avg.Score: 361.87, Time: 04:20:13\n",
      "Ep.: 398, Ep.Steps: 1000, Score: 520.10, Avg.Score: 366.08, Time: 04:21:47\n",
      "Ep.: 399, Ep.Steps: 1000, Score: 475.53, Avg.Score: 369.16, Time: 04:23:18\n",
      "Ep.: 400, Ep.Steps: 1000, Score: 428.71, Avg.Score: 373.43, Time: 04:24:46\n",
      "Ep.: 401, Ep.Steps: 1000, Score: 407.34, Avg.Score: 374.97, Time: 04:26:24\n",
      "Ep.: 402, Ep.Steps: 1000, Score: 536.45, Avg.Score: 378.75, Time: 04:27:55\n",
      "Ep.: 403, Ep.Steps: 1000, Score: 399.11, Avg.Score: 377.32, Time: 04:29:31\n",
      "Ep.: 404, Ep.Steps: 1000, Score: 373.98, Avg.Score: 381.03, Time: 04:31:00\n",
      "Ep.: 405, Ep.Steps: 1000, Score: 570.47, Avg.Score: 386.72, Time: 04:32:30\n",
      "Ep.: 406, Ep.Steps: 1000, Score: 574.07, Avg.Score: 387.29, Time: 04:34:05\n",
      "Ep.: 407, Ep.Steps: 1000, Score: 465.94, Avg.Score: 387.18, Time: 04:35:33\n",
      "Ep.: 408, Ep.Steps: 1000, Score: 645.53, Avg.Score: 393.60, Time: 04:37:10\n",
      "Ep.: 409, Ep.Steps: 1000, Score: 540.34, Avg.Score: 398.97, Time: 04:38:38\n",
      "Ep.: 410, Ep.Steps: 1000, Score: 659.94, Avg.Score: 403.57, Time: 04:40:05\n",
      "Ep.: 411, Ep.Steps: 1000, Score: 489.08, Avg.Score: 408.43, Time: 04:41:42\n",
      "Ep.: 412, Ep.Steps: 1000, Score: 441.40, Avg.Score: 412.80, Time: 04:43:11\n",
      "Ep.: 413, Ep.Steps: 1000, Score: 531.46, Avg.Score: 418.07, Time: 04:44:54\n",
      "Ep.: 414, Ep.Steps: 1000, Score: 677.38, Avg.Score: 419.72, Time: 04:46:22\n",
      "Ep.: 415, Ep.Steps: 1000, Score: 453.40, Avg.Score: 419.76, Time: 04:47:57\n",
      "Ep.: 416, Ep.Steps: 1000, Score: 354.22, Avg.Score: 419.50, Time: 04:49:25\n",
      "Ep.: 417, Ep.Steps: 1000, Score: 627.97, Avg.Score: 418.98, Time: 04:51:04\n",
      "Ep.: 418, Ep.Steps: 1000, Score: 371.31, Avg.Score: 417.24, Time: 04:52:27\n",
      "Ep.: 419, Ep.Steps: 1000, Score: 503.29, Avg.Score: 415.99, Time: 04:53:50\n",
      "Ep.: 420, Ep.Steps: 1000, Score: 657.11, Avg.Score: 418.90, Time: 04:55:26\n",
      "Ep.: 421, Ep.Steps: 1000, Score: 629.79, Avg.Score: 418.86, Time: 04:56:49\n",
      "Ep.: 422, Ep.Steps: 1000, Score: 537.22, Avg.Score: 420.07, Time: 04:58:21\n",
      "Ep.: 423, Ep.Steps: 1000, Score: 635.38, Avg.Score: 419.83, Time: 04:59:44\n",
      "Ep.: 424, Ep.Steps: 131, Score: 68.72, Avg.Score: 413.62, Time: 04:59:55\n",
      "Ep.: 425, Ep.Steps: 1000, Score: 515.74, Avg.Score: 414.03, Time: 05:01:26\n",
      "Ep.: 426, Ep.Steps: 1000, Score: 636.84, Avg.Score: 414.77, Time: 05:02:47\n",
      "Ep.: 427, Ep.Steps: 1000, Score: 593.09, Avg.Score: 416.53, Time: 05:04:10\n",
      "Ep.: 428, Ep.Steps: 1000, Score: 651.38, Avg.Score: 415.57, Time: 05:05:42\n",
      "Ep.: 429, Ep.Steps: 1000, Score: 601.89, Avg.Score: 418.08, Time: 05:07:04\n",
      "Ep.: 430, Ep.Steps: 1000, Score: 754.21, Avg.Score: 425.00, Time: 05:08:35\n",
      "Ep.: 431, Ep.Steps: 1000, Score: 719.63, Avg.Score: 426.03, Time: 05:10:12\n",
      "Ep.: 432, Ep.Steps: 1000, Score: 478.32, Avg.Score: 429.95, Time: 05:11:37\n",
      "Ep.: 433, Ep.Steps: 1000, Score: 621.79, Avg.Score: 435.54, Time: 05:13:13\n",
      "Ep.: 434, Ep.Steps: 1000, Score: 706.81, Avg.Score: 441.85, Time: 05:14:43\n",
      "Ep.: 435, Ep.Steps: 1000, Score: 476.28, Avg.Score: 439.35, Time: 05:16:21\n",
      "Ep.: 436, Ep.Steps: 1000, Score: 705.59, Avg.Score: 445.93, Time: 05:17:46\n",
      "Ep.: 437, Ep.Steps: 1000, Score: 679.75, Avg.Score: 447.91, Time: 05:19:23\n",
      "Ep.: 438, Ep.Steps: 20, Score: 5.05, Avg.Score: 441.39, Time: 05:19:24\n",
      "Ep.: 439, Ep.Steps: 20, Score: 4.60, Avg.Score: 438.30, Time: 05:19:26\n",
      "Ep.: 440, Ep.Steps: 20, Score: 3.65, Avg.Score: 435.27, Time: 05:19:28\n",
      "Ep.: 441, Ep.Steps: 20, Score: 5.61, Avg.Score: 428.12, Time: 05:19:30\n",
      "Ep.: 442, Ep.Steps: 21, Score: 6.22, Avg.Score: 423.64, Time: 05:19:32\n",
      "Ep.: 443, Ep.Steps: 21, Score: 5.66, Avg.Score: 420.31, Time: 05:19:34\n",
      "Ep.: 444, Ep.Steps: 426, Score: 197.17, Avg.Score: 417.67, Time: 05:20:11\n",
      "Ep.: 445, Ep.Steps: 20, Score: 3.34, Avg.Score: 413.17, Time: 05:20:12\n",
      "Ep.: 446, Ep.Steps: 20, Score: 4.11, Avg.Score: 413.18, Time: 05:20:14\n",
      "Ep.: 447, Ep.Steps: 20, Score: 3.86, Avg.Score: 407.04, Time: 05:20:16\n",
      "Ep.: 448, Ep.Steps: 20, Score: 3.39, Avg.Score: 403.49, Time: 05:20:17\n",
      "Ep.: 449, Ep.Steps: 20, Score: 2.64, Avg.Score: 400.23, Time: 05:20:19\n",
      "Ep.: 450, Ep.Steps: 20, Score: 3.35, Avg.Score: 397.11, Time: 05:20:21\n",
      "Ep.: 451, Ep.Steps: 20, Score: 3.19, Avg.Score: 396.34, Time: 05:20:23\n",
      "Ep.: 452, Ep.Steps: 20, Score: 2.14, Avg.Score: 393.36, Time: 05:20:24\n",
      "Ep.: 453, Ep.Steps: 20, Score: 4.16, Avg.Score: 389.45, Time: 05:20:26\n"
     ]
    },
    {
     "name": "stdout",
     "output_type": "stream",
     "text": [
      "Ep.: 454, Ep.Steps: 20, Score: 5.59, Avg.Score: 383.86, Time: 05:20:28\n",
      "Ep.: 455, Ep.Steps: 20, Score: 5.08, Avg.Score: 381.00, Time: 05:20:30\n",
      "Ep.: 456, Ep.Steps: 20, Score: 4.20, Avg.Score: 376.75, Time: 05:20:32\n",
      "Ep.: 457, Ep.Steps: 20, Score: 6.21, Avg.Score: 373.57, Time: 05:20:33\n",
      "Ep.: 458, Ep.Steps: 20, Score: 3.31, Avg.Score: 367.16, Time: 05:20:35\n",
      "Ep.: 459, Ep.Steps: 20, Score: 2.47, Avg.Score: 360.94, Time: 05:20:37\n",
      "Ep.: 460, Ep.Steps: 20, Score: 2.31, Avg.Score: 354.90, Time: 05:20:38\n",
      "Ep.: 461, Ep.Steps: 20, Score: 4.34, Avg.Score: 349.52, Time: 05:20:40\n",
      "Ep.: 462, Ep.Steps: 20, Score: 5.41, Avg.Score: 343.28, Time: 05:20:42\n",
      "Ep.: 463, Ep.Steps: 20, Score: 3.28, Avg.Score: 343.28, Time: 05:20:43\n",
      "Ep.: 464, Ep.Steps: 20, Score: 4.33, Avg.Score: 343.27, Time: 05:20:45\n",
      "Ep.: 465, Ep.Steps: 20, Score: 2.56, Avg.Score: 343.26, Time: 05:20:47\n",
      "Ep.: 466, Ep.Steps: 20, Score: 4.68, Avg.Score: 343.29, Time: 05:20:49\n",
      "Ep.: 467, Ep.Steps: 20, Score: 2.40, Avg.Score: 343.28, Time: 05:20:50\n",
      "Ep.: 468, Ep.Steps: 25, Score: 5.55, Avg.Score: 343.32, Time: 05:20:52\n",
      "Ep.: 469, Ep.Steps: 20, Score: 4.31, Avg.Score: 338.13, Time: 05:20:54\n",
      "Ep.: 470, Ep.Steps: 20, Score: 5.44, Avg.Score: 331.64, Time: 05:20:55\n",
      "Ep.: 471, Ep.Steps: 24, Score: 2.52, Avg.Score: 327.71, Time: 05:20:58\n",
      "Ep.: 472, Ep.Steps: 20, Score: 2.09, Avg.Score: 327.28, Time: 05:21:01\n",
      "Ep.: 473, Ep.Steps: 20, Score: 3.37, Avg.Score: 326.00, Time: 05:21:03\n",
      "Ep.: 474, Ep.Steps: 20, Score: 3.85, Avg.Score: 321.82, Time: 05:21:04\n",
      "Ep.: 475, Ep.Steps: 20, Score: 1.52, Avg.Score: 316.33, Time: 05:21:06\n",
      "Ep.: 476, Ep.Steps: 20, Score: 5.56, Avg.Score: 312.77, Time: 05:21:08\n",
      "Ep.: 477, Ep.Steps: 20, Score: 1.80, Avg.Score: 309.69, Time: 05:21:10\n",
      "Ep.: 478, Ep.Steps: 20, Score: 4.70, Avg.Score: 303.90, Time: 05:21:11\n",
      "Ep.: 479, Ep.Steps: 20, Score: 3.79, Avg.Score: 298.21, Time: 05:21:14\n",
      "Ep.: 480, Ep.Steps: 20, Score: 5.84, Avg.Score: 297.92, Time: 05:21:16\n",
      "Ep.: 481, Ep.Steps: 20, Score: 3.54, Avg.Score: 293.62, Time: 05:21:18\n",
      "Ep.: 482, Ep.Steps: 20, Score: 3.77, Avg.Score: 291.66, Time: 05:21:21\n",
      "Ep.: 483, Ep.Steps: 20, Score: 2.85, Avg.Score: 287.27, Time: 05:21:23\n",
      "Ep.: 484, Ep.Steps: 20, Score: 3.80, Avg.Score: 282.70, Time: 05:21:25\n",
      "Ep.: 485, Ep.Steps: 21, Score: 1.03, Avg.Score: 277.85, Time: 05:21:28\n",
      "Ep.: 486, Ep.Steps: 20, Score: 2.32, Avg.Score: 273.24, Time: 05:21:31\n",
      "Ep.: 487, Ep.Steps: 21, Score: 3.99, Avg.Score: 268.16, Time: 05:21:34\n",
      "Ep.: 488, Ep.Steps: 391, Score: 197.66, Avg.Score: 264.49, Time: 05:22:10\n",
      "Ep.: 489, Ep.Steps: 20, Score: 2.04, Avg.Score: 261.57, Time: 05:22:12\n",
      "Ep.: 490, Ep.Steps: 21, Score: 1.96, Avg.Score: 256.18, Time: 05:22:13\n",
      "Ep.: 491, Ep.Steps: 305, Score: 143.05, Avg.Score: 252.54, Time: 05:22:44\n",
      "Ep.: 492, Ep.Steps: 20, Score: 4.34, Avg.Score: 247.14, Time: 05:22:45\n",
      "Ep.: 493, Ep.Steps: 1000, Score: 712.04, Avg.Score: 248.45, Time: 05:24:22\n",
      "Ep.: 494, Ep.Steps: 1000, Score: 570.15, Avg.Score: 248.38, Time: 05:25:58\n",
      "Ep.: 495, Ep.Steps: 45, Score: 11.81, Avg.Score: 242.88, Time: 05:26:02\n",
      "Ep.: 496, Ep.Steps: 95, Score: 33.64, Avg.Score: 238.03, Time: 05:26:11\n",
      "Ep.: 497, Ep.Steps: 1000, Score: 358.80, Avg.Score: 241.38, Time: 05:27:36\n",
      "Ep.: 498, Ep.Steps: 21, Score: 3.69, Avg.Score: 236.22, Time: 05:27:38\n",
      "Ep.: 499, Ep.Steps: 1000, Score: 465.40, Avg.Score: 236.11, Time: 05:29:14\n",
      "Ep.: 500, Ep.Steps: 53, Score: 15.88, Avg.Score: 231.99, Time: 05:29:19\n",
      "Ep.: 501, Ep.Steps: 1000, Score: 486.28, Avg.Score: 232.78, Time: 05:30:45\n",
      "Ep.: 502, Ep.Steps: 1000, Score: 591.71, Avg.Score: 233.33, Time: 05:32:20\n",
      "Ep.: 503, Ep.Steps: 1000, Score: 773.94, Avg.Score: 237.08, Time: 05:33:56\n",
      "Ep.: 504, Ep.Steps: 1000, Score: 783.87, Avg.Score: 241.18, Time: 05:35:24\n",
      "Ep.: 505, Ep.Steps: 1000, Score: 629.19, Avg.Score: 241.76, Time: 05:37:00\n",
      "Ep.: 506, Ep.Steps: 1000, Score: 674.46, Avg.Score: 242.77, Time: 05:38:27\n",
      "Ep.: 507, Ep.Steps: 1000, Score: 801.34, Avg.Score: 246.12, Time: 05:39:57\n",
      "Ep.: 508, Ep.Steps: 1000, Score: 484.63, Avg.Score: 244.51, Time: 05:41:23\n",
      "Ep.: 509, Ep.Steps: 1000, Score: 567.97, Avg.Score: 244.79, Time: 05:43:01\n",
      "Ep.: 510, Ep.Steps: 1000, Score: 613.06, Avg.Score: 244.32, Time: 05:44:30\n",
      "Ep.: 511, Ep.Steps: 1000, Score: 503.00, Avg.Score: 244.46, Time: 05:45:57\n",
      "Ep.: 512, Ep.Steps: 1000, Score: 805.96, Avg.Score: 248.10, Time: 05:47:26\n",
      "Ep.: 513, Ep.Steps: 1000, Score: 556.07, Avg.Score: 248.35, Time: 05:48:59\n",
      "Ep.: 514, Ep.Steps: 1000, Score: 607.48, Avg.Score: 247.65, Time: 05:50:25\n",
      "Ep.: 515, Ep.Steps: 1000, Score: 732.79, Avg.Score: 250.44, Time: 05:52:00\n",
      "Ep.: 516, Ep.Steps: 1000, Score: 494.45, Avg.Score: 251.85, Time: 05:53:32\n",
      "Ep.: 517, Ep.Steps: 1000, Score: 467.16, Avg.Score: 250.24, Time: 05:54:59\n",
      "Ep.: 518, Ep.Steps: 1000, Score: 694.01, Avg.Score: 253.47, Time: 05:56:36\n",
      "Ep.: 519, Ep.Steps: 1000, Score: 610.85, Avg.Score: 254.54, Time: 05:58:02\n",
      "Ep.: 520, Ep.Steps: 1000, Score: 710.60, Avg.Score: 255.08, Time: 05:59:34\n",
      "Ep.: 521, Ep.Steps: 1000, Score: 541.90, Avg.Score: 254.20, Time: 06:01:11\n",
      "Ep.: 522, Ep.Steps: 1000, Score: 370.21, Avg.Score: 252.53, Time: 06:02:36\n",
      "Ep.: 523, Ep.Steps: 1000, Score: 685.87, Avg.Score: 253.03, Time: 06:04:08\n",
      "Ep.: 524, Ep.Steps: 1000, Score: 585.42, Avg.Score: 258.20, Time: 06:05:44\n",
      "Ep.: 525, Ep.Steps: 1000, Score: 634.83, Avg.Score: 259.39, Time: 06:07:09\n",
      "Ep.: 526, Ep.Steps: 1000, Score: 458.30, Avg.Score: 257.60, Time: 06:08:36\n",
      "Ep.: 527, Ep.Steps: 1000, Score: 603.53, Avg.Score: 257.71, Time: 06:10:03\n",
      "Ep.: 528, Ep.Steps: 1000, Score: 637.72, Avg.Score: 257.57, Time: 06:11:29\n",
      "Ep.: 529, Ep.Steps: 1000, Score: 521.21, Avg.Score: 256.77, Time: 06:13:05\n",
      "Ep.: 530, Ep.Steps: 1000, Score: 624.55, Avg.Score: 255.47, Time: 06:14:41\n",
      "Ep.: 531, Ep.Steps: 1000, Score: 606.35, Avg.Score: 254.34, Time: 06:16:09\n",
      "Ep.: 532, Ep.Steps: 1000, Score: 506.88, Avg.Score: 254.62, Time: 06:17:37\n",
      "Ep.: 533, Ep.Steps: 1000, Score: 612.61, Avg.Score: 254.53, Time: 06:19:04\n",
      "Ep.: 534, Ep.Steps: 1000, Score: 540.40, Avg.Score: 252.87, Time: 06:20:41\n",
      "Ep.: 535, Ep.Steps: 65, Score: 31.60, Avg.Score: 248.42, Time: 06:20:47\n",
      "Ep.: 536, Ep.Steps: 285, Score: 189.31, Avg.Score: 243.26, Time: 06:21:13\n",
      "Ep.: 537, Ep.Steps: 216, Score: 84.31, Avg.Score: 237.30, Time: 06:21:31\n",
      "Ep.: 538, Ep.Steps: 271, Score: 129.25, Avg.Score: 238.54, Time: 06:21:54\n",
      "Ep.: 539, Ep.Steps: 64, Score: 25.47, Avg.Score: 238.75, Time: 06:22:00\n",
      "Ep.: 540, Ep.Steps: 58, Score: 31.96, Avg.Score: 239.04, Time: 06:22:05\n",
      "Ep.: 541, Ep.Steps: 152, Score: 86.19, Avg.Score: 239.84, Time: 06:22:19\n",
      "Ep.: 542, Ep.Steps: 172, Score: 100.85, Avg.Score: 240.79, Time: 06:22:33\n",
      "Ep.: 543, Ep.Steps: 197, Score: 103.69, Avg.Score: 241.77, Time: 06:22:50\n",
      "Ep.: 544, Ep.Steps: 687, Score: 327.22, Avg.Score: 243.07, Time: 06:23:50\n",
      "Ep.: 545, Ep.Steps: 1000, Score: 745.48, Avg.Score: 250.49, Time: 06:25:18\n",
      "Ep.: 546, Ep.Steps: 1000, Score: 479.33, Avg.Score: 255.24, Time: 06:26:45\n",
      "Ep.: 547, Ep.Steps: 324, Score: 156.60, Avg.Score: 256.77, Time: 06:27:13\n",
      "Ep.: 548, Ep.Steps: 1000, Score: 500.48, Avg.Score: 261.74, Time: 06:28:40\n",
      "Ep.: 549, Ep.Steps: 245, Score: 108.48, Avg.Score: 262.80, Time: 06:29:03\n",
      "Ep.: 550, Ep.Steps: 629, Score: 348.45, Avg.Score: 266.25, Time: 06:29:58\n",
      "Ep.: 551, Ep.Steps: 59, Score: 28.75, Avg.Score: 266.51, Time: 06:30:03\n",
      "Ep.: 552, Ep.Steps: 1000, Score: 575.95, Avg.Score: 272.24, Time: 06:31:28\n",
      "Ep.: 553, Ep.Steps: 770, Score: 349.80, Avg.Score: 275.70, Time: 06:32:35\n",
      "Ep.: 554, Ep.Steps: 403, Score: 209.99, Avg.Score: 277.74, Time: 06:33:10\n",
      "Ep.: 555, Ep.Steps: 55, Score: 27.59, Avg.Score: 277.97, Time: 06:33:15\n",
      "Ep.: 556, Ep.Steps: 210, Score: 125.70, Avg.Score: 279.18, Time: 06:33:34\n",
      "Ep.: 557, Ep.Steps: 585, Score: 281.91, Avg.Score: 281.94, Time: 06:34:26\n",
      "Ep.: 558, Ep.Steps: 53, Score: 20.32, Avg.Score: 282.11, Time: 06:34:31\n",
      "Ep.: 559, Ep.Steps: 112, Score: 42.05, Avg.Score: 282.51, Time: 06:34:40\n",
      "Ep.: 560, Ep.Steps: 781, Score: 441.40, Avg.Score: 286.90, Time: 06:35:49\n",
      "Ep.: 561, Ep.Steps: 55, Score: 25.24, Avg.Score: 287.11, Time: 06:35:53\n",
      "Ep.: 562, Ep.Steps: 244, Score: 131.13, Avg.Score: 288.36, Time: 06:36:15\n",
      "Ep.: 563, Ep.Steps: 511, Score: 243.97, Avg.Score: 290.77, Time: 06:36:59\n",
      "Ep.: 564, Ep.Steps: 1000, Score: 451.40, Avg.Score: 295.24, Time: 06:38:26\n",
      "Ep.: 565, Ep.Steps: 1000, Score: 509.64, Avg.Score: 300.31, Time: 06:39:53\n"
     ]
    },
    {
     "name": "stdout",
     "output_type": "stream",
     "text": [
      "Ep.: 566, Ep.Steps: 484, Score: 213.95, Avg.Score: 302.41, Time: 06:40:35\n",
      "Ep.: 567, Ep.Steps: 1000, Score: 703.40, Avg.Score: 309.42, Time: 06:42:01\n",
      "Ep.: 568, Ep.Steps: 1000, Score: 627.49, Avg.Score: 315.63, Time: 06:43:29\n",
      "Ep.: 569, Ep.Steps: 1000, Score: 602.74, Avg.Score: 321.62, Time: 06:44:59\n",
      "Ep.: 570, Ep.Steps: 551, Score: 284.62, Avg.Score: 324.41, Time: 06:45:47\n",
      "Ep.: 571, Ep.Steps: 1000, Score: 617.41, Avg.Score: 330.56, Time: 06:47:16\n",
      "Ep.: 572, Ep.Steps: 694, Score: 461.74, Avg.Score: 335.16, Time: 06:48:16\n",
      "Ep.: 573, Ep.Steps: 20, Score: 4.10, Avg.Score: 335.16, Time: 06:48:18\n",
      "Ep.: 574, Ep.Steps: 20, Score: 3.65, Avg.Score: 335.16, Time: 06:48:20\n",
      "Ep.: 575, Ep.Steps: 20, Score: 4.79, Avg.Score: 335.19, Time: 06:48:21\n",
      "Ep.: 576, Ep.Steps: 21, Score: 3.10, Avg.Score: 335.17, Time: 06:48:23\n",
      "Ep.: 577, Ep.Steps: 20, Score: 3.18, Avg.Score: 335.18, Time: 06:48:24\n",
      "Ep.: 578, Ep.Steps: 1000, Score: 420.06, Avg.Score: 339.34, Time: 06:49:53\n",
      "Ep.: 579, Ep.Steps: 1000, Score: 557.48, Avg.Score: 344.87, Time: 06:51:17\n",
      "Ep.: 580, Ep.Steps: 1000, Score: 511.31, Avg.Score: 349.93, Time: 06:52:44\n",
      "Ep.: 581, Ep.Steps: 1000, Score: 442.63, Avg.Score: 354.32, Time: 06:54:09\n",
      "Ep.: 582, Ep.Steps: 1000, Score: 680.74, Avg.Score: 361.09, Time: 06:55:43\n",
      "Ep.: 583, Ep.Steps: 1000, Score: 671.06, Avg.Score: 367.77, Time: 06:57:13\n",
      "Ep.: 584, Ep.Steps: 1000, Score: 593.00, Avg.Score: 373.66, Time: 06:58:31\n",
      "Ep.: 585, Ep.Steps: 1000, Score: 351.57, Avg.Score: 377.17, Time: 06:59:55\n",
      "Ep.: 586, Ep.Steps: 1000, Score: 683.11, Avg.Score: 383.98, Time: 07:01:21\n",
      "Ep.: 587, Ep.Steps: 1000, Score: 343.43, Avg.Score: 387.37, Time: 07:02:42\n",
      "Ep.: 588, Ep.Steps: 1000, Score: 648.56, Avg.Score: 391.88, Time: 07:04:04\n",
      "Ep.: 589, Ep.Steps: 1000, Score: 521.04, Avg.Score: 397.07, Time: 07:05:31\n",
      "Ep.: 590, Ep.Steps: 1000, Score: 684.21, Avg.Score: 403.89, Time: 07:06:57\n",
      "Ep.: 591, Ep.Steps: 1000, Score: 517.10, Avg.Score: 407.63, Time: 07:08:24\n",
      "Ep.: 592, Ep.Steps: 1000, Score: 594.12, Avg.Score: 413.53, Time: 07:09:51\n",
      "Ep.: 593, Ep.Steps: 1000, Score: 401.23, Avg.Score: 410.42, Time: 07:11:19\n",
      "Ep.: 594, Ep.Steps: 1000, Score: 684.41, Avg.Score: 411.57, Time: 07:12:45\n",
      "Ep.: 595, Ep.Steps: 1000, Score: 700.62, Avg.Score: 418.45, Time: 07:14:12\n",
      "Ep.: 596, Ep.Steps: 1000, Score: 793.35, Avg.Score: 426.05, Time: 07:15:39\n",
      "Ep.: 597, Ep.Steps: 1000, Score: 815.37, Avg.Score: 430.62, Time: 07:17:07\n",
      "Ep.: 598, Ep.Steps: 1000, Score: 427.40, Avg.Score: 434.85, Time: 07:18:35\n",
      "Ep.: 599, Ep.Steps: 1000, Score: 751.01, Avg.Score: 437.71, Time: 07:20:01\n",
      "Ep.: 600, Ep.Steps: 1000, Score: 456.32, Avg.Score: 442.11, Time: 07:21:28\n",
      "Ep.: 601, Ep.Steps: 1000, Score: 364.45, Avg.Score: 440.90, Time: 07:22:55\n",
      "Ep.: 602, Ep.Steps: 1000, Score: 330.37, Avg.Score: 438.28, Time: 07:24:21\n",
      "Ep.: 603, Ep.Steps: 1000, Score: 485.09, Avg.Score: 435.39, Time: 07:25:48\n",
      "Ep.: 604, Ep.Steps: 1000, Score: 378.89, Avg.Score: 431.34, Time: 07:27:15\n",
      "Ep.: 605, Ep.Steps: 1000, Score: 616.38, Avg.Score: 431.22, Time: 07:28:42\n",
      "Ep.: 606, Ep.Steps: 1000, Score: 449.66, Avg.Score: 428.97, Time: 07:30:13\n",
      "Ep.: 607, Ep.Steps: 1000, Score: 569.05, Avg.Score: 426.64, Time: 07:31:40\n",
      "Ep.: 608, Ep.Steps: 1000, Score: 461.31, Avg.Score: 426.41, Time: 07:33:06\n",
      "Ep.: 609, Ep.Steps: 1000, Score: 719.76, Avg.Score: 427.93, Time: 07:34:32\n",
      "Ep.: 610, Ep.Steps: 1000, Score: 610.64, Avg.Score: 427.91, Time: 07:35:59\n",
      "Ep.: 611, Ep.Steps: 1000, Score: 396.10, Avg.Score: 426.84, Time: 07:37:24\n",
      "Ep.: 612, Ep.Steps: 1000, Score: 485.61, Avg.Score: 423.63, Time: 07:38:53\n",
      "Ep.: 613, Ep.Steps: 1000, Score: 472.72, Avg.Score: 422.80, Time: 07:40:19\n",
      "Ep.: 614, Ep.Steps: 1000, Score: 449.89, Avg.Score: 421.22, Time: 07:41:46\n",
      "Ep.: 615, Ep.Steps: 1000, Score: 539.25, Avg.Score: 419.29, Time: 07:43:13\n",
      "Ep.: 616, Ep.Steps: 1000, Score: 649.93, Avg.Score: 420.84, Time: 07:44:39\n",
      "Ep.: 617, Ep.Steps: 1000, Score: 693.96, Avg.Score: 423.11, Time: 07:46:06\n",
      "Ep.: 618, Ep.Steps: 1000, Score: 617.67, Avg.Score: 422.35, Time: 07:47:33\n",
      "Ep.: 619, Ep.Steps: 1000, Score: 464.96, Avg.Score: 420.89, Time: 07:49:00\n",
      "Ep.: 620, Ep.Steps: 1000, Score: 633.15, Avg.Score: 420.11, Time: 07:50:36\n",
      "Ep.: 621, Ep.Steps: 1000, Score: 415.63, Avg.Score: 418.85, Time: 07:52:02\n",
      "Ep.: 622, Ep.Steps: 1000, Score: 692.57, Avg.Score: 422.07, Time: 07:53:29\n",
      "Ep.: 623, Ep.Steps: 1000, Score: 663.52, Avg.Score: 421.85, Time: 07:54:55\n",
      "Ep.: 624, Ep.Steps: 138, Score: 54.49, Avg.Score: 416.54, Time: 07:55:06\n",
      "Ep.: 625, Ep.Steps: 169, Score: 115.73, Avg.Score: 411.35, Time: 07:55:20\n",
      "Ep.: 626, Ep.Steps: 1000, Score: 664.02, Avg.Score: 413.41, Time: 07:56:46\n",
      "Ep.: 627, Ep.Steps: 1000, Score: 696.64, Avg.Score: 414.34, Time: 07:58:13\n",
      "Ep.: 628, Ep.Steps: 667, Score: 334.62, Avg.Score: 411.31, Time: 07:59:15\n",
      "Ep.: 629, Ep.Steps: 1000, Score: 541.81, Avg.Score: 411.51, Time: 08:00:52\n",
      "Ep.: 630, Ep.Steps: 612, Score: 336.60, Avg.Score: 408.63, Time: 08:02:30\n",
      "Ep.: 631, Ep.Steps: 338, Score: 204.94, Avg.Score: 404.62, Time: 08:03:24\n",
      "Ep.: 632, Ep.Steps: 657, Score: 383.12, Avg.Score: 403.38, Time: 08:04:49\n",
      "Ep.: 633, Ep.Steps: 216, Score: 133.36, Avg.Score: 398.59, Time: 08:05:19\n",
      "Ep.: 634, Ep.Steps: 411, Score: 218.98, Avg.Score: 395.38, Time: 08:06:12\n",
      "Ep.: 635, Ep.Steps: 292, Score: 134.03, Avg.Score: 396.40, Time: 08:06:47\n",
      "Ep.: 636, Ep.Steps: 1000, Score: 663.25, Avg.Score: 401.14, Time: 08:08:22\n",
      "Ep.: 637, Ep.Steps: 1000, Score: 479.13, Avg.Score: 405.09, Time: 08:09:58\n",
      "Ep.: 638, Ep.Steps: 1000, Score: 574.29, Avg.Score: 409.54, Time: 08:11:25\n",
      "Ep.: 639, Ep.Steps: 20, Score: 4.37, Avg.Score: 409.33, Time: 08:11:27\n",
      "Ep.: 640, Ep.Steps: 21, Score: 4.92, Avg.Score: 409.06, Time: 08:11:28\n",
      "Ep.: 641, Ep.Steps: 687, Score: 429.11, Avg.Score: 412.49, Time: 08:12:28\n",
      "Ep.: 642, Ep.Steps: 1000, Score: 513.88, Avg.Score: 416.62, Time: 08:14:03\n",
      "Ep.: 643, Ep.Steps: 1000, Score: 586.41, Avg.Score: 421.44, Time: 08:15:29\n",
      "Ep.: 644, Ep.Steps: 740, Score: 526.25, Avg.Score: 423.43, Time: 08:16:30\n",
      "Ep.: 645, Ep.Steps: 242, Score: 160.84, Avg.Score: 417.59, Time: 08:16:51\n",
      "Ep.: 646, Ep.Steps: 247, Score: 135.61, Avg.Score: 414.15, Time: 08:17:11\n",
      "Ep.: 647, Ep.Steps: 109, Score: 61.79, Avg.Score: 413.20, Time: 08:17:21\n",
      "Ep.: 648, Ep.Steps: 1000, Score: 738.92, Avg.Score: 415.59, Time: 08:18:46\n",
      "Ep.: 649, Ep.Steps: 797, Score: 474.82, Avg.Score: 419.25, Time: 08:19:53\n",
      "Ep.: 650, Ep.Steps: 830, Score: 578.03, Avg.Score: 421.55, Time: 08:21:04\n",
      "Ep.: 651, Ep.Steps: 1000, Score: 599.88, Avg.Score: 427.26, Time: 08:22:29\n",
      "Ep.: 652, Ep.Steps: 1000, Score: 439.20, Avg.Score: 425.89, Time: 08:23:53\n",
      "Ep.: 653, Ep.Steps: 1000, Score: 587.80, Avg.Score: 428.27, Time: 08:25:20\n",
      "Ep.: 654, Ep.Steps: 731, Score: 413.57, Avg.Score: 430.31, Time: 08:26:30\n",
      "Ep.: 655, Ep.Steps: 1000, Score: 677.58, Avg.Score: 436.81, Time: 08:27:53\n",
      "Ep.: 656, Ep.Steps: 1000, Score: 621.98, Avg.Score: 441.77, Time: 08:29:20\n",
      "Ep.: 657, Ep.Steps: 1000, Score: 598.17, Avg.Score: 444.93, Time: 08:30:45\n",
      "Ep.: 658, Ep.Steps: 1000, Score: 691.05, Avg.Score: 451.64, Time: 08:32:11\n",
      "Ep.: 659, Ep.Steps: 1000, Score: 611.13, Avg.Score: 457.33, Time: 08:33:36\n",
      "Ep.: 660, Ep.Steps: 1000, Score: 681.70, Avg.Score: 459.73, Time: 08:35:02\n",
      "Ep.: 661, Ep.Steps: 1000, Score: 638.23, Avg.Score: 465.86, Time: 08:36:28\n",
      "Ep.: 662, Ep.Steps: 1000, Score: 706.51, Avg.Score: 471.62, Time: 08:37:54\n",
      "Ep.: 663, Ep.Steps: 1000, Score: 477.60, Avg.Score: 473.95, Time: 08:39:20\n",
      "Ep.: 664, Ep.Steps: 1000, Score: 758.09, Avg.Score: 477.02, Time: 08:40:46\n",
      "Ep.: 665, Ep.Steps: 1000, Score: 772.82, Avg.Score: 479.65, Time: 08:42:10\n",
      "Ep.: 666, Ep.Steps: 1000, Score: 538.97, Avg.Score: 482.90, Time: 08:43:36\n",
      "Ep.: 667, Ep.Steps: 1000, Score: 471.08, Avg.Score: 480.58, Time: 08:45:05\n",
      "Ep.: 668, Ep.Steps: 1000, Score: 740.62, Avg.Score: 481.71, Time: 08:46:30\n",
      "Ep.: 669, Ep.Steps: 1000, Score: 583.89, Avg.Score: 481.52, Time: 08:47:56\n",
      "Ep.: 670, Ep.Steps: 1000, Score: 647.50, Avg.Score: 485.15, Time: 08:49:27\n",
      "Ep.: 671, Ep.Steps: 1000, Score: 768.87, Avg.Score: 486.67, Time: 08:50:51\n",
      "Ep.: 672, Ep.Steps: 1000, Score: 776.20, Avg.Score: 489.81, Time: 08:52:16\n",
      "Ep.: 673, Ep.Steps: 1000, Score: 684.30, Avg.Score: 496.61, Time: 08:53:41\n",
      "Ep.: 674, Ep.Steps: 1000, Score: 781.73, Avg.Score: 504.39, Time: 08:55:07\n",
      "Ep.: 675, Ep.Steps: 1000, Score: 608.36, Avg.Score: 510.43, Time: 08:56:32\n"
     ]
    },
    {
     "name": "stdout",
     "output_type": "stream",
     "text": [
      "Ep.: 676, Ep.Steps: 1000, Score: 787.01, Avg.Score: 518.27, Time: 08:57:57\n",
      "Ep.: 677, Ep.Steps: 1000, Score: 734.80, Avg.Score: 525.58, Time: 08:59:27\n",
      "Ep.: 678, Ep.Steps: 1000, Score: 647.11, Avg.Score: 527.85, Time: 09:00:54\n",
      "Ep.: 679, Ep.Steps: 1000, Score: 641.48, Avg.Score: 528.69, Time: 09:02:21\n",
      "Ep.: 680, Ep.Steps: 1000, Score: 716.27, Avg.Score: 530.74, Time: 09:03:45\n",
      "Ep.: 681, Ep.Steps: 1000, Score: 573.77, Avg.Score: 532.05, Time: 09:05:20\n",
      "Ep.: 682, Ep.Steps: 1000, Score: 576.89, Avg.Score: 531.02, Time: 09:06:46\n",
      "Ep.: 683, Ep.Steps: 1000, Score: 748.35, Avg.Score: 531.79, Time: 09:08:11\n",
      "Ep.: 684, Ep.Steps: 1000, Score: 635.75, Avg.Score: 532.22, Time: 09:09:35\n",
      "Ep.: 685, Ep.Steps: 1000, Score: 709.19, Avg.Score: 535.79, Time: 09:10:58\n",
      "Ep.: 686, Ep.Steps: 1000, Score: 490.89, Avg.Score: 533.87, Time: 09:12:25\n",
      "Ep.: 687, Ep.Steps: 1000, Score: 862.63, Avg.Score: 539.06, Time: 09:13:50\n",
      "Ep.: 688, Ep.Steps: 1000, Score: 443.88, Avg.Score: 537.02, Time: 09:15:18\n",
      "Ep.: 689, Ep.Steps: 1000, Score: 746.40, Avg.Score: 539.27, Time: 09:16:41\n",
      "Ep.: 690, Ep.Steps: 1000, Score: 761.58, Avg.Score: 540.04, Time: 09:18:05\n",
      "Ep.: 691, Ep.Steps: 1000, Score: 447.23, Avg.Score: 539.34, Time: 09:19:31\n",
      "Ep.: 692, Ep.Steps: 1000, Score: 727.15, Avg.Score: 540.67, Time: 09:20:59\n",
      "Ep.: 693, Ep.Steps: 1000, Score: 626.12, Avg.Score: 542.92, Time: 09:22:25\n",
      "Ep.: 694, Ep.Steps: 1000, Score: 781.22, Avg.Score: 543.89, Time: 09:23:50\n",
      "Ep.: 695, Ep.Steps: 1000, Score: 640.02, Avg.Score: 543.29, Time: 09:25:15\n",
      "Ep.: 696, Ep.Steps: 1000, Score: 601.49, Avg.Score: 541.37, Time: 09:26:42\n",
      "Ep.: 697, Ep.Steps: 1000, Score: 725.83, Avg.Score: 540.47, Time: 09:28:09\n",
      "Ep.: 698, Ep.Steps: 1000, Score: 721.10, Avg.Score: 543.41, Time: 09:29:37\n",
      "Ep.: 699, Ep.Steps: 1000, Score: 718.99, Avg.Score: 543.09, Time: 09:31:03\n",
      "Ep.: 700, Ep.Steps: 1000, Score: 662.89, Avg.Score: 545.15, Time: 09:32:27\n",
      "Ep.: 701, Ep.Steps: 1000, Score: 856.56, Avg.Score: 550.08, Time: 09:33:53\n",
      "Ep.: 702, Ep.Steps: 1000, Score: 697.15, Avg.Score: 553.74, Time: 09:35:15\n",
      "Ep.: 703, Ep.Steps: 1000, Score: 716.11, Avg.Score: 556.05, Time: 09:36:37\n",
      "Ep.: 704, Ep.Steps: 1000, Score: 747.38, Avg.Score: 559.74, Time: 09:37:59\n",
      "Ep.: 705, Ep.Steps: 1000, Score: 662.19, Avg.Score: 560.20, Time: 09:39:21\n",
      "Ep.: 706, Ep.Steps: 1000, Score: 589.13, Avg.Score: 561.59, Time: 09:40:43\n",
      "Ep.: 707, Ep.Steps: 1000, Score: 793.28, Avg.Score: 563.83, Time: 09:42:04\n",
      "Ep.: 708, Ep.Steps: 1000, Score: 773.72, Avg.Score: 566.96, Time: 09:43:24\n",
      "Ep.: 709, Ep.Steps: 1000, Score: 561.69, Avg.Score: 565.38, Time: 09:44:45\n",
      "Ep.: 710, Ep.Steps: 1000, Score: 768.83, Avg.Score: 566.96, Time: 09:46:07\n",
      "Ep.: 711, Ep.Steps: 1000, Score: 739.01, Avg.Score: 570.39, Time: 09:47:30\n",
      "Ep.: 712, Ep.Steps: 1000, Score: 689.36, Avg.Score: 572.43, Time: 09:48:50\n",
      "Ep.: 713, Ep.Steps: 1000, Score: 636.98, Avg.Score: 574.07, Time: 09:50:11\n",
      "Ep.: 714, Ep.Steps: 1000, Score: 726.12, Avg.Score: 576.83, Time: 09:51:35\n",
      "Ep.: 715, Ep.Steps: 1000, Score: 700.68, Avg.Score: 578.44, Time: 09:52:54\n",
      "Ep.: 716, Ep.Steps: 1000, Score: 538.20, Avg.Score: 577.33, Time: 09:54:15\n",
      "Ep.: 717, Ep.Steps: 106, Score: 67.70, Avg.Score: 571.06, Time: 09:54:24\n",
      "Ep.: 718, Ep.Steps: 1000, Score: 785.66, Avg.Score: 572.74, Time: 09:55:46\n",
      "Ep.: 719, Ep.Steps: 1000, Score: 550.05, Avg.Score: 573.60, Time: 09:57:04\n",
      "Ep.: 720, Ep.Steps: 1000, Score: 615.79, Avg.Score: 573.42, Time: 09:58:25\n",
      "Ep.: 721, Ep.Steps: 1000, Score: 682.89, Avg.Score: 576.09, Time: 09:59:51\n",
      "Ep.: 722, Ep.Steps: 1000, Score: 743.71, Avg.Score: 576.61, Time: 10:01:12\n",
      "Ep.: 723, Ep.Steps: 1000, Score: 683.43, Avg.Score: 576.81, Time: 10:02:35\n",
      "Ep.: 724, Ep.Steps: 1000, Score: 753.29, Avg.Score: 583.79, Time: 10:03:56\n",
      "Ep.: 725, Ep.Steps: 1000, Score: 784.51, Avg.Score: 590.48, Time: 10:05:19\n",
      "Ep.: 726, Ep.Steps: 1000, Score: 714.05, Avg.Score: 590.98, Time: 10:06:44\n",
      "Ep.: 727, Ep.Steps: 1000, Score: 547.15, Avg.Score: 589.49, Time: 10:08:08\n",
      "Ep.: 728, Ep.Steps: 1000, Score: 753.32, Avg.Score: 593.67, Time: 10:09:28\n",
      "Ep.: 729, Ep.Steps: 1000, Score: 724.33, Avg.Score: 595.50, Time: 10:10:49\n",
      "Ep.: 730, Ep.Steps: 1000, Score: 676.49, Avg.Score: 598.90, Time: 10:12:09\n",
      "Ep.: 731, Ep.Steps: 1000, Score: 708.65, Avg.Score: 603.93, Time: 10:13:34\n",
      "Ep.: 732, Ep.Steps: 1000, Score: 771.71, Avg.Score: 607.82, Time: 10:14:58\n",
      "Ep.: 733, Ep.Steps: 1000, Score: 842.19, Avg.Score: 614.91, Time: 10:16:21\n",
      "Ep.: 734, Ep.Steps: 1000, Score: 682.36, Avg.Score: 619.54, Time: 10:17:42\n",
      "Ep.: 735, Ep.Steps: 1000, Score: 759.83, Avg.Score: 625.80, Time: 10:19:05\n",
      "Ep.: 736, Ep.Steps: 1000, Score: 752.43, Avg.Score: 626.69, Time: 10:20:28\n",
      "Ep.: 737, Ep.Steps: 1000, Score: 673.15, Avg.Score: 628.63, Time: 10:21:49\n",
      "Ep.: 738, Ep.Steps: 1000, Score: 659.50, Avg.Score: 629.48, Time: 10:23:11\n",
      "Ep.: 739, Ep.Steps: 1000, Score: 494.36, Avg.Score: 634.38, Time: 10:24:34\n",
      "Ep.: 740, Ep.Steps: 1000, Score: 803.30, Avg.Score: 642.37, Time: 10:25:54\n",
      "Ep.: 741, Ep.Steps: 1000, Score: 831.53, Avg.Score: 646.39, Time: 10:27:17\n",
      "Ep.: 742, Ep.Steps: 1000, Score: 782.39, Avg.Score: 649.08, Time: 10:28:39\n",
      "Ep.: 743, Ep.Steps: 1000, Score: 771.03, Avg.Score: 650.92, Time: 10:30:04\n",
      "Ep.: 744, Ep.Steps: 1000, Score: 779.67, Avg.Score: 653.46, Time: 10:31:26\n",
      "Ep.: 745, Ep.Steps: 1000, Score: 761.50, Avg.Score: 659.46, Time: 10:32:47\n",
      "Ep.: 746, Ep.Steps: 1000, Score: 752.16, Avg.Score: 665.63, Time: 10:34:09\n",
      "Ep.: 747, Ep.Steps: 1000, Score: 626.78, Avg.Score: 671.28, Time: 10:35:30\n",
      "Ep.: 748, Ep.Steps: 1000, Score: 770.42, Avg.Score: 671.59, Time: 10:36:51\n",
      "Ep.: 749, Ep.Steps: 1000, Score: 760.85, Avg.Score: 674.46, Time: 10:38:12\n",
      "Ep.: 750, Ep.Steps: 1000, Score: 762.64, Avg.Score: 676.30, Time: 10:39:36\n",
      "Ep.: 751, Ep.Steps: 1000, Score: 723.63, Avg.Score: 677.54, Time: 10:40:58\n",
      "Ep.: 752, Ep.Steps: 1000, Score: 604.66, Avg.Score: 679.19, Time: 10:42:20\n",
      "Ep.: 753, Ep.Steps: 1000, Score: 707.01, Avg.Score: 680.39, Time: 10:43:42\n",
      "Ep.: 754, Ep.Steps: 1000, Score: 744.73, Avg.Score: 683.70, Time: 10:45:08\n",
      "Ep.: 755, Ep.Steps: 1000, Score: 757.40, Avg.Score: 684.50, Time: 10:46:28\n",
      "Ep.: 756, Ep.Steps: 1000, Score: 819.71, Avg.Score: 686.47, Time: 10:47:50\n",
      "Ep.: 757, Ep.Steps: 1000, Score: 816.09, Avg.Score: 688.65, Time: 10:49:12\n",
      "Ep.: 758, Ep.Steps: 1000, Score: 792.21, Avg.Score: 689.66, Time: 10:50:33\n",
      "Ep.: 759, Ep.Steps: 1000, Score: 694.12, Avg.Score: 690.49, Time: 10:51:56\n",
      "Ep.: 760, Ep.Steps: 1000, Score: 763.95, Avg.Score: 691.32, Time: 10:53:18\n",
      "Ep.: 761, Ep.Steps: 1000, Score: 935.38, Avg.Score: 694.29, Time: 10:54:41\n",
      "Ep.: 762, Ep.Steps: 1000, Score: 547.34, Avg.Score: 692.70, Time: 10:56:03\n",
      "Ep.: 763, Ep.Steps: 1000, Score: 874.87, Avg.Score: 696.67, Time: 10:57:30\n",
      "Ep.: 764, Ep.Steps: 1000, Score: 691.78, Avg.Score: 696.00, Time: 10:58:52\n",
      "Ep.: 765, Ep.Steps: 1000, Score: 938.12, Avg.Score: 697.66, Time: 11:00:14\n",
      "Ep.: 766, Ep.Steps: 1000, Score: 836.32, Avg.Score: 700.63, Time: 11:01:38\n",
      "Ep.: 767, Ep.Steps: 1000, Score: 727.96, Avg.Score: 703.20, Time: 11:03:00\n",
      "Ep.: 768, Ep.Steps: 1000, Score: 757.81, Avg.Score: 703.37, Time: 11:04:22\n",
      "Ep.: 769, Ep.Steps: 1000, Score: 665.99, Avg.Score: 704.19, Time: 11:05:45\n",
      "Ep.: 770, Ep.Steps: 1000, Score: 864.26, Avg.Score: 706.36, Time: 11:07:07\n",
      "Ep.: 771, Ep.Steps: 1000, Score: 678.86, Avg.Score: 705.46, Time: 11:08:26\n",
      "Ep.: 772, Ep.Steps: 1000, Score: 615.16, Avg.Score: 703.85, Time: 11:09:48\n",
      "Ep.: 773, Ep.Steps: 132, Score: 114.02, Avg.Score: 698.15, Time: 11:09:58\n",
      "Ep.: 774, Ep.Steps: 1000, Score: 835.00, Avg.Score: 698.68, Time: 11:11:17\n",
      "Ep.: 775, Ep.Steps: 1000, Score: 819.33, Avg.Score: 700.79, Time: 11:12:37\n",
      "Ep.: 776, Ep.Steps: 1000, Score: 857.84, Avg.Score: 701.50, Time: 11:13:57\n",
      "Ep.: 777, Ep.Steps: 1000, Score: 710.85, Avg.Score: 701.26, Time: 11:15:20\n",
      "Ep.: 778, Ep.Steps: 1000, Score: 691.23, Avg.Score: 701.70, Time: 11:16:42\n",
      "Ep.: 779, Ep.Steps: 1000, Score: 660.09, Avg.Score: 701.89, Time: 11:18:04\n",
      "Ep.: 780, Ep.Steps: 1000, Score: 773.91, Avg.Score: 702.46, Time: 11:19:25\n",
      "Ep.: 781, Ep.Steps: 1000, Score: 948.29, Avg.Score: 706.21, Time: 11:20:48\n",
      "Ep.: 782, Ep.Steps: 1000, Score: 714.29, Avg.Score: 707.58, Time: 11:22:10\n",
      "Ep.: 783, Ep.Steps: 1000, Score: 726.76, Avg.Score: 707.37, Time: 11:23:34\n",
      "Ep.: 784, Ep.Steps: 1000, Score: 861.20, Avg.Score: 709.62, Time: 11:24:57\n",
      "Ep.: 785, Ep.Steps: 1000, Score: 780.34, Avg.Score: 710.33, Time: 11:26:18\n"
     ]
    },
    {
     "name": "stdout",
     "output_type": "stream",
     "text": [
      "Ep.: 786, Ep.Steps: 1000, Score: 758.19, Avg.Score: 713.00, Time: 11:27:43\n",
      "Ep.: 787, Ep.Steps: 1000, Score: 873.21, Avg.Score: 713.11, Time: 11:29:05\n",
      "Ep.: 788, Ep.Steps: 1000, Score: 701.98, Avg.Score: 715.69, Time: 11:30:28\n",
      "Ep.: 789, Ep.Steps: 1000, Score: 475.00, Avg.Score: 712.98, Time: 11:31:49\n",
      "Ep.: 790, Ep.Steps: 1000, Score: 643.26, Avg.Score: 711.79, Time: 11:33:10\n",
      "Ep.: 791, Ep.Steps: 1000, Score: 634.95, Avg.Score: 713.67, Time: 11:34:33\n",
      "Ep.: 792, Ep.Steps: 1000, Score: 569.64, Avg.Score: 712.10, Time: 11:35:54\n",
      "Ep.: 793, Ep.Steps: 1000, Score: 861.39, Avg.Score: 714.45, Time: 11:37:16\n",
      "Ep.: 794, Ep.Steps: 1000, Score: 573.96, Avg.Score: 712.38, Time: 11:38:39\n",
      "Ep.: 795, Ep.Steps: 1000, Score: 913.00, Avg.Score: 715.11, Time: 11:39:59\n",
      "Ep.: 796, Ep.Steps: 1000, Score: 787.56, Avg.Score: 716.97, Time: 11:41:19\n",
      "Ep.: 797, Ep.Steps: 1000, Score: 681.45, Avg.Score: 716.52, Time: 11:42:41\n",
      "Ep.: 798, Ep.Steps: 1000, Score: 769.70, Avg.Score: 717.01, Time: 11:44:04\n",
      "Ep.: 799, Ep.Steps: 1000, Score: 825.46, Avg.Score: 718.07, Time: 11:45:27\n",
      "Ep.: 800, Ep.Steps: 1000, Score: 629.95, Avg.Score: 717.74, Time: 11:46:50\n",
      "Ep.: 801, Ep.Steps: 1000, Score: 796.85, Avg.Score: 717.15, Time: 11:48:12\n",
      "Ep.: 802, Ep.Steps: 1000, Score: 851.22, Avg.Score: 718.69, Time: 11:49:33\n",
      "Ep.: 803, Ep.Steps: 1000, Score: 750.04, Avg.Score: 719.03, Time: 11:50:53\n",
      "Ep.: 804, Ep.Steps: 1000, Score: 775.28, Avg.Score: 719.31, Time: 11:52:15\n",
      "Ep.: 805, Ep.Steps: 1000, Score: 763.41, Avg.Score: 720.32, Time: 11:53:37\n",
      "Ep.: 806, Ep.Steps: 1000, Score: 661.71, Avg.Score: 721.04, Time: 11:55:01\n",
      "Ep.: 807, Ep.Steps: 1000, Score: 753.50, Avg.Score: 720.65, Time: 11:56:33\n",
      "Ep.: 808, Ep.Steps: 1000, Score: 889.35, Avg.Score: 721.80, Time: 11:57:54\n",
      "Ep.: 809, Ep.Steps: 1000, Score: 707.41, Avg.Score: 723.26, Time: 11:59:23\n",
      "Ep.: 810, Ep.Steps: 1000, Score: 763.30, Avg.Score: 723.20, Time: 12:00:43\n",
      "Ep.: 811, Ep.Steps: 1000, Score: 822.01, Avg.Score: 724.03, Time: 12:02:04\n",
      "Ep.: 812, Ep.Steps: 1000, Score: 858.13, Avg.Score: 725.72, Time: 12:03:27\n",
      "Ep.: 813, Ep.Steps: 1000, Score: 955.64, Avg.Score: 728.91, Time: 12:04:47\n",
      "Ep.: 814, Ep.Steps: 1000, Score: 586.00, Avg.Score: 727.51, Time: 12:06:07\n",
      "Ep.: 815, Ep.Steps: 1000, Score: 687.31, Avg.Score: 727.37, Time: 12:07:28\n",
      "Ep.: 816, Ep.Steps: 1000, Score: 799.73, Avg.Score: 729.99, Time: 12:08:52\n",
      "Ep.: 817, Ep.Steps: 1000, Score: 808.96, Avg.Score: 737.40, Time: 12:10:13\n",
      "Ep.: 818, Ep.Steps: 1000, Score: 700.98, Avg.Score: 736.55, Time: 12:11:33\n",
      "Ep.: 819, Ep.Steps: 1000, Score: 746.39, Avg.Score: 738.52, Time: 12:12:53\n",
      "Ep.: 820, Ep.Steps: 1000, Score: 794.02, Avg.Score: 740.30, Time: 12:14:15\n",
      "Ep.: 821, Ep.Steps: 1000, Score: 799.32, Avg.Score: 741.46, Time: 12:15:36\n",
      "Ep.: 822, Ep.Steps: 1000, Score: 605.73, Avg.Score: 740.09, Time: 12:16:59\n",
      "Ep.: 823, Ep.Steps: 1000, Score: 564.17, Avg.Score: 738.89, Time: 12:18:22\n",
      "Ep.: 824, Ep.Steps: 1000, Score: 636.05, Avg.Score: 737.72, Time: 12:19:43\n",
      "Ep.: 825, Ep.Steps: 1000, Score: 869.85, Avg.Score: 738.57, Time: 12:21:05\n",
      "Ep.: 826, Ep.Steps: 1000, Score: 871.92, Avg.Score: 740.15, Time: 12:22:25\n",
      "Ep.: 827, Ep.Steps: 1000, Score: 939.54, Avg.Score: 744.08, Time: 12:23:47\n",
      "Ep.: 828, Ep.Steps: 1000, Score: 735.78, Avg.Score: 743.90, Time: 12:25:11\n",
      "Ep.: 829, Ep.Steps: 1000, Score: 718.97, Avg.Score: 743.85, Time: 12:26:32\n",
      "Ep.: 830, Ep.Steps: 1000, Score: 904.93, Avg.Score: 746.13, Time: 12:27:53\n",
      "Ep.: 831, Ep.Steps: 1000, Score: 805.89, Avg.Score: 747.10, Time: 12:29:17\n",
      "Ep.: 832, Ep.Steps: 1000, Score: 779.23, Avg.Score: 747.18, Time: 12:30:39\n",
      "Ep.: 833, Ep.Steps: 1000, Score: 738.24, Avg.Score: 746.14, Time: 12:32:01\n",
      "Ep.: 834, Ep.Steps: 1000, Score: 730.04, Avg.Score: 746.62, Time: 12:33:23\n",
      "Ep.: 835, Ep.Steps: 1000, Score: 660.00, Avg.Score: 745.62, Time: 12:34:44\n",
      "Ep.: 836, Ep.Steps: 1000, Score: 800.65, Avg.Score: 746.10, Time: 12:36:04\n",
      "Ep.: 837, Ep.Steps: 1000, Score: 940.91, Avg.Score: 748.78, Time: 12:37:24\n",
      "Ep.: 838, Ep.Steps: 1000, Score: 628.23, Avg.Score: 748.47, Time: 12:38:46\n",
      "Ep.: 839, Ep.Steps: 1000, Score: 870.93, Avg.Score: 752.23, Time: 12:40:08\n",
      "Ep.: 840, Ep.Steps: 1000, Score: 391.15, Avg.Score: 748.11, Time: 12:41:30\n",
      "Ep.: 841, Ep.Steps: 1000, Score: 646.29, Avg.Score: 746.26, Time: 12:42:48\n",
      "Ep.: 842, Ep.Steps: 1000, Score: 641.86, Avg.Score: 744.85, Time: 12:44:09\n",
      "Ep.: 843, Ep.Steps: 1000, Score: 837.96, Avg.Score: 745.52, Time: 12:45:29\n",
      "Ep.: 844, Ep.Steps: 1000, Score: 824.18, Avg.Score: 745.97, Time: 12:46:48\n",
      "Ep.: 845, Ep.Steps: 1000, Score: 963.51, Avg.Score: 747.99, Time: 12:48:07\n",
      "Ep.: 846, Ep.Steps: 1000, Score: 614.96, Avg.Score: 746.61, Time: 12:49:26\n",
      "Ep.: 847, Ep.Steps: 1000, Score: 850.41, Avg.Score: 748.85, Time: 12:50:50\n",
      "Ep.: 848, Ep.Steps: 1000, Score: 898.43, Avg.Score: 750.13, Time: 12:52:13\n",
      "Ep.: 849, Ep.Steps: 1000, Score: 766.18, Avg.Score: 750.18, Time: 12:53:36\n",
      "Ep.: 850, Ep.Steps: 1000, Score: 816.90, Avg.Score: 750.73, Time: 12:54:59\n",
      "Ep.: 851, Ep.Steps: 1000, Score: 741.50, Avg.Score: 750.91, Time: 12:56:20\n",
      "Ep.: 852, Ep.Steps: 1000, Score: 809.53, Avg.Score: 752.95, Time: 12:57:41\n",
      "Ep.: 853, Ep.Steps: 1000, Score: 626.81, Avg.Score: 752.15, Time: 12:59:04\n",
      "Ep.: 854, Ep.Steps: 1000, Score: 544.96, Avg.Score: 750.15, Time: 13:00:32\n",
      "Ep.: 855, Ep.Steps: 1000, Score: 946.58, Avg.Score: 752.05, Time: 13:02:00\n",
      "Ep.: 856, Ep.Steps: 1000, Score: 949.39, Avg.Score: 753.34, Time: 13:03:24\n",
      "Ep.: 857, Ep.Steps: 1000, Score: 939.65, Avg.Score: 754.58, Time: 13:04:46\n",
      "Ep.: 858, Ep.Steps: 1000, Score: 879.27, Avg.Score: 755.45, Time: 13:06:07\n",
      "Ep.: 859, Ep.Steps: 1000, Score: 790.21, Avg.Score: 756.41, Time: 13:07:29\n",
      "Ep.: 860, Ep.Steps: 1000, Score: 412.64, Avg.Score: 752.90, Time: 13:08:53\n",
      "Ep.: 861, Ep.Steps: 1000, Score: 834.26, Avg.Score: 751.89, Time: 13:10:16\n",
      "Ep.: 862, Ep.Steps: 1000, Score: 909.34, Avg.Score: 755.51, Time: 13:11:39\n",
      "Ep.: 863, Ep.Steps: 1000, Score: 598.70, Avg.Score: 752.74, Time: 13:12:59\n",
      "Ep.: 864, Ep.Steps: 1000, Score: 476.41, Avg.Score: 750.59, Time: 13:14:22\n",
      "Ep.: 865, Ep.Steps: 1000, Score: 942.85, Avg.Score: 750.64, Time: 13:15:43\n",
      "Ep.: 866, Ep.Steps: 1000, Score: 626.41, Avg.Score: 748.54, Time: 13:17:11\n",
      "Ep.: 867, Ep.Steps: 1000, Score: 672.01, Avg.Score: 747.98, Time: 13:18:33\n",
      "Ep.: 868, Ep.Steps: 1000, Score: 855.89, Avg.Score: 748.96, Time: 13:19:55\n",
      "Ep.: 869, Ep.Steps: 1000, Score: 500.09, Avg.Score: 747.30, Time: 13:21:17\n",
      "Ep.: 870, Ep.Steps: 1000, Score: 776.94, Avg.Score: 746.43, Time: 13:22:38\n",
      "Ep.: 871, Ep.Steps: 1000, Score: 677.68, Avg.Score: 746.42, Time: 13:23:58\n",
      "Ep.: 872, Ep.Steps: 1000, Score: 892.84, Avg.Score: 749.19, Time: 13:25:20\n",
      "Ep.: 873, Ep.Steps: 1000, Score: 981.14, Avg.Score: 757.86, Time: 13:26:42\n",
      "Ep.: 874, Ep.Steps: 1000, Score: 984.66, Avg.Score: 759.36, Time: 13:28:04\n",
      "Ep.: 875, Ep.Steps: 1000, Score: 926.28, Avg.Score: 760.43, Time: 13:29:27\n",
      "Ep.: 876, Ep.Steps: 1000, Score: 957.01, Avg.Score: 761.42, Time: 13:30:49\n",
      "Ep.: 877, Ep.Steps: 1000, Score: 712.31, Avg.Score: 761.44, Time: 13:32:11\n",
      "Ep.: 878, Ep.Steps: 1000, Score: 967.20, Avg.Score: 764.20, Time: 13:33:32\n",
      "Ep.: 879, Ep.Steps: 1000, Score: 950.53, Avg.Score: 767.10, Time: 13:35:01\n",
      "Ep.: 880, Ep.Steps: 1000, Score: 999.45, Avg.Score: 769.36, Time: 13:36:22\n",
      "Ep.: 881, Ep.Steps: 1000, Score: 1058.93, Avg.Score: 770.46, Time: 13:37:44\n",
      "Ep.: 882, Ep.Steps: 1000, Score: 900.24, Avg.Score: 772.32, Time: 13:39:04\n",
      "Ep.: 883, Ep.Steps: 1000, Score: 842.18, Avg.Score: 773.48, Time: 13:40:24\n",
      "Ep.: 884, Ep.Steps: 1000, Score: 1011.83, Avg.Score: 774.98, Time: 13:41:45\n",
      "Ep.: 885, Ep.Steps: 1000, Score: 1094.83, Avg.Score: 778.13, Time: 13:43:12\n",
      "Ep.: 886, Ep.Steps: 1000, Score: 856.66, Avg.Score: 779.11, Time: 13:44:32\n",
      "Ep.: 887, Ep.Steps: 1000, Score: 918.14, Avg.Score: 779.56, Time: 13:45:55\n",
      "Ep.: 888, Ep.Steps: 1000, Score: 1031.85, Avg.Score: 782.86, Time: 13:47:15\n",
      "Ep.: 889, Ep.Steps: 1000, Score: 797.41, Avg.Score: 786.08, Time: 13:48:36\n",
      "Ep.: 890, Ep.Steps: 1000, Score: 800.04, Avg.Score: 787.65, Time: 13:49:58\n",
      "Ep.: 891, Ep.Steps: 1000, Score: 931.01, Avg.Score: 790.61, Time: 13:51:20\n",
      "Ep.: 892, Ep.Steps: 1000, Score: 998.33, Avg.Score: 794.90, Time: 13:52:42\n",
      "Ep.: 893, Ep.Steps: 1000, Score: 781.18, Avg.Score: 794.10, Time: 13:54:04\n",
      "Ep.: 894, Ep.Steps: 1000, Score: 783.18, Avg.Score: 796.19, Time: 13:55:27\n",
      "Ep.: 895, Ep.Steps: 1000, Score: 824.93, Avg.Score: 795.31, Time: 13:56:50\n"
     ]
    },
    {
     "name": "stdout",
     "output_type": "stream",
     "text": [
      "Ep.: 896, Ep.Steps: 1000, Score: 1057.31, Avg.Score: 798.01, Time: 13:58:11\n",
      "Ep.: 897, Ep.Steps: 1000, Score: 918.53, Avg.Score: 800.38, Time: 13:59:37\n",
      "Ep.: 898, Ep.Steps: 1000, Score: 680.79, Avg.Score: 799.49, Time: 14:01:05\n",
      "Ep.: 899, Ep.Steps: 1000, Score: 874.24, Avg.Score: 799.98, Time: 14:02:30\n",
      "Ep.: 900, Ep.Steps: 1000, Score: 1128.91, Avg.Score: 804.96, Time: 14:03:52\n",
      "Ep.: 901, Ep.Steps: 1000, Score: 931.94, Avg.Score: 806.32, Time: 14:05:13\n",
      "Ep.: 902, Ep.Steps: 1000, Score: 1022.85, Avg.Score: 808.03, Time: 14:06:34\n",
      "Ep.: 903, Ep.Steps: 1000, Score: 860.06, Avg.Score: 809.13, Time: 14:07:54\n",
      "Ep.: 904, Ep.Steps: 1000, Score: 919.76, Avg.Score: 810.58, Time: 14:09:21\n",
      "Ep.: 905, Ep.Steps: 1000, Score: 856.23, Avg.Score: 811.51, Time: 14:10:46\n",
      "Ep.: 906, Ep.Steps: 1000, Score: 818.90, Avg.Score: 813.08, Time: 14:12:23\n",
      "Ep.: 907, Ep.Steps: 1000, Score: 1083.41, Avg.Score: 816.38, Time: 14:13:45\n",
      "Ep.: 908, Ep.Steps: 1000, Score: 718.09, Avg.Score: 814.66, Time: 14:15:09\n",
      "Ep.: 909, Ep.Steps: 1000, Score: 850.50, Avg.Score: 816.09, Time: 14:16:31\n",
      "Ep.: 910, Ep.Steps: 1000, Score: 935.70, Avg.Score: 817.82, Time: 14:18:02\n",
      "Ep.: 911, Ep.Steps: 1000, Score: 1003.04, Avg.Score: 819.63, Time: 14:19:21\n",
      "Ep.: 912, Ep.Steps: 1000, Score: 672.53, Avg.Score: 817.77, Time: 14:20:42\n",
      "Ep.: 913, Ep.Steps: 1000, Score: 1136.63, Avg.Score: 819.58, Time: 14:22:02\n",
      "Ep.: 914, Ep.Steps: 1000, Score: 837.62, Avg.Score: 822.10, Time: 14:23:23\n",
      "Ep.: 915, Ep.Steps: 1000, Score: 983.15, Avg.Score: 825.06, Time: 14:24:45\n",
      "Ep.: 916, Ep.Steps: 1000, Score: 861.72, Avg.Score: 825.68, Time: 14:26:06\n",
      "Ep.: 917, Ep.Steps: 1000, Score: 1069.89, Avg.Score: 828.29, Time: 14:27:25\n",
      "Ep.: 918, Ep.Steps: 1000, Score: 1017.01, Avg.Score: 831.45, Time: 14:28:45\n",
      "Ep.: 919, Ep.Steps: 1000, Score: 977.36, Avg.Score: 833.76, Time: 14:30:07\n",
      "Ep.: 920, Ep.Steps: 1000, Score: 754.88, Avg.Score: 833.37, Time: 14:31:36\n",
      "Ep.: 921, Ep.Steps: 1000, Score: 1197.44, Avg.Score: 837.35, Time: 14:32:52\n",
      "Ep.: 922, Ep.Steps: 1000, Score: 873.63, Avg.Score: 840.03, Time: 14:34:13\n",
      "Ep.: 923, Ep.Steps: 1000, Score: 861.49, Avg.Score: 843.00, Time: 14:35:33\n",
      "Ep.: 924, Ep.Steps: 1000, Score: 1147.59, Avg.Score: 848.11, Time: 14:36:54\n",
      "Ep.: 925, Ep.Steps: 1000, Score: 1048.07, Avg.Score: 849.90, Time: 14:38:15\n",
      "Ep.: 926, Ep.Steps: 1000, Score: 1129.63, Avg.Score: 852.47, Time: 14:39:37\n",
      "Ep.: 927, Ep.Steps: 1000, Score: 1010.68, Avg.Score: 853.18, Time: 14:41:00\n",
      "Ep.: 928, Ep.Steps: 1000, Score: 1276.80, Avg.Score: 858.60, Time: 14:42:31\n",
      "Ep.: 929, Ep.Steps: 1000, Score: 1251.54, Avg.Score: 863.92, Time: 14:43:46\n",
      "Ep.: 930, Ep.Steps: 1000, Score: 1231.01, Avg.Score: 867.18, Time: 14:45:07\n",
      "Ep.: 931, Ep.Steps: 1000, Score: 859.60, Avg.Score: 867.72, Time: 14:46:26\n",
      "Ep.: 932, Ep.Steps: 1000, Score: 1131.34, Avg.Score: 871.24, Time: 14:47:53\n",
      "Ep.: 933, Ep.Steps: 1000, Score: 747.05, Avg.Score: 871.33, Time: 14:49:11\n",
      "Ep.: 934, Ep.Steps: 1000, Score: 779.36, Avg.Score: 871.82, Time: 14:50:32\n",
      "Ep.: 935, Ep.Steps: 1000, Score: 1039.23, Avg.Score: 875.61, Time: 14:51:50\n",
      "Ep.: 936, Ep.Steps: 1000, Score: 596.47, Avg.Score: 873.57, Time: 14:53:10\n",
      "Ep.: 937, Ep.Steps: 1000, Score: 1307.33, Avg.Score: 877.24, Time: 14:54:31\n",
      "Ep.: 938, Ep.Steps: 1000, Score: 1278.14, Avg.Score: 883.74, Time: 14:55:50\n",
      "Ep.: 939, Ep.Steps: 1000, Score: 1280.50, Avg.Score: 887.83, Time: 14:57:10\n",
      "Ep.: 940, Ep.Steps: 1000, Score: 1286.28, Avg.Score: 896.78, Time: 14:58:34\n",
      "Ep.: 941, Ep.Steps: 1000, Score: 1334.88, Avg.Score: 903.67, Time: 15:00:04\n",
      "Ep.: 942, Ep.Steps: 1000, Score: 870.31, Avg.Score: 905.95, Time: 15:01:32\n",
      "Ep.: 943, Ep.Steps: 1000, Score: 1269.32, Avg.Score: 910.27, Time: 15:02:58\n",
      "Ep.: 944, Ep.Steps: 1000, Score: 1265.81, Avg.Score: 914.68, Time: 15:04:24\n",
      "Ep.: 945, Ep.Steps: 1000, Score: 1294.11, Avg.Score: 917.99, Time: 15:06:13\n",
      "Ep.: 946, Ep.Steps: 1000, Score: 1311.55, Avg.Score: 924.95, Time: 15:07:37\n",
      "Ep.: 947, Ep.Steps: 1000, Score: 1300.05, Avg.Score: 929.45, Time: 15:08:56\n",
      "Ep.: 948, Ep.Steps: 1000, Score: 1309.90, Avg.Score: 933.57, Time: 15:10:15\n",
      "Ep.: 949, Ep.Steps: 1000, Score: 1033.62, Avg.Score: 936.24, Time: 15:11:25\n",
      "Ep.: 950, Ep.Steps: 1000, Score: 1355.05, Avg.Score: 941.62, Time: 15:12:41\n",
      "Ep.: 951, Ep.Steps: 1000, Score: 988.37, Avg.Score: 944.09, Time: 15:13:57\n",
      "Ep.: 952, Ep.Steps: 1000, Score: 1263.40, Avg.Score: 948.63, Time: 15:15:10\n",
      "Ep.: 953, Ep.Steps: 1000, Score: 1319.52, Avg.Score: 955.56, Time: 15:16:41\n",
      "Ep.: 954, Ep.Steps: 1000, Score: 910.96, Avg.Score: 959.22, Time: 15:18:10\n",
      "Ep.: 955, Ep.Steps: 1000, Score: 1369.85, Avg.Score: 963.45, Time: 15:19:42\n",
      "Ep.: 956, Ep.Steps: 1000, Score: 1017.88, Avg.Score: 964.13, Time: 15:21:09\n",
      "Ep.: 957, Ep.Steps: 1000, Score: 962.31, Avg.Score: 964.36, Time: 15:22:29\n",
      "Ep.: 958, Ep.Steps: 1000, Score: 1335.22, Avg.Score: 968.92, Time: 15:23:47\n",
      "Ep.: 959, Ep.Steps: 1000, Score: 1232.87, Avg.Score: 973.35, Time: 15:25:15\n",
      "Ep.: 960, Ep.Steps: 1000, Score: 1182.21, Avg.Score: 981.04, Time: 15:26:52\n",
      "Ep.: 961, Ep.Steps: 1000, Score: 1192.08, Avg.Score: 984.62, Time: 15:28:26\n",
      "Ep.: 962, Ep.Steps: 1000, Score: 1190.50, Avg.Score: 987.43, Time: 15:30:00\n",
      "Ep.: 963, Ep.Steps: 1000, Score: 894.71, Avg.Score: 990.39, Time: 15:31:24\n",
      "Ep.: 964, Ep.Steps: 1000, Score: 1202.92, Avg.Score: 997.66, Time: 15:32:59\n",
      "Ep.: 965, Ep.Steps: 1000, Score: 1380.93, Avg.Score: 1002.04, Time: 15:34:32\n",
      "Ep.: 966, Ep.Steps: 1000, Score: 1367.34, Avg.Score: 1009.45, Time: 15:36:05\n",
      "Ep.: 967, Ep.Steps: 1000, Score: 1139.84, Avg.Score: 1014.13, Time: 15:37:40\n",
      "Ep.: 968, Ep.Steps: 1000, Score: 1382.22, Avg.Score: 1019.39, Time: 15:39:15\n",
      "Ep.: 969, Ep.Steps: 1000, Score: 1190.23, Avg.Score: 1026.29, Time: 15:40:50\n",
      "Ep.: 970, Ep.Steps: 1000, Score: 1035.21, Avg.Score: 1028.87, Time: 15:42:23\n",
      "Ep.: 971, Ep.Steps: 1000, Score: 1091.80, Avg.Score: 1033.01, Time: 15:44:04\n",
      "Ep.: 972, Ep.Steps: 1000, Score: 1179.41, Avg.Score: 1035.88, Time: 15:45:42\n",
      "Ep.: 973, Ep.Steps: 1000, Score: 1137.87, Avg.Score: 1037.45, Time: 15:47:11\n",
      "Ep.: 974, Ep.Steps: 1000, Score: 1108.33, Avg.Score: 1038.68, Time: 15:48:52\n",
      "Ep.: 975, Ep.Steps: 1000, Score: 1229.04, Avg.Score: 1041.71, Time: 15:50:21\n",
      "Ep.: 976, Ep.Steps: 1000, Score: 1122.19, Avg.Score: 1043.36, Time: 15:52:03\n",
      "Ep.: 977, Ep.Steps: 1000, Score: 1265.92, Avg.Score: 1048.90, Time: 15:53:50\n",
      "Ep.: 978, Ep.Steps: 1000, Score: 1297.02, Avg.Score: 1052.20, Time: 15:55:28\n",
      "Ep.: 979, Ep.Steps: 1000, Score: 1383.16, Avg.Score: 1056.52, Time: 15:57:05\n",
      "Ep.: 980, Ep.Steps: 1000, Score: 869.64, Avg.Score: 1055.23, Time: 15:58:33\n",
      "Ep.: 981, Ep.Steps: 1000, Score: 1190.89, Avg.Score: 1056.55, Time: 16:00:12\n",
      "Ep.: 982, Ep.Steps: 1000, Score: 1266.63, Avg.Score: 1060.21, Time: 16:01:40\n",
      "Ep.: 983, Ep.Steps: 1000, Score: 1274.63, Avg.Score: 1064.53, Time: 16:03:07\n",
      "Ep.: 984, Ep.Steps: 1000, Score: 1253.45, Avg.Score: 1066.95, Time: 16:04:32\n",
      "Ep.: 985, Ep.Steps: 1000, Score: 1278.16, Avg.Score: 1068.78, Time: 16:05:53\n",
      "Ep.: 986, Ep.Steps: 1000, Score: 1222.19, Avg.Score: 1072.44, Time: 16:07:15\n",
      "Ep.: 987, Ep.Steps: 1000, Score: 1252.90, Avg.Score: 1075.79, Time: 16:08:39\n",
      "Ep.: 988, Ep.Steps: 1000, Score: 1291.18, Avg.Score: 1078.38, Time: 16:10:09\n",
      "Ep.: 989, Ep.Steps: 1000, Score: 1224.52, Avg.Score: 1082.65, Time: 16:11:31\n",
      "Ep.: 990, Ep.Steps: 1000, Score: 1230.51, Avg.Score: 1086.95, Time: 16:13:00\n",
      "Ep.: 991, Ep.Steps: 1000, Score: 1211.44, Avg.Score: 1089.76, Time: 16:14:20\n",
      "Ep.: 992, Ep.Steps: 1000, Score: 1286.17, Avg.Score: 1092.64, Time: 16:15:35\n",
      "Ep.: 993, Ep.Steps: 1000, Score: 1354.08, Avg.Score: 1098.37, Time: 16:16:48\n",
      "Ep.: 994, Ep.Steps: 1000, Score: 1291.21, Avg.Score: 1103.45, Time: 16:18:02\n",
      "Ep.: 995, Ep.Steps: 1000, Score: 1305.19, Avg.Score: 1108.25, Time: 16:19:17\n",
      "Ep.: 996, Ep.Steps: 1000, Score: 935.82, Avg.Score: 1107.03, Time: 16:20:30\n",
      "Ep.: 997, Ep.Steps: 1000, Score: 1263.38, Avg.Score: 1110.48, Time: 16:21:42\n",
      "Ep.: 998, Ep.Steps: 1000, Score: 1262.25, Avg.Score: 1116.30, Time: 16:22:54\n",
      "Ep.: 999, Ep.Steps: 1000, Score: 1343.62, Avg.Score: 1120.99, Time: 16:24:07\n",
      "Ep.: 1000, Ep.Steps: 1000, Score: 1238.49, Avg.Score: 1122.09, Time: 16:25:20\n",
      "Ep.: 1001, Ep.Steps: 1000, Score: 1450.06, Avg.Score: 1127.27, Time: 16:26:30\n",
      "Ep.: 1002, Ep.Steps: 1000, Score: 1265.61, Avg.Score: 1129.70, Time: 16:27:40\n",
      "Ep.: 1003, Ep.Steps: 1000, Score: 1195.25, Avg.Score: 1133.05, Time: 16:28:52\n"
     ]
    },
    {
     "name": "stdout",
     "output_type": "stream",
     "text": [
      "Ep.: 1004, Ep.Steps: 1000, Score: 1425.15, Avg.Score: 1138.10, Time: 16:30:05\n",
      "Ep.: 1005, Ep.Steps: 1000, Score: 1293.94, Avg.Score: 1142.48, Time: 16:31:19\n",
      "Ep.: 1006, Ep.Steps: 1000, Score: 1300.91, Avg.Score: 1147.30, Time: 16:32:28\n",
      "Ep.: 1007, Ep.Steps: 1000, Score: 1351.11, Avg.Score: 1149.98, Time: 16:33:38\n",
      "Ep.: 1008, Ep.Steps: 1000, Score: 1460.07, Avg.Score: 1157.40, Time: 16:34:49\n",
      "Ep.: 1009, Ep.Steps: 1000, Score: 1252.24, Avg.Score: 1161.41, Time: 16:36:03\n",
      "Ep.: 1010, Ep.Steps: 1000, Score: 1289.54, Avg.Score: 1164.95, Time: 16:37:14\n",
      "Ep.: 1011, Ep.Steps: 1000, Score: 1325.01, Avg.Score: 1168.17, Time: 16:38:24\n",
      "Ep.: 1012, Ep.Steps: 1000, Score: 1325.93, Avg.Score: 1174.71, Time: 16:39:36\n",
      "Ep.: 1013, Ep.Steps: 1000, Score: 1314.38, Avg.Score: 1176.48, Time: 16:40:46\n",
      "Ep.: 1014, Ep.Steps: 1000, Score: 1459.93, Avg.Score: 1182.71, Time: 16:41:57\n",
      "Ep.: 1015, Ep.Steps: 1000, Score: 1427.29, Avg.Score: 1187.15, Time: 16:43:10\n",
      "Ep.: 1016, Ep.Steps: 1000, Score: 1488.50, Avg.Score: 1193.42, Time: 16:44:25\n",
      "Ep.: 1017, Ep.Steps: 1000, Score: 1431.88, Avg.Score: 1197.04, Time: 16:45:36\n",
      "Ep.: 1018, Ep.Steps: 1000, Score: 1518.12, Avg.Score: 1202.05, Time: 16:46:47\n",
      "Ep.: 1019, Ep.Steps: 1000, Score: 1575.47, Avg.Score: 1208.03, Time: 16:47:58\n",
      "Ep.: 1020, Ep.Steps: 1000, Score: 1540.37, Avg.Score: 1215.88, Time: 16:49:12\n",
      "Ep.: 1021, Ep.Steps: 1000, Score: 1479.52, Avg.Score: 1218.70, Time: 16:50:24\n",
      "Ep.: 1022, Ep.Steps: 1000, Score: 1617.37, Avg.Score: 1226.14, Time: 16:51:35\n",
      "Ep.: 1023, Ep.Steps: 1000, Score: 1502.24, Avg.Score: 1232.55, Time: 16:52:52\n",
      "Ep.: 1024, Ep.Steps: 1000, Score: 1448.96, Avg.Score: 1235.56, Time: 16:54:10\n",
      "Ep.: 1025, Ep.Steps: 1000, Score: 1530.30, Avg.Score: 1240.38, Time: 16:55:25\n",
      "Ep.: 1026, Ep.Steps: 1000, Score: 1541.38, Avg.Score: 1244.50, Time: 16:56:37\n",
      "Ep.: 1027, Ep.Steps: 1000, Score: 1526.19, Avg.Score: 1249.66, Time: 16:57:54\n",
      "Ep.: 1028, Ep.Steps: 1000, Score: 1525.05, Avg.Score: 1252.14, Time: 16:59:12\n",
      "Ep.: 1029, Ep.Steps: 1000, Score: 1535.64, Avg.Score: 1254.98, Time: 17:00:24\n",
      "Ep.: 1030, Ep.Steps: 1000, Score: 1428.73, Avg.Score: 1256.96, Time: 17:01:54\n",
      "Ep.: 1031, Ep.Steps: 1000, Score: 1569.58, Avg.Score: 1264.06, Time: 17:03:26\n",
      "Ep.: 1032, Ep.Steps: 1000, Score: 1580.65, Avg.Score: 1268.55, Time: 17:04:51\n",
      "Ep.: 1033, Ep.Steps: 1000, Score: 1613.13, Avg.Score: 1277.21, Time: 17:06:16\n",
      "Ep.: 1034, Ep.Steps: 1000, Score: 1558.52, Avg.Score: 1285.00, Time: 17:07:51\n",
      "Ep.: 1035, Ep.Steps: 1000, Score: 1529.53, Avg.Score: 1289.91, Time: 17:09:19\n",
      "Ep.: 1036, Ep.Steps: 1000, Score: 1621.61, Avg.Score: 1300.16, Time: 17:10:51\n",
      "Ep.: 1037, Ep.Steps: 1000, Score: 1578.28, Avg.Score: 1302.87, Time: 17:12:22\n",
      "Ep.: 1038, Ep.Steps: 1000, Score: 1534.80, Avg.Score: 1305.43, Time: 17:14:11\n",
      "Ep.: 1039, Ep.Steps: 1000, Score: 1576.95, Avg.Score: 1308.40, Time: 17:16:06\n",
      "Ep.: 1040, Ep.Steps: 1000, Score: 1526.52, Avg.Score: 1310.80, Time: 17:17:46\n",
      "Ep.: 1041, Ep.Steps: 1000, Score: 1482.76, Avg.Score: 1312.28, Time: 17:19:26\n",
      "Ep.: 1042, Ep.Steps: 1000, Score: 1601.25, Avg.Score: 1319.59, Time: 17:20:50\n",
      "Ep.: 1043, Ep.Steps: 1000, Score: 1457.05, Avg.Score: 1321.47, Time: 17:22:19\n",
      "Ep.: 1044, Ep.Steps: 1000, Score: 1525.89, Avg.Score: 1324.07, Time: 17:23:40\n",
      "Ep.: 1045, Ep.Steps: 1000, Score: 1635.00, Avg.Score: 1327.48, Time: 17:25:08\n",
      "Ep.: 1046, Ep.Steps: 1000, Score: 1697.73, Avg.Score: 1331.34, Time: 17:26:31\n",
      "Ep.: 1047, Ep.Steps: 1000, Score: 1738.26, Avg.Score: 1335.72, Time: 17:27:55\n",
      "Ep.: 1048, Ep.Steps: 1000, Score: 1538.89, Avg.Score: 1338.01, Time: 17:29:24\n",
      "Ep.: 1049, Ep.Steps: 1000, Score: 1254.47, Avg.Score: 1340.22, Time: 17:30:42\n",
      "Ep.: 1050, Ep.Steps: 1000, Score: 1559.61, Avg.Score: 1342.26, Time: 17:32:13\n",
      "Ep.: 1051, Ep.Steps: 1000, Score: 1474.54, Avg.Score: 1347.12, Time: 17:33:44\n",
      "Ep.: 1052, Ep.Steps: 1000, Score: 1459.88, Avg.Score: 1349.09, Time: 17:35:09\n",
      "Ep.: 1053, Ep.Steps: 1000, Score: 1546.37, Avg.Score: 1351.36, Time: 17:36:31\n",
      "Ep.: 1054, Ep.Steps: 1000, Score: 1593.31, Avg.Score: 1358.18, Time: 17:37:55\n",
      "Ep.: 1055, Ep.Steps: 1000, Score: 1555.09, Avg.Score: 1360.03, Time: 17:39:30\n",
      "Ep.: 1056, Ep.Steps: 1000, Score: 1579.84, Avg.Score: 1365.65, Time: 17:41:05\n",
      "Ep.: 1057, Ep.Steps: 1000, Score: 1463.12, Avg.Score: 1370.66, Time: 17:42:48\n",
      "Ep.: 1058, Ep.Steps: 1000, Score: 1695.86, Avg.Score: 1374.27, Time: 17:44:29\n",
      "Ep.: 1059, Ep.Steps: 1000, Score: 1602.69, Avg.Score: 1377.97, Time: 17:46:12\n",
      "Ep.: 1060, Ep.Steps: 1000, Score: 1632.57, Avg.Score: 1382.47, Time: 17:47:44\n",
      "Ep.: 1061, Ep.Steps: 1000, Score: 1666.76, Avg.Score: 1387.22, Time: 17:49:23\n",
      "Ep.: 1062, Ep.Steps: 1000, Score: 1589.73, Avg.Score: 1391.21, Time: 17:50:54\n",
      "Ep.: 1063, Ep.Steps: 1000, Score: 1394.92, Avg.Score: 1396.21, Time: 17:52:25\n",
      "Ep.: 1064, Ep.Steps: 1000, Score: 1451.18, Avg.Score: 1398.69, Time: 17:53:52\n",
      "Ep.: 1065, Ep.Steps: 1000, Score: 1395.59, Avg.Score: 1398.84, Time: 17:55:32\n",
      "Ep.: 1066, Ep.Steps: 1000, Score: 1580.48, Avg.Score: 1400.97, Time: 17:57:05\n",
      "Ep.: 1067, Ep.Steps: 1000, Score: 1698.80, Avg.Score: 1406.56, Time: 17:58:35\n",
      "Ep.: 1068, Ep.Steps: 1000, Score: 1728.38, Avg.Score: 1410.02, Time: 18:00:04\n",
      "Ep.: 1069, Ep.Steps: 1000, Score: 1659.40, Avg.Score: 1414.71, Time: 18:01:42\n",
      "Ep.: 1070, Ep.Steps: 1000, Score: 1662.14, Avg.Score: 1420.98, Time: 18:03:13\n",
      "Ep.: 1071, Ep.Steps: 1000, Score: 1606.76, Avg.Score: 1426.13, Time: 18:04:56\n",
      "Ep.: 1072, Ep.Steps: 1000, Score: 1641.37, Avg.Score: 1430.75, Time: 18:06:27\n",
      "Ep.: 1073, Ep.Steps: 1000, Score: 1490.47, Avg.Score: 1434.28, Time: 18:07:54\n",
      "Ep.: 1074, Ep.Steps: 1000, Score: 1589.19, Avg.Score: 1439.09, Time: 18:09:21\n",
      "Ep.: 1075, Ep.Steps: 1000, Score: 1583.85, Avg.Score: 1442.64, Time: 18:11:01\n",
      "Ep.: 1076, Ep.Steps: 1000, Score: 1700.25, Avg.Score: 1448.42, Time: 18:12:39\n",
      "Ep.: 1077, Ep.Steps: 1000, Score: 574.94, Avg.Score: 1441.51, Time: 18:14:16\n",
      "Ep.: 1078, Ep.Steps: 1000, Score: 1785.31, Avg.Score: 1446.39, Time: 18:16:00\n",
      "Ep.: 1079, Ep.Steps: 1000, Score: 1545.87, Avg.Score: 1448.02, Time: 18:17:20\n",
      "Ep.: 1080, Ep.Steps: 1000, Score: 1609.02, Avg.Score: 1455.41, Time: 18:18:51\n",
      "Ep.: 1081, Ep.Steps: 1000, Score: 1686.64, Avg.Score: 1460.37, Time: 18:20:23\n",
      "Ep.: 1082, Ep.Steps: 1000, Score: 1660.84, Avg.Score: 1464.31, Time: 18:21:40\n",
      "Ep.: 1083, Ep.Steps: 1000, Score: 1777.02, Avg.Score: 1469.33, Time: 18:22:56\n",
      "Ep.: 1084, Ep.Steps: 1000, Score: 1855.02, Avg.Score: 1475.35, Time: 18:24:12\n",
      "Ep.: 1085, Ep.Steps: 1000, Score: 1805.19, Avg.Score: 1480.62, Time: 18:25:40\n",
      "Ep.: 1086, Ep.Steps: 1000, Score: 1762.81, Avg.Score: 1486.03, Time: 18:27:13\n",
      "Ep.: 1087, Ep.Steps: 1000, Score: 1727.73, Avg.Score: 1490.77, Time: 18:28:39\n",
      "Ep.: 1088, Ep.Steps: 1000, Score: 1809.22, Avg.Score: 1495.95, Time: 18:30:14\n",
      "Ep.: 1089, Ep.Steps: 1000, Score: 1757.06, Avg.Score: 1501.28, Time: 18:31:45\n",
      "Ep.: 1090, Ep.Steps: 1000, Score: 1719.96, Avg.Score: 1506.17, Time: 18:33:19\n",
      "Ep.: 1091, Ep.Steps: 1000, Score: 1730.31, Avg.Score: 1511.36, Time: 18:34:55\n",
      "Ep.: 1092, Ep.Steps: 1000, Score: 1624.35, Avg.Score: 1514.75, Time: 18:36:30\n",
      "Ep.: 1093, Ep.Steps: 1000, Score: 1785.02, Avg.Score: 1519.05, Time: 18:38:01\n",
      "Ep.: 1094, Ep.Steps: 1000, Score: 1698.62, Avg.Score: 1523.13, Time: 18:39:29\n",
      "Ep.: 1095, Ep.Steps: 1000, Score: 1824.37, Avg.Score: 1528.32, Time: 18:40:33\n",
      "Ep.: 1096, Ep.Steps: 1000, Score: 1928.72, Avg.Score: 1538.25, Time: 18:41:40\n",
      "Ep.: 1097, Ep.Steps: 1000, Score: 1883.07, Avg.Score: 1544.45, Time: 18:42:45\n",
      "Ep.: 1098, Ep.Steps: 1000, Score: 1713.80, Avg.Score: 1548.96, Time: 18:43:49\n",
      "Ep.: 1099, Ep.Steps: 1000, Score: 1805.19, Avg.Score: 1553.58, Time: 18:44:59\n",
      "Ep.: 1100, Ep.Steps: 1000, Score: 1809.92, Avg.Score: 1559.29, Time: 18:46:06\n",
      "Ep.: 1101, Ep.Steps: 1000, Score: 1802.48, Avg.Score: 1562.82, Time: 18:47:10\n",
      "Ep.: 1102, Ep.Steps: 1000, Score: 1772.40, Avg.Score: 1567.88, Time: 18:48:08\n",
      "Ep.: 1103, Ep.Steps: 1000, Score: 1831.57, Avg.Score: 1574.25, Time: 18:49:05\n",
      "Ep.: 1104, Ep.Steps: 1000, Score: 1818.88, Avg.Score: 1578.18, Time: 18:50:03\n",
      "Ep.: 1105, Ep.Steps: 1000, Score: 1500.97, Avg.Score: 1580.25, Time: 18:51:18\n",
      "Ep.: 1106, Ep.Steps: 1000, Score: 1739.77, Avg.Score: 1584.64, Time: 18:52:30\n",
      "Ep.: 1107, Ep.Steps: 1000, Score: 1810.75, Avg.Score: 1589.24, Time: 18:53:41\n",
      "Ep.: 1108, Ep.Steps: 1000, Score: 1786.98, Avg.Score: 1592.51, Time: 18:54:38\n",
      "Ep.: 1109, Ep.Steps: 1000, Score: 1637.70, Avg.Score: 1596.36, Time: 18:55:40\n"
     ]
    },
    {
     "name": "stdout",
     "output_type": "stream",
     "text": [
      "Ep.: 1110, Ep.Steps: 1000, Score: 1776.74, Avg.Score: 1601.24, Time: 18:56:49\n",
      "Ep.: 1111, Ep.Steps: 1000, Score: 1812.37, Avg.Score: 1606.11, Time: 18:57:46\n",
      "Ep.: 1112, Ep.Steps: 1000, Score: 1814.80, Avg.Score: 1611.00, Time: 18:58:44\n",
      "Ep.: 1113, Ep.Steps: 1000, Score: 1838.53, Avg.Score: 1616.24, Time: 18:59:47\n",
      "Ep.: 1114, Ep.Steps: 1000, Score: 1863.97, Avg.Score: 1620.28, Time: 19:00:49\n",
      "Ep.: 1115, Ep.Steps: 1000, Score: 1720.30, Avg.Score: 1623.21, Time: 19:01:48\n",
      "Ep.: 1116, Ep.Steps: 1000, Score: 1902.23, Avg.Score: 1627.35, Time: 19:02:52\n",
      "Ep.: 1117, Ep.Steps: 1000, Score: 1834.25, Avg.Score: 1631.37, Time: 19:03:55\n",
      "Ep.: 1118, Ep.Steps: 1000, Score: 1840.68, Avg.Score: 1634.60, Time: 19:04:56\n",
      "Ep.: 1119, Ep.Steps: 1000, Score: 1873.42, Avg.Score: 1637.58, Time: 19:06:00\n",
      "Ep.: 1120, Ep.Steps: 1000, Score: 1895.08, Avg.Score: 1641.12, Time: 19:06:58\n",
      "Ep.: 1121, Ep.Steps: 1000, Score: 1938.68, Avg.Score: 1645.71, Time: 19:07:59\n",
      "Ep.: 1122, Ep.Steps: 1000, Score: 1613.97, Avg.Score: 1645.68, Time: 19:08:57\n",
      "Ep.: 1123, Ep.Steps: 1000, Score: 1779.84, Avg.Score: 1648.46, Time: 19:09:54\n",
      "Ep.: 1124, Ep.Steps: 1000, Score: 1754.12, Avg.Score: 1651.51, Time: 19:10:57\n",
      "Ep.: 1125, Ep.Steps: 1000, Score: 1894.70, Avg.Score: 1655.15, Time: 19:12:05\n",
      "Ep.: 1126, Ep.Steps: 1000, Score: 1752.83, Avg.Score: 1657.27, Time: 19:13:09\n",
      "Ep.: 1127, Ep.Steps: 1000, Score: 1735.94, Avg.Score: 1659.36, Time: 19:14:13\n",
      "Ep.: 1128, Ep.Steps: 1000, Score: 1736.71, Avg.Score: 1661.48, Time: 19:15:17\n",
      "Ep.: 1129, Ep.Steps: 1000, Score: 1784.28, Avg.Score: 1663.97, Time: 19:16:26\n",
      "Ep.: 1130, Ep.Steps: 1000, Score: 1836.66, Avg.Score: 1668.05, Time: 19:17:34\n",
      "Ep.: 1131, Ep.Steps: 1000, Score: 1942.57, Avg.Score: 1671.78, Time: 19:18:37\n",
      "Ep.: 1132, Ep.Steps: 1000, Score: 1713.17, Avg.Score: 1673.10, Time: 19:19:40\n",
      "Ep.: 1133, Ep.Steps: 1000, Score: 1956.20, Avg.Score: 1676.53, Time: 19:20:45\n",
      "episode: 1134, steps:1000, current reward: 2012.131225698618, max reward: 2019.1605849934883, average reward on test: 1960.8819483345658\n",
      "Saved\n",
      "Ep.: 1135, Ep.Steps: 1000, Score: 1864.09, Avg.Score: 1684.41, Time: 19:23:41\n",
      "Ep.: 1136, Ep.Steps: 1000, Score: 1720.96, Avg.Score: 1685.41, Time: 19:24:46\n",
      "episode: 1137, steps:1000, current reward: 2033.7961407349826, max reward: 2074.6825887276436, average reward on test: 1960.4460888124327\n",
      "Ep.: 1138, Ep.Steps: 1000, Score: 1914.45, Avg.Score: 1693.76, Time: 19:27:44\n",
      "episode: 1139, steps:1000, current reward: 2008.0533725465002, max reward: 2036.9424246177553, average reward on test: 1826.2738959264705\n",
      "Ep.: 1140, Ep.Steps: 1000, Score: 1840.59, Avg.Score: 1701.21, Time: 19:30:58\n",
      "Ep.: 1141, Ep.Steps: 1000, Score: 1956.23, Avg.Score: 1705.95, Time: 19:32:09\n",
      "Ep.: 1142, Ep.Steps: 1000, Score: 1937.95, Avg.Score: 1709.31, Time: 19:33:17\n",
      "Ep.: 1143, Ep.Steps: 1000, Score: 1880.38, Avg.Score: 1713.55, Time: 19:34:20\n",
      "Ep.: 1144, Ep.Steps: 1000, Score: 1821.93, Avg.Score: 1716.51, Time: 19:35:27\n",
      "episode: 1145, steps:1000, current reward: 2031.1036888528506, max reward: 1978.7678836038194, average reward on test: 1903.8240685739875\n",
      "Ep.: 1146, Ep.Steps: 1000, Score: 1967.73, Avg.Score: 1723.17, Time: 19:38:24\n",
      "Ep.: 1147, Ep.Steps: 1000, Score: 1961.72, Avg.Score: 1725.40, Time: 19:39:22\n",
      "episode: 1148, steps:1000, current reward: 2046.557562431557, max reward: 2022.299674616918, average reward on test: 1952.4370723777804\n",
      "episode: 1149, steps:1000, current reward: 2044.0598317284143, max reward: 2071.727264433195, average reward on test: 2012.2471033185193\n",
      "Saved\n",
      "Ep.: 1150, Ep.Steps: 1000, Score: 1986.46, Avg.Score: 1742.64, Time: 19:44:02\n",
      "episode: 1151, steps:1000, current reward: 2067.862365314498, max reward: 2090.4629827719205, average reward on test: 1997.407073507702\n",
      "Ep.: 1152, Ep.Steps: 1000, Score: 1949.53, Avg.Score: 1753.47, Time: 19:47:11\n",
      "episode: 1153, steps:1000, current reward: 2015.7532122916411, max reward: 2076.1453968648193, average reward on test: 1991.3144475809509\n",
      "episode: 1154, steps:1000, current reward: 2023.5748239658328, max reward: 1968.8068091771343, average reward on test: 1911.3845557135032\n",
      "Ep.: 1155, Ep.Steps: 1000, Score: 1930.96, Avg.Score: 1766.23, Time: 19:52:03\n",
      "episode: 1156, steps:1000, current reward: 2037.9869493034275, max reward: 2034.835889046728, average reward on test: 1935.870985761841\n",
      "Ep.: 1157, Ep.Steps: 1000, Score: 1981.70, Avg.Score: 1775.99, Time: 19:55:01\n",
      "Ep.: 1158, Ep.Steps: 1000, Score: 1941.60, Avg.Score: 1778.45, Time: 19:56:06\n",
      "Ep.: 1159, Ep.Steps: 1000, Score: 1940.69, Avg.Score: 1781.83, Time: 19:57:10\n",
      "Ep.: 1160, Ep.Steps: 1000, Score: 1988.75, Avg.Score: 1785.39, Time: 19:58:18\n",
      "Ep.: 1161, Ep.Steps: 1000, Score: 1927.15, Avg.Score: 1788.00, Time: 19:59:30\n",
      "Ep.: 1162, Ep.Steps: 1000, Score: 1937.65, Avg.Score: 1791.48, Time: 20:00:38\n",
      "episode: 1163, steps:1000, current reward: 2006.0659299700133, max reward: 2054.427627855812, average reward on test: 2008.044809259583\n",
      "Ep.: 1164, Ep.Steps: 1000, Score: 1958.50, Avg.Score: 1802.66, Time: 20:03:24\n",
      "Ep.: 1165, Ep.Steps: 1000, Score: 1994.99, Avg.Score: 1808.66, Time: 20:04:31\n",
      "episode: 1166, steps:1000, current reward: 2030.698907102266, max reward: 2012.189797226344, average reward on test: 1969.3562158575683\n",
      "Ep.: 1167, Ep.Steps: 1000, Score: 1976.24, Avg.Score: 1815.93, Time: 20:07:15\n",
      "episode: 1168, steps:1000, current reward: 2024.7947004839466, max reward: 2083.188695982881, average reward on test: 1978.2834286899094\n",
      "Ep.: 1169, Ep.Steps: 1000, Score: 1961.27, Avg.Score: 1821.92, Time: 20:10:26\n",
      "episode: 1170, steps:1000, current reward: 2071.20707583616, max reward: 2063.408513618377, average reward on test: 2000.042927787427\n",
      "episode: 1171, steps:1000, current reward: 2118.5587195950116, max reward: 2165.106463305851, average reward on test: 2110.4505297675646\n",
      "Saved\n",
      "episode: 1172, steps:1000, current reward: 2101.5630119006855, max reward: 2105.725742723486, average reward on test: 2063.091281745142\n",
      "episode: 1173, steps:1000, current reward: 2066.332190856205, max reward: 2172.25298077355, average reward on test: 2111.2049294133553\n",
      "Saved\n",
      "Ep.: 1174, Ep.Steps: 1000, Score: 1989.28, Avg.Score: 1845.49, Time: 20:18:25\n",
      "episode: 1175, steps:1000, current reward: 2049.8015314971317, max reward: 2107.149904521165, average reward on test: 2035.5496507383475\n",
      "Ep.: 1176, Ep.Steps: 1000, Score: 1951.60, Avg.Score: 1852.66, Time: 20:21:26\n",
      "episode: 1177, steps:1000, current reward: 2125.6879208869923, max reward: 2158.682990120617, average reward on test: 2119.873125757066\n",
      "Saved\n",
      "episode: 1178, steps:1000, current reward: 2140.149528232956, max reward: 2205.9703450607576, average reward on test: 2156.3466409876996\n",
      "Saved\n",
      "episode: 1179, steps:1000, current reward: 2178.5244081820456, max reward: 2174.676551226513, average reward on test: 2123.469359634084\n",
      "episode: 1180, steps:1000, current reward: 2108.539448522362, max reward: 2186.690484581855, average reward on test: 2159.6561726823275\n",
      "Saved\n",
      "episode: 1181, steps:1000, current reward: 2119.645132903448, max reward: 2140.846320788522, average reward on test: 2076.5727030573116\n",
      "episode: 1182, steps:1000, current reward: 2093.1020169696217, max reward: 2218.0817552880503, average reward on test: 2180.372411045406\n",
      "Saved\n",
      "episode: 1183, steps:1000, current reward: 2070.067495347246, max reward: 2161.9931451862467, average reward on test: 2104.5870749604273\n",
      "episode: 1184, steps:1000, current reward: 2072.9448147090784, max reward: 2166.928071680916, average reward on test: 2128.5847511898064\n",
      "episode: 1185, steps:1000, current reward: 2099.512447801232, max reward: 2138.1046637910713, average reward on test: 2072.3681828023728\n",
      "episode: 1186, steps:1000, current reward: 2004.8461225678636, max reward: 2086.9197610551164, average reward on test: 2011.208488302679\n",
      "episode: 1187, steps:1000, current reward: 2124.686997227136, max reward: 2163.9540874653762, average reward on test: 2115.0483018266013\n",
      "episode: 1188, steps:1000, current reward: 2091.7414821416846, max reward: 2186.5500482119137, average reward on test: 2118.529102566753\n",
      "episode: 1189, steps:1000, current reward: 2094.0599045910135, max reward: 2157.7808915560668, average reward on test: 2118.708522592823\n",
      "episode: 1190, steps:1000, current reward: 2103.140347817676, max reward: 2168.006523847143, average reward on test: 2085.474815497923\n"
     ]
    },
    {
     "name": "stdout",
     "output_type": "stream",
     "text": [
      "episode: 1191, steps:1000, current reward: 2071.0404720924935, max reward: 2131.0869448291082, average reward on test: 2104.792386399624\n",
      "episode: 1192, steps:1000, current reward: 2000.2464479798823, max reward: 2217.105262926898, average reward on test: 2168.4162026971667\n",
      "episode: 1193, steps:1000, current reward: 2142.419553783604, max reward: 2193.565744709487, average reward on test: 2131.7834022174325\n",
      "episode: 1194, steps:1000, current reward: 2162.1951351982243, max reward: 2146.2789981233554, average reward on test: 2110.247773213566\n",
      "episode: 1195, steps:1000, current reward: 2125.8191518974186, max reward: 2070.5309288655503, average reward on test: 2025.5738083790031\n",
      "episode: 1196, steps:1000, current reward: 2086.200220744159, max reward: 2152.7389393770445, average reward on test: 2092.7271738621175\n",
      "episode: 1197, steps:1000, current reward: 2099.0560553619807, max reward: 2068.5362440481294, average reward on test: 2020.2511667526683\n",
      "episode: 1198, steps:1000, current reward: 2116.1060305033866, max reward: 2148.0127562169746, average reward on test: 2110.1605670091512\n",
      "episode: 1199, steps:1000, current reward: 2156.7029141088765, max reward: 2178.844823271647, average reward on test: 2101.7146677610026\n",
      "episode: 1200, steps:1000, current reward: 2134.5272517607914, max reward: 2112.747677796668, average reward on test: 2064.8772121503775\n",
      "episode: 1201, steps:1000, current reward: 2092.40470591945, max reward: 2142.0051603028223, average reward on test: 2090.022673132048\n",
      "episode: 1202, steps:1000, current reward: 2137.899835552556, max reward: 2137.0638432884575, average reward on test: 2081.4681627499094\n",
      "episode: 1203, steps:1000, current reward: 2066.9605836990754, max reward: 2111.4313940932266, average reward on test: 2065.694618068872\n",
      "episode: 1204, steps:1000, current reward: 2118.4756322441644, max reward: 2170.835997817354, average reward on test: 2144.409630551684\n",
      "episode: 1205, steps:1000, current reward: 2112.435326179848, max reward: 2236.602167899712, average reward on test: 2164.004875904273\n",
      "episode: 1206, steps:1000, current reward: 2029.0219585524112, max reward: 2161.935123498424, average reward on test: 2119.189876062074\n",
      "episode: 1207, steps:1000, current reward: 2082.4587212248143, max reward: 2153.109701960802, average reward on test: 2080.6085682072912\n",
      "episode: 1208, steps:1000, current reward: 2076.617749013885, max reward: 2182.44239421265, average reward on test: 2132.9997228637867\n",
      "episode: 1209, steps:1000, current reward: 2139.2961206643427, max reward: 2085.6614008657425, average reward on test: 2016.2762466145105\n",
      "episode: 1210, steps:1000, current reward: 2111.747809746906, max reward: 2195.5429188907196, average reward on test: 2153.487364276872\n",
      "episode: 1211, steps:1000, current reward: 2071.761479318552, max reward: 2128.0950310873072, average reward on test: 2078.8350163589225\n",
      "episode: 1212, steps:1000, current reward: 2140.0607142295817, max reward: 2207.9716091031273, average reward on test: 2117.5862337341987\n",
      "episode: 1213, steps:1000, current reward: 2081.8785436606763, max reward: 2158.126064966845, average reward on test: 2102.0961342155306\n",
      "episode: 1214, steps:1000, current reward: 2243.728129824423, max reward: 2202.1240245810595, average reward on test: 2159.6172986709944\n",
      "episode: 1215, steps:1000, current reward: 2236.9391574865917, max reward: 2149.1683824040697, average reward on test: 2108.914950704162\n",
      "episode: 1216, steps:1000, current reward: 2015.1977825550405, max reward: 2248.684620620561, average reward on test: 2201.322116102686\n",
      "Saved\n",
      "episode: 1217, steps:1000, current reward: 2136.922578100746, max reward: 2221.0842615403235, average reward on test: 2156.538089105762\n",
      "episode: 1218, steps:1000, current reward: 2129.80988335198, max reward: 2162.076501731461, average reward on test: 2078.219236667163\n",
      "episode: 1219, steps:1000, current reward: 2116.6292068332123, max reward: 2187.252252051706, average reward on test: 2113.210786590217\n",
      "episode: 1220, steps:1000, current reward: 2019.985873603432, max reward: 2174.3900550809435, average reward on test: 2118.9775426234423\n",
      "episode: 1221, steps:1000, current reward: 2047.2715384327846, max reward: 2168.2298569088503, average reward on test: 2073.4781112929754\n",
      "episode: 1222, steps:1000, current reward: 2174.572805338966, max reward: 2201.3279868615546, average reward on test: 2174.4554873210313\n",
      "episode: 1223, steps:1000, current reward: 2202.0244158368128, max reward: 2202.2754404244934, average reward on test: 2066.392383734476\n",
      "episode: 1224, steps:1000, current reward: 2153.098951149491, max reward: 2174.01950025914, average reward on test: 2106.78529622231\n",
      "episode: 1225, steps:1000, current reward: 2135.9994424103393, max reward: 2125.2526823619282, average reward on test: 2040.281876081317\n",
      "episode: 1226, steps:1000, current reward: 2184.0645699680267, max reward: 2233.5621918716765, average reward on test: 2141.539188256454\n",
      "episode: 1227, steps:1000, current reward: 2207.996643907836, max reward: 2214.3015948973352, average reward on test: 2133.0607143583125\n",
      "episode: 1228, steps:1000, current reward: 2173.1710694678036, max reward: 2193.1257109680423, average reward on test: 2082.0637273256184\n",
      "episode: 1229, steps:1000, current reward: 2169.7447331999692, max reward: 2170.8392950263765, average reward on test: 2108.5707755951757\n",
      "episode: 1230, steps:1000, current reward: 2086.8531496049077, max reward: 2174.0892538251283, average reward on test: 2115.853702966722\n",
      "episode: 1231, steps:1000, current reward: 2081.9717477202075, max reward: 2187.108213872, average reward on test: 2081.158054377493\n",
      "episode: 1232, steps:1000, current reward: 2156.495314253067, max reward: 2130.881549448345, average reward on test: 2088.29206538768\n",
      "episode: 1233, steps:1000, current reward: 2058.7774787810945, max reward: 2244.7867059387377, average reward on test: 2182.249403595525\n",
      "episode: 1234, steps:1000, current reward: 2129.2639443886796, max reward: 2215.6184596438306, average reward on test: 2167.0780607973584\n",
      "episode: 1235, steps:1000, current reward: 2047.8312082124398, max reward: 2202.499017619565, average reward on test: 2136.055465035297\n",
      "episode: 1236, steps:1000, current reward: 2076.2593566310684, max reward: 2221.251515949275, average reward on test: 2155.805949621632\n",
      "episode: 1237, steps:1000, current reward: 2208.9093426487366, max reward: 2185.8435225828493, average reward on test: 2142.613362707251\n",
      "episode: 1238, steps:1000, current reward: 2079.6172421688298, max reward: 2233.6447150045105, average reward on test: 2155.1688201742604\n",
      "episode: 1239, steps:1000, current reward: 2173.4075984408323, max reward: 2213.6205984495737, average reward on test: 2121.1434370330894\n",
      "episode: 1240, steps:1000, current reward: 2161.750539278992, max reward: 2259.464072365366, average reward on test: 2216.205865961513\n",
      "Saved\n",
      "episode: 1241, steps:1000, current reward: 2204.857743393615, max reward: 2242.2428515336856, average reward on test: 2184.9340212762518\n",
      "episode: 1242, steps:1000, current reward: 2185.287111985269, max reward: 2248.8247166202, average reward on test: 2165.1371622524084\n",
      "episode: 1243, steps:1000, current reward: 2127.263187076785, max reward: 2226.47921145469, average reward on test: 2125.33288244034\n",
      "episode: 1244, steps:1000, current reward: 2155.4751334301836, max reward: 2274.3479620210605, average reward on test: 2204.1696212628067\n",
      "episode: 1245, steps:1000, current reward: 2197.662921910455, max reward: 2194.374426459107, average reward on test: 2169.6120602534706\n",
      "episode: 1246, steps:1000, current reward: 2191.3466530507617, max reward: 2189.8127518266374, average reward on test: 2146.167991577905\n",
      "episode: 1247, steps:1000, current reward: 2107.991634212851, max reward: 2223.602476986304, average reward on test: 2175.1580611914296\n",
      "episode: 1248, steps:1000, current reward: 2114.3481640723066, max reward: 2163.4961568425515, average reward on test: 2132.4656131337097\n",
      "episode: 1249, steps:1000, current reward: 2196.7098942115385, max reward: 2270.190469899025, average reward on test: 2191.0857007467575\n",
      "episode: 1250, steps:1000, current reward: 2164.1463283178227, max reward: 2261.077286515781, average reward on test: 2191.325432911687\n"
     ]
    },
    {
     "name": "stdout",
     "output_type": "stream",
     "text": [
      "episode: 1251, steps:1000, current reward: 2216.404058646061, max reward: 2234.841984249258, average reward on test: 2199.764011637638\n",
      "episode: 1252, steps:1000, current reward: 2129.861201506725, max reward: 2217.538034828894, average reward on test: 2155.44857305192\n",
      "episode: 1253, steps:1000, current reward: 2098.5040842668755, max reward: 2198.6008955383654, average reward on test: 2121.644973420957\n",
      "episode: 1254, steps:1000, current reward: 2056.489616544502, max reward: 2218.8455093950383, average reward on test: 2168.751057488256\n",
      "episode: 1255, steps:1000, current reward: 2200.2176781132316, max reward: 2254.199737763092, average reward on test: 2216.33512782959\n",
      "Saved\n",
      "episode: 1256, steps:1000, current reward: 2183.7476750258784, max reward: 2240.1356473643855, average reward on test: 2211.308315889391\n",
      "episode: 1257, steps:1000, current reward: 2212.3923127770663, max reward: 2204.2835115738662, average reward on test: 2163.295330168689\n",
      "episode: 1258, steps:1000, current reward: 2261.8674034528667, max reward: 2206.9978553601013, average reward on test: 2160.812906769201\n",
      "episode: 1259, steps:1000, current reward: 2204.3297276517296, max reward: 2191.518440572623, average reward on test: 2140.1281702997826\n",
      "episode: 1260, steps:1000, current reward: 2182.8733930305284, max reward: 2250.41675032888, average reward on test: 2195.0528929279235\n",
      "episode: 1261, steps:1000, current reward: 2214.624919641551, max reward: 2203.999334539474, average reward on test: 2164.751230682285\n",
      "episode: 1262, steps:1000, current reward: 2167.5465555906385, max reward: 2236.2315786886184, average reward on test: 2187.190941618063\n",
      "episode: 1263, steps:1000, current reward: 2210.825467105098, max reward: 2248.661503990602, average reward on test: 2187.7591992661905\n",
      "episode: 1264, steps:1000, current reward: 2183.045500230735, max reward: 2240.8157813907096, average reward on test: 2190.528981181129\n",
      "episode: 1265, steps:1000, current reward: 2157.766025708334, max reward: 2230.739506400163, average reward on test: 2195.66633339304\n",
      "episode: 1266, steps:1000, current reward: 2095.8248594735514, max reward: 2215.842705090061, average reward on test: 2179.916394960959\n",
      "episode: 1267, steps:1000, current reward: 2152.2594434598564, max reward: 2235.8697618878855, average reward on test: 2183.7570738876734\n",
      "episode: 1268, steps:1000, current reward: 2182.326747121889, max reward: 2240.257460399518, average reward on test: 2177.8946014963767\n",
      "episode: 1269, steps:1000, current reward: 2170.8275982577607, max reward: 2227.966088519934, average reward on test: 2182.6932764532517\n",
      "episode: 1270, steps:1000, current reward: 2205.838084702223, max reward: 2233.2049791491286, average reward on test: 2197.052623745182\n",
      "episode: 1271, steps:1000, current reward: 2143.23431249358, max reward: 2215.486096062542, average reward on test: 2175.510469398977\n",
      "episode: 1272, steps:1000, current reward: 2174.9873813636964, max reward: 2254.5641135166525, average reward on test: 2208.8536724922064\n",
      "episode: 1273, steps:1000, current reward: 2154.372014496366, max reward: 2262.516613140433, average reward on test: 2213.2796994132664\n",
      "episode: 1274, steps:1000, current reward: 2203.7288395881187, max reward: 2265.765071828582, average reward on test: 2217.956385942142\n",
      "Saved\n",
      "episode: 1275, steps:1000, current reward: 2147.6505356011385, max reward: 2227.544731374752, average reward on test: 2197.7834674362466\n",
      "episode: 1276, steps:1000, current reward: 2191.5672291722117, max reward: 2223.3771202639377, average reward on test: 2172.1606665091135\n",
      "episode: 1277, steps:1000, current reward: 2167.687733846392, max reward: 2189.54209510139, average reward on test: 2173.6126759442955\n",
      "episode: 1278, steps:1000, current reward: 2205.3400982971198, max reward: 2174.9947424580837, average reward on test: 2124.5157668172665\n",
      "episode: 1279, steps:1000, current reward: 2184.1646547668975, max reward: 2216.903608827718, average reward on test: 2194.2986634693593\n",
      "episode: 1280, steps:1000, current reward: 2224.618415138514, max reward: 2245.141219529521, average reward on test: 2149.0897582575103\n",
      "episode: 1281, steps:1000, current reward: 2195.122700456848, max reward: 2253.462725160673, average reward on test: 2202.41585615878\n",
      "episode: 1282, steps:1000, current reward: 2158.997018385077, max reward: 2227.5037664152655, average reward on test: 2181.073992822089\n",
      "episode: 1283, steps:1000, current reward: 2184.996444956805, max reward: 2221.160405791062, average reward on test: 2183.0109056243286\n",
      "episode: 1284, steps:1000, current reward: 2224.9154910283683, max reward: 2271.0341339931933, average reward on test: 2226.3391936246676\n",
      "Saved\n",
      "episode: 1285, steps:1000, current reward: 2201.751133869926, max reward: 2224.7617525275227, average reward on test: 2188.845667154915\n",
      "episode: 1286, steps:1000, current reward: 2137.4681744537197, max reward: 2202.6211954524974, average reward on test: 2168.18322954845\n",
      "episode: 1287, steps:1000, current reward: 2232.445042475363, max reward: 2229.770987633432, average reward on test: 2189.7950516225387\n",
      "episode: 1288, steps:1000, current reward: 2245.191565317766, max reward: 2235.6512251629197, average reward on test: 2178.633903859303\n",
      "episode: 1289, steps:1000, current reward: 2245.806735278189, max reward: 2277.3077367053484, average reward on test: 2188.276666301454\n",
      "episode: 1290, steps:1000, current reward: 2222.619133064811, max reward: 2262.249577277942, average reward on test: 2221.9672373227168\n",
      "episode: 1291, steps:1000, current reward: 2279.877831969068, max reward: 2255.2866639426315, average reward on test: 2225.7020308611927\n",
      "episode: 1292, steps:1000, current reward: 2238.456387929837, max reward: 2157.913518211264, average reward on test: 2105.7754279021283\n",
      "episode: 1293, steps:1000, current reward: 2211.2314247358076, max reward: 2289.7585463621085, average reward on test: 2261.20807234619\n",
      "Saved\n",
      "episode: 1294, steps:1000, current reward: 2183.4251998326804, max reward: 2276.4910926788857, average reward on test: 2201.7954885970844\n",
      "episode: 1295, steps:1000, current reward: 2260.148813058517, max reward: 2290.348177168416, average reward on test: 2200.7556179938847\n",
      "episode: 1296, steps:1000, current reward: 2210.2406499122185, max reward: 2218.5133253097774, average reward on test: 2189.34696192227\n",
      "episode: 1297, steps:1000, current reward: 2204.9544995953524, max reward: 2248.597146744461, average reward on test: 2212.54234726442\n",
      "episode: 1298, steps:1000, current reward: 2031.3400084406994, max reward: 2307.431521537797, average reward on test: 2259.5941423284066\n",
      "episode: 1299, steps:1000, current reward: 2123.0318799189663, max reward: 2243.1616208829487, average reward on test: 2182.166702558998\n",
      "episode: 1300, steps:1000, current reward: 2246.933075373059, max reward: 2285.2761972496446, average reward on test: 2221.7350991976473\n",
      "episode: 1301, steps:1000, current reward: 2260.5292888237996, max reward: 2253.8148266321964, average reward on test: 2216.022826661972\n",
      "episode: 1302, steps:1000, current reward: 2219.637626434045, max reward: 2299.940866816461, average reward on test: 2247.0316560448787\n",
      "episode: 1303, steps:1000, current reward: 2298.42642530196, max reward: 2266.8821432233676, average reward on test: 2226.7566697413076\n",
      "episode: 1304, steps:1000, current reward: 2259.7467051272247, max reward: 2245.882637185048, average reward on test: 2209.9345067250088\n",
      "episode: 1305, steps:1000, current reward: 2180.6882052722317, max reward: 2282.2013470058328, average reward on test: 2256.4685232441666\n",
      "episode: 1306, steps:1000, current reward: 2224.6951966363163, max reward: 2313.716094810852, average reward on test: 2250.4525226132027\n",
      "episode: 1307, steps:1000, current reward: 2221.6136792965863, max reward: 2301.145808094993, average reward on test: 2264.131449030868\n",
      "Saved\n",
      "episode: 1308, steps:1000, current reward: 2239.0064372563847, max reward: 2252.023681652551, average reward on test: 2210.495121920224\n",
      "episode: 1309, steps:1000, current reward: 2261.626469445285, max reward: 2272.1448620937326, average reward on test: 2216.3209583045937\n",
      "episode: 1310, steps:1000, current reward: 2276.2576642404288, max reward: 2229.822540467215, average reward on test: 2207.6071132611987\n"
     ]
    },
    {
     "name": "stdout",
     "output_type": "stream",
     "text": [
      "episode: 1311, steps:1000, current reward: 2227.1719346024925, max reward: 2240.7695502444403, average reward on test: 2201.5210392185513\n",
      "episode: 1312, steps:1000, current reward: 2237.9087030017413, max reward: 2288.4235444316696, average reward on test: 2242.4447599199407\n",
      "episode: 1313, steps:1000, current reward: 2209.799255861388, max reward: 2283.2384487670106, average reward on test: 2237.8669215635946\n",
      "episode: 1314, steps:1000, current reward: 2265.117015933977, max reward: 2262.179904886238, average reward on test: 2228.6334239626585\n",
      "episode: 1315, steps:1000, current reward: 2184.5145310356797, max reward: 2310.634124883971, average reward on test: 2252.0770877511154\n",
      "episode: 1316, steps:1000, current reward: 2133.5602775080206, max reward: 2259.1177296530395, average reward on test: 2213.687683389528\n",
      "episode: 1317, steps:1000, current reward: 2248.6245430116423, max reward: 2333.757944217437, average reward on test: 2286.4959818284524\n",
      "Saved\n",
      "episode: 1318, steps:1000, current reward: 2229.7517186901123, max reward: 2327.2391197133184, average reward on test: 2259.9871350667695\n",
      "episode: 1319, steps:1000, current reward: 2209.6108946784248, max reward: 2284.4638258594873, average reward on test: 2245.368177010105\n",
      "episode: 1320, steps:1000, current reward: 2259.9134291766927, max reward: 2209.227271432177, average reward on test: 2178.369297236831\n",
      "episode: 1321, steps:1000, current reward: 2260.000996482751, max reward: 2310.9113177732, average reward on test: 2264.96797566222\n",
      "episode: 1322, steps:1000, current reward: 2204.6237354271757, max reward: 2353.9704894004435, average reward on test: 2285.0979535799443\n",
      "episode: 1323, steps:1000, current reward: 2181.964978493636, max reward: 2246.7297952404615, average reward on test: 2202.25254704144\n",
      "episode: 1324, steps:1000, current reward: 2209.523367339537, max reward: 2309.404021602607, average reward on test: 2230.0787473807927\n",
      "episode: 1325, steps:1000, current reward: 2226.7713311469174, max reward: 2266.3515985016356, average reward on test: 2213.820723498127\n",
      "episode: 1326, steps:1000, current reward: 2283.1215644113163, max reward: 2285.758400739018, average reward on test: 2240.320776799076\n",
      "episode: 1327, steps:1000, current reward: 2248.595541334109, max reward: 2266.2940298642684, average reward on test: 2235.7968240989712\n",
      "episode: 1328, steps:1000, current reward: 2248.8625834729432, max reward: 2301.735146775693, average reward on test: 2263.302341512118\n",
      "episode: 1329, steps:1000, current reward: 2219.5741434572883, max reward: 2350.554360113916, average reward on test: 2286.465890791851\n",
      "episode: 1330, steps:1000, current reward: 2246.2332734954366, max reward: 2272.643418684927, average reward on test: 2233.7619924166916\n",
      "episode: 1331, steps:1000, current reward: 2268.23538317079, max reward: 2265.618881056058, average reward on test: 2221.821062781563\n",
      "episode: 1332, steps:1000, current reward: 2300.468958164088, max reward: 2270.1809254023124, average reward on test: 2239.072313528576\n",
      "episode: 1333, steps:1000, current reward: 2223.5790080956276, max reward: 2312.0307856187897, average reward on test: 2276.2771390019284\n",
      "episode: 1334, steps:1000, current reward: 2261.592293193196, max reward: 2314.215249634029, average reward on test: 2275.090157647459\n",
      "episode: 1335, steps:1000, current reward: 2313.6065552132445, max reward: 2314.8213909450724, average reward on test: 2230.702334818153\n",
      "episode: 1336, steps:1000, current reward: 2287.363673977813, max reward: 2314.7011067972007, average reward on test: 2269.022914183041\n",
      "episode: 1337, steps:1000, current reward: 2257.348050594419, max reward: 2320.9239873007737, average reward on test: 2284.6525358611216\n",
      "episode: 1338, steps:1000, current reward: 2305.7504393029867, max reward: 2314.216897492603, average reward on test: 2271.4326309729913\n",
      "episode: 1339, steps:1000, current reward: 2197.9530480020194, max reward: 2273.446815709746, average reward on test: 2228.557285724419\n",
      "episode: 1340, steps:1000, current reward: 2316.230712354247, max reward: 2328.9803210481546, average reward on test: 2276.001816245168\n",
      "episode: 1341, steps:1000, current reward: 2343.6300953759383, max reward: 2429.317864846839, average reward on test: 2354.502525773014\n",
      "Saved\n",
      "episode: 1342, steps:1000, current reward: 2288.8432366258435, max reward: 2350.1744728688095, average reward on test: 2314.9941665711617\n"
     ]
    }
   ],
   "source": [
    "def sac(episodes):\n",
    "    agent = Sac_agent(state_size = state_size, action_size = action_size, hidden_dim = 256, high = high, low = low, \n",
    "                  buffer_size = BUFFER_SIZE, batch_size = BATCH_SIZE, gamma = GAMMA, tau = TAU, \n",
    "                  num_updates = NUM_UPDATES, update_rate = UPDATE_RATE, alpha = ENTROPY_COEFFICIENT)\n",
    "    time_start = time.time()\n",
    "    reward_list = []\n",
    "    avg_score_deque = deque(maxlen = 100)\n",
    "    avg_scores_list = []\n",
    "    mean_reward = -20000\n",
    "    for i in range(episodes):\n",
    "        state = env.reset()\n",
    "        total_reward = 0\n",
    "        done = False\n",
    "        episode_steps = 0\n",
    "        while not done:\n",
    "            episode_steps+=1    \n",
    "            if i < 10:\n",
    "                action = env.action_space.sample()\n",
    "            else:\n",
    "                action = agent.act(state)\n",
    "            next_state, reward, done, _ = env.step(action)\n",
    "            \n",
    "            mask = 1 if episode_steps == env._max_episode_steps else float(not done)\n",
    "            \n",
    "            agent.step(state, action, reward, next_state, mask)\n",
    "            total_reward += reward\n",
    "            state = next_state\n",
    "            \n",
    "        reward_list.append(total_reward)\n",
    "        avg_score_deque.append(total_reward)\n",
    "        mean = np.mean(avg_score_deque)\n",
    "        avg_scores_list.append(mean)\n",
    "        \n",
    "        if total_reward > 2000:\n",
    "            r = agent.test()\n",
    "            local_mean = np.mean(r)\n",
    "            print(f\"episode: {i+1}, steps:{episode_steps}, current reward: {total_reward}, max reward: {np.max(r)}, average reward on test: {local_mean}\")\n",
    "            if local_mean > mean_reward:\n",
    "                mean_reward = local_mean\n",
    "                agent.save()\n",
    "                print(\"Saved\")\n",
    "        elif (i+1) % 1 == 0:\n",
    "            s =  (int)(time.time() - time_start)            \n",
    "            print(\"Ep.: {}, Ep.Steps: {}, Score: {:.2f}, Avg.Score: {:.2f}, Time: {:02}:{:02}:{:02}\".\\\n",
    "            format(i+1, episode_steps, total_reward, mean, \\\n",
    "                  s//3600, s%3600//60, s%60))\n",
    "            \n",
    "    return reward_list, avg_scores_list\n",
    "\n",
    "reward, avg_reward = sac(EPISODES)           "
   ]
  },
  {
   "cell_type": "code",
   "execution_count": 21,
   "metadata": {},
   "outputs": [
    {
     "data": {
      "text/plain": [
       "<All keys matched successfully>"
      ]
     },
     "execution_count": 21,
     "metadata": {},
     "output_type": "execute_result"
    }
   ],
   "source": [
    "best_actor = Actor(state_size, action_size, hidden_dim = 256, high = high, low = low)\n",
    "best_actor.load_state_dict(torch.load(\"ant_actor.pkl\"))"
   ]
  },
  {
   "cell_type": "code",
   "execution_count": 22,
   "metadata": {},
   "outputs": [
    {
     "data": {
      "text/plain": [
       "Actor(\n",
       "  (linear1): Linear(in_features=28, out_features=256, bias=True)\n",
       "  (linear2): Linear(in_features=256, out_features=256, bias=True)\n",
       "  (mean): Linear(in_features=256, out_features=8, bias=True)\n",
       "  (log_std): Linear(in_features=256, out_features=8, bias=True)\n",
       ")"
      ]
     },
     "execution_count": 22,
     "metadata": {},
     "output_type": "execute_result"
    }
   ],
   "source": [
    "best_actor.to(device)"
   ]
  },
  {
   "cell_type": "code",
   "execution_count": 49,
   "metadata": {},
   "outputs": [],
   "source": [
    "new_env = make(\"AntBulletEnv-v0\")\n",
    "new_env.seed(9)\n",
    "reward_test = []\n",
    "for i in range(100):\n",
    "    state = new_env.reset()\n",
    "    local_reward = 0\n",
    "    done = False\n",
    "    while not done:\n",
    "        state =  torch.tensor(state).to(device).float()\n",
    "        action,logp = best_actor(state)        \n",
    "        action = action.cpu().data.numpy()\n",
    "        state, r, done, _ = new_env.step(action)\n",
    "        local_reward += r\n",
    "    reward_test.append(local_reward)"
   ]
  },
  {
   "cell_type": "markdown",
   "metadata": {},
   "source": [
    "## Test results"
   ]
  },
  {
   "cell_type": "code",
   "execution_count": 50,
   "metadata": {},
   "outputs": [],
   "source": [
    "import plotly.graph_objects as go"
   ]
  },
  {
   "cell_type": "code",
   "execution_count": 51,
   "metadata": {},
   "outputs": [],
   "source": [
    "x = np.array(range(len(reward_test)))\n",
    "m = np.mean(reward_test)"
   ]
  },
  {
   "cell_type": "code",
   "execution_count": 52,
   "metadata": {},
   "outputs": [
    {
     "data": {
      "application/vnd.plotly.v1+json": {
       "config": {
        "plotlyServerURL": "https://plot.ly"
       },
       "data": [
        {
         "line": {
          "color": "green",
          "width": 1
         },
         "name": "test reward",
         "type": "scatter",
         "x": [
          0,
          1,
          2,
          3,
          4,
          5,
          6,
          7,
          8,
          9,
          10,
          11,
          12,
          13,
          14,
          15,
          16,
          17,
          18,
          19,
          20,
          21,
          22,
          23,
          24,
          25,
          26,
          27,
          28,
          29,
          30,
          31,
          32,
          33,
          34,
          35,
          36,
          37,
          38,
          39,
          40,
          41,
          42,
          43,
          44,
          45,
          46,
          47,
          48,
          49,
          50,
          51,
          52,
          53,
          54,
          55,
          56,
          57,
          58,
          59,
          60,
          61,
          62,
          63,
          64,
          65,
          66,
          67,
          68,
          69,
          70,
          71,
          72,
          73,
          74,
          75,
          76,
          77,
          78,
          79,
          80,
          81,
          82,
          83,
          84,
          85,
          86,
          87,
          88,
          89,
          90,
          91,
          92,
          93,
          94,
          95,
          96,
          97,
          98,
          99
         ],
         "y": [
          2151.3328274638025,
          2024.562454984408,
          2128.2403672104,
          2096.9048970196686,
          1954.172880064457,
          2080.0693145174987,
          2081.4943281837805,
          2015.6946036237027,
          2016.0144173136555,
          2167.131817171057,
          2156.628576046416,
          2101.984693561042,
          2038.776796535372,
          2037.961005940818,
          2039.0560030510974,
          2151.6444781851105,
          2122.0745075338377,
          1999.4786100852345,
          2084.7149229730985,
          2152.87619817403,
          2069.9941765255144,
          2051.8265495638916,
          2091.083984010656,
          2015.459766949669,
          2104.165896148807,
          2086.0601266652952,
          1932.2850288064028,
          2066.4577764749265,
          2094.79954333922,
          2055.8812577939448,
          1989.59147036685,
          2020.851496913328,
          2084.0640916281673,
          2093.4276683814523,
          2041.7494108459985,
          2070.46097422679,
          2022.8910137380021,
          2105.772074692726,
          2057.3224910289846,
          2047.466835152817,
          2062.8321572252653,
          2098.3485282311244,
          2123.493044511665,
          2128.935975398785,
          2063.1244486822357,
          2084.401890432705,
          2100.3636023545096,
          2129.308660061692,
          2079.5847202088326,
          2235.3240251881675,
          2131.8303533783437,
          2081.75154882882,
          2086.215529500219,
          1990.0333692539043,
          2109.864400901781,
          2081.9117770467174,
          1893.2367730783305,
          1948.1075768002759,
          2035.9602462045443,
          2150.481441479534,
          2004.6522106976324,
          2047.5748227349582,
          2077.522339230317,
          2054.7895662141186,
          2110.671371911171,
          1984.8632502315456,
          2034.2543926102562,
          2078.3003928954104,
          2147.4139078049147,
          2101.8358705773835,
          2074.332526654703,
          2162.33313461738,
          2006.676659818247,
          2058.7498007520167,
          2004.5152623060642,
          2060.648186043503,
          2024.1013133073702,
          2064.352897540468,
          2107.1984418650018,
          1976.5578523587697,
          2231.7772213302437,
          2071.822890161921,
          2104.3284771662043,
          1922.8653918855148,
          2044.729906511922,
          2112.7883211574563,
          2075.286306951372,
          2124.8682540719883,
          2054.782644617238,
          2122.5745609239534,
          2095.9581446983507,
          2055.920357794318,
          2075.4084951408563,
          1983.3038394100306,
          2075.859346467033,
          2027.525099993758,
          2103.304896093161,
          2139.6275602650426,
          2075.6681693454716,
          1972.0202020476943
         ]
        },
        {
         "line": {
          "color": "red",
          "width": 1
         },
         "name": "average reward",
         "type": "scatter",
         "x": [
          0,
          1,
          2,
          3,
          4,
          5,
          6,
          7,
          8,
          9,
          10,
          11,
          12,
          13,
          14,
          15,
          16,
          17,
          18,
          19,
          20,
          21,
          22,
          23,
          24,
          25,
          26,
          27,
          28,
          29,
          30,
          31,
          32,
          33,
          34,
          35,
          36,
          37,
          38,
          39,
          40,
          41,
          42,
          43,
          44,
          45,
          46,
          47,
          48,
          49,
          50,
          51,
          52,
          53,
          54,
          55,
          56,
          57,
          58,
          59,
          60,
          61,
          62,
          63,
          64,
          65,
          66,
          67,
          68,
          69,
          70,
          71,
          72,
          73,
          74,
          75,
          76,
          77,
          78,
          79,
          80,
          81,
          82,
          83,
          84,
          85,
          86,
          87,
          88,
          89,
          90,
          91,
          92,
          93,
          94,
          95,
          96,
          97,
          98,
          99
         ],
         "y": [
          2069.692996878641,
          2069.692996878641,
          2069.692996878641,
          2069.692996878641,
          2069.692996878641,
          2069.692996878641,
          2069.692996878641,
          2069.692996878641,
          2069.692996878641,
          2069.692996878641,
          2069.692996878641,
          2069.692996878641,
          2069.692996878641,
          2069.692996878641,
          2069.692996878641,
          2069.692996878641,
          2069.692996878641,
          2069.692996878641,
          2069.692996878641,
          2069.692996878641,
          2069.692996878641,
          2069.692996878641,
          2069.692996878641,
          2069.692996878641,
          2069.692996878641,
          2069.692996878641,
          2069.692996878641,
          2069.692996878641,
          2069.692996878641,
          2069.692996878641,
          2069.692996878641,
          2069.692996878641,
          2069.692996878641,
          2069.692996878641,
          2069.692996878641,
          2069.692996878641,
          2069.692996878641,
          2069.692996878641,
          2069.692996878641,
          2069.692996878641,
          2069.692996878641,
          2069.692996878641,
          2069.692996878641,
          2069.692996878641,
          2069.692996878641,
          2069.692996878641,
          2069.692996878641,
          2069.692996878641,
          2069.692996878641,
          2069.692996878641,
          2069.692996878641,
          2069.692996878641,
          2069.692996878641,
          2069.692996878641,
          2069.692996878641,
          2069.692996878641,
          2069.692996878641,
          2069.692996878641,
          2069.692996878641,
          2069.692996878641,
          2069.692996878641,
          2069.692996878641,
          2069.692996878641,
          2069.692996878641,
          2069.692996878641,
          2069.692996878641,
          2069.692996878641,
          2069.692996878641,
          2069.692996878641,
          2069.692996878641,
          2069.692996878641,
          2069.692996878641,
          2069.692996878641,
          2069.692996878641,
          2069.692996878641,
          2069.692996878641,
          2069.692996878641,
          2069.692996878641,
          2069.692996878641,
          2069.692996878641,
          2069.692996878641,
          2069.692996878641,
          2069.692996878641,
          2069.692996878641,
          2069.692996878641,
          2069.692996878641,
          2069.692996878641,
          2069.692996878641,
          2069.692996878641,
          2069.692996878641,
          2069.692996878641,
          2069.692996878641,
          2069.692996878641,
          2069.692996878641,
          2069.692996878641,
          2069.692996878641,
          2069.692996878641,
          2069.692996878641,
          2069.692996878641,
          2069.692996878641
         ]
        }
       ],
       "layout": {
        "template": {
         "data": {
          "bar": [
           {
            "error_x": {
             "color": "#2a3f5f"
            },
            "error_y": {
             "color": "#2a3f5f"
            },
            "marker": {
             "line": {
              "color": "#E5ECF6",
              "width": 0.5
             }
            },
            "type": "bar"
           }
          ],
          "barpolar": [
           {
            "marker": {
             "line": {
              "color": "#E5ECF6",
              "width": 0.5
             }
            },
            "type": "barpolar"
           }
          ],
          "carpet": [
           {
            "aaxis": {
             "endlinecolor": "#2a3f5f",
             "gridcolor": "white",
             "linecolor": "white",
             "minorgridcolor": "white",
             "startlinecolor": "#2a3f5f"
            },
            "baxis": {
             "endlinecolor": "#2a3f5f",
             "gridcolor": "white",
             "linecolor": "white",
             "minorgridcolor": "white",
             "startlinecolor": "#2a3f5f"
            },
            "type": "carpet"
           }
          ],
          "choropleth": [
           {
            "colorbar": {
             "outlinewidth": 0,
             "ticks": ""
            },
            "type": "choropleth"
           }
          ],
          "contour": [
           {
            "colorbar": {
             "outlinewidth": 0,
             "ticks": ""
            },
            "colorscale": [
             [
              0,
              "#0d0887"
             ],
             [
              0.1111111111111111,
              "#46039f"
             ],
             [
              0.2222222222222222,
              "#7201a8"
             ],
             [
              0.3333333333333333,
              "#9c179e"
             ],
             [
              0.4444444444444444,
              "#bd3786"
             ],
             [
              0.5555555555555556,
              "#d8576b"
             ],
             [
              0.6666666666666666,
              "#ed7953"
             ],
             [
              0.7777777777777778,
              "#fb9f3a"
             ],
             [
              0.8888888888888888,
              "#fdca26"
             ],
             [
              1,
              "#f0f921"
             ]
            ],
            "type": "contour"
           }
          ],
          "contourcarpet": [
           {
            "colorbar": {
             "outlinewidth": 0,
             "ticks": ""
            },
            "type": "contourcarpet"
           }
          ],
          "heatmap": [
           {
            "colorbar": {
             "outlinewidth": 0,
             "ticks": ""
            },
            "colorscale": [
             [
              0,
              "#0d0887"
             ],
             [
              0.1111111111111111,
              "#46039f"
             ],
             [
              0.2222222222222222,
              "#7201a8"
             ],
             [
              0.3333333333333333,
              "#9c179e"
             ],
             [
              0.4444444444444444,
              "#bd3786"
             ],
             [
              0.5555555555555556,
              "#d8576b"
             ],
             [
              0.6666666666666666,
              "#ed7953"
             ],
             [
              0.7777777777777778,
              "#fb9f3a"
             ],
             [
              0.8888888888888888,
              "#fdca26"
             ],
             [
              1,
              "#f0f921"
             ]
            ],
            "type": "heatmap"
           }
          ],
          "heatmapgl": [
           {
            "colorbar": {
             "outlinewidth": 0,
             "ticks": ""
            },
            "colorscale": [
             [
              0,
              "#0d0887"
             ],
             [
              0.1111111111111111,
              "#46039f"
             ],
             [
              0.2222222222222222,
              "#7201a8"
             ],
             [
              0.3333333333333333,
              "#9c179e"
             ],
             [
              0.4444444444444444,
              "#bd3786"
             ],
             [
              0.5555555555555556,
              "#d8576b"
             ],
             [
              0.6666666666666666,
              "#ed7953"
             ],
             [
              0.7777777777777778,
              "#fb9f3a"
             ],
             [
              0.8888888888888888,
              "#fdca26"
             ],
             [
              1,
              "#f0f921"
             ]
            ],
            "type": "heatmapgl"
           }
          ],
          "histogram": [
           {
            "marker": {
             "colorbar": {
              "outlinewidth": 0,
              "ticks": ""
             }
            },
            "type": "histogram"
           }
          ],
          "histogram2d": [
           {
            "colorbar": {
             "outlinewidth": 0,
             "ticks": ""
            },
            "colorscale": [
             [
              0,
              "#0d0887"
             ],
             [
              0.1111111111111111,
              "#46039f"
             ],
             [
              0.2222222222222222,
              "#7201a8"
             ],
             [
              0.3333333333333333,
              "#9c179e"
             ],
             [
              0.4444444444444444,
              "#bd3786"
             ],
             [
              0.5555555555555556,
              "#d8576b"
             ],
             [
              0.6666666666666666,
              "#ed7953"
             ],
             [
              0.7777777777777778,
              "#fb9f3a"
             ],
             [
              0.8888888888888888,
              "#fdca26"
             ],
             [
              1,
              "#f0f921"
             ]
            ],
            "type": "histogram2d"
           }
          ],
          "histogram2dcontour": [
           {
            "colorbar": {
             "outlinewidth": 0,
             "ticks": ""
            },
            "colorscale": [
             [
              0,
              "#0d0887"
             ],
             [
              0.1111111111111111,
              "#46039f"
             ],
             [
              0.2222222222222222,
              "#7201a8"
             ],
             [
              0.3333333333333333,
              "#9c179e"
             ],
             [
              0.4444444444444444,
              "#bd3786"
             ],
             [
              0.5555555555555556,
              "#d8576b"
             ],
             [
              0.6666666666666666,
              "#ed7953"
             ],
             [
              0.7777777777777778,
              "#fb9f3a"
             ],
             [
              0.8888888888888888,
              "#fdca26"
             ],
             [
              1,
              "#f0f921"
             ]
            ],
            "type": "histogram2dcontour"
           }
          ],
          "mesh3d": [
           {
            "colorbar": {
             "outlinewidth": 0,
             "ticks": ""
            },
            "type": "mesh3d"
           }
          ],
          "parcoords": [
           {
            "line": {
             "colorbar": {
              "outlinewidth": 0,
              "ticks": ""
             }
            },
            "type": "parcoords"
           }
          ],
          "scatter": [
           {
            "marker": {
             "colorbar": {
              "outlinewidth": 0,
              "ticks": ""
             }
            },
            "type": "scatter"
           }
          ],
          "scatter3d": [
           {
            "line": {
             "colorbar": {
              "outlinewidth": 0,
              "ticks": ""
             }
            },
            "marker": {
             "colorbar": {
              "outlinewidth": 0,
              "ticks": ""
             }
            },
            "type": "scatter3d"
           }
          ],
          "scattercarpet": [
           {
            "marker": {
             "colorbar": {
              "outlinewidth": 0,
              "ticks": ""
             }
            },
            "type": "scattercarpet"
           }
          ],
          "scattergeo": [
           {
            "marker": {
             "colorbar": {
              "outlinewidth": 0,
              "ticks": ""
             }
            },
            "type": "scattergeo"
           }
          ],
          "scattergl": [
           {
            "marker": {
             "colorbar": {
              "outlinewidth": 0,
              "ticks": ""
             }
            },
            "type": "scattergl"
           }
          ],
          "scattermapbox": [
           {
            "marker": {
             "colorbar": {
              "outlinewidth": 0,
              "ticks": ""
             }
            },
            "type": "scattermapbox"
           }
          ],
          "scatterpolar": [
           {
            "marker": {
             "colorbar": {
              "outlinewidth": 0,
              "ticks": ""
             }
            },
            "type": "scatterpolar"
           }
          ],
          "scatterpolargl": [
           {
            "marker": {
             "colorbar": {
              "outlinewidth": 0,
              "ticks": ""
             }
            },
            "type": "scatterpolargl"
           }
          ],
          "scatterternary": [
           {
            "marker": {
             "colorbar": {
              "outlinewidth": 0,
              "ticks": ""
             }
            },
            "type": "scatterternary"
           }
          ],
          "surface": [
           {
            "colorbar": {
             "outlinewidth": 0,
             "ticks": ""
            },
            "colorscale": [
             [
              0,
              "#0d0887"
             ],
             [
              0.1111111111111111,
              "#46039f"
             ],
             [
              0.2222222222222222,
              "#7201a8"
             ],
             [
              0.3333333333333333,
              "#9c179e"
             ],
             [
              0.4444444444444444,
              "#bd3786"
             ],
             [
              0.5555555555555556,
              "#d8576b"
             ],
             [
              0.6666666666666666,
              "#ed7953"
             ],
             [
              0.7777777777777778,
              "#fb9f3a"
             ],
             [
              0.8888888888888888,
              "#fdca26"
             ],
             [
              1,
              "#f0f921"
             ]
            ],
            "type": "surface"
           }
          ],
          "table": [
           {
            "cells": {
             "fill": {
              "color": "#EBF0F8"
             },
             "line": {
              "color": "white"
             }
            },
            "header": {
             "fill": {
              "color": "#C8D4E3"
             },
             "line": {
              "color": "white"
             }
            },
            "type": "table"
           }
          ]
         },
         "layout": {
          "annotationdefaults": {
           "arrowcolor": "#2a3f5f",
           "arrowhead": 0,
           "arrowwidth": 1
          },
          "colorscale": {
           "diverging": [
            [
             0,
             "#8e0152"
            ],
            [
             0.1,
             "#c51b7d"
            ],
            [
             0.2,
             "#de77ae"
            ],
            [
             0.3,
             "#f1b6da"
            ],
            [
             0.4,
             "#fde0ef"
            ],
            [
             0.5,
             "#f7f7f7"
            ],
            [
             0.6,
             "#e6f5d0"
            ],
            [
             0.7,
             "#b8e186"
            ],
            [
             0.8,
             "#7fbc41"
            ],
            [
             0.9,
             "#4d9221"
            ],
            [
             1,
             "#276419"
            ]
           ],
           "sequential": [
            [
             0,
             "#0d0887"
            ],
            [
             0.1111111111111111,
             "#46039f"
            ],
            [
             0.2222222222222222,
             "#7201a8"
            ],
            [
             0.3333333333333333,
             "#9c179e"
            ],
            [
             0.4444444444444444,
             "#bd3786"
            ],
            [
             0.5555555555555556,
             "#d8576b"
            ],
            [
             0.6666666666666666,
             "#ed7953"
            ],
            [
             0.7777777777777778,
             "#fb9f3a"
            ],
            [
             0.8888888888888888,
             "#fdca26"
            ],
            [
             1,
             "#f0f921"
            ]
           ],
           "sequentialminus": [
            [
             0,
             "#0d0887"
            ],
            [
             0.1111111111111111,
             "#46039f"
            ],
            [
             0.2222222222222222,
             "#7201a8"
            ],
            [
             0.3333333333333333,
             "#9c179e"
            ],
            [
             0.4444444444444444,
             "#bd3786"
            ],
            [
             0.5555555555555556,
             "#d8576b"
            ],
            [
             0.6666666666666666,
             "#ed7953"
            ],
            [
             0.7777777777777778,
             "#fb9f3a"
            ],
            [
             0.8888888888888888,
             "#fdca26"
            ],
            [
             1,
             "#f0f921"
            ]
           ]
          },
          "colorway": [
           "#636efa",
           "#EF553B",
           "#00cc96",
           "#ab63fa",
           "#FFA15A",
           "#19d3f3",
           "#FF6692",
           "#B6E880",
           "#FF97FF",
           "#FECB52"
          ],
          "font": {
           "color": "#2a3f5f"
          },
          "geo": {
           "bgcolor": "white",
           "lakecolor": "white",
           "landcolor": "#E5ECF6",
           "showlakes": true,
           "showland": true,
           "subunitcolor": "white"
          },
          "hoverlabel": {
           "align": "left"
          },
          "hovermode": "closest",
          "mapbox": {
           "style": "light"
          },
          "paper_bgcolor": "white",
          "plot_bgcolor": "#E5ECF6",
          "polar": {
           "angularaxis": {
            "gridcolor": "white",
            "linecolor": "white",
            "ticks": ""
           },
           "bgcolor": "#E5ECF6",
           "radialaxis": {
            "gridcolor": "white",
            "linecolor": "white",
            "ticks": ""
           }
          },
          "scene": {
           "xaxis": {
            "backgroundcolor": "#E5ECF6",
            "gridcolor": "white",
            "gridwidth": 2,
            "linecolor": "white",
            "showbackground": true,
            "ticks": "",
            "zerolinecolor": "white"
           },
           "yaxis": {
            "backgroundcolor": "#E5ECF6",
            "gridcolor": "white",
            "gridwidth": 2,
            "linecolor": "white",
            "showbackground": true,
            "ticks": "",
            "zerolinecolor": "white"
           },
           "zaxis": {
            "backgroundcolor": "#E5ECF6",
            "gridcolor": "white",
            "gridwidth": 2,
            "linecolor": "white",
            "showbackground": true,
            "ticks": "",
            "zerolinecolor": "white"
           }
          },
          "shapedefaults": {
           "line": {
            "color": "#2a3f5f"
           }
          },
          "ternary": {
           "aaxis": {
            "gridcolor": "white",
            "linecolor": "white",
            "ticks": ""
           },
           "baxis": {
            "gridcolor": "white",
            "linecolor": "white",
            "ticks": ""
           },
           "bgcolor": "#E5ECF6",
           "caxis": {
            "gridcolor": "white",
            "linecolor": "white",
            "ticks": ""
           }
          },
          "title": {
           "x": 0.05
          },
          "xaxis": {
           "automargin": true,
           "gridcolor": "white",
           "linecolor": "white",
           "ticks": "",
           "zerolinecolor": "white",
           "zerolinewidth": 2
          },
          "yaxis": {
           "automargin": true,
           "gridcolor": "white",
           "linecolor": "white",
           "ticks": "",
           "zerolinecolor": "white",
           "zerolinewidth": 2
          }
         }
        },
        "title": {
         "text": "SAC"
        },
        "xaxis": {
         "title": {
          "text": "test"
         }
        },
        "yaxis": {
         "title": {
          "text": "reward"
         }
        }
       }
      },
      "text/html": [
       "<div>\n",
       "        \n",
       "        \n",
       "            <div id=\"e29ee1d9-ec9c-445c-9ba5-c229f4d9ae96\" class=\"plotly-graph-div\" style=\"height:525px; width:100%;\"></div>\n",
       "            <script type=\"text/javascript\">\n",
       "                require([\"plotly\"], function(Plotly) {\n",
       "                    window.PLOTLYENV=window.PLOTLYENV || {};\n",
       "                    \n",
       "                if (document.getElementById(\"e29ee1d9-ec9c-445c-9ba5-c229f4d9ae96\")) {\n",
       "                    Plotly.newPlot(\n",
       "                        'e29ee1d9-ec9c-445c-9ba5-c229f4d9ae96',\n",
       "                        [{\"line\": {\"color\": \"green\", \"width\": 1}, \"name\": \"test reward\", \"type\": \"scatter\", \"x\": [0, 1, 2, 3, 4, 5, 6, 7, 8, 9, 10, 11, 12, 13, 14, 15, 16, 17, 18, 19, 20, 21, 22, 23, 24, 25, 26, 27, 28, 29, 30, 31, 32, 33, 34, 35, 36, 37, 38, 39, 40, 41, 42, 43, 44, 45, 46, 47, 48, 49, 50, 51, 52, 53, 54, 55, 56, 57, 58, 59, 60, 61, 62, 63, 64, 65, 66, 67, 68, 69, 70, 71, 72, 73, 74, 75, 76, 77, 78, 79, 80, 81, 82, 83, 84, 85, 86, 87, 88, 89, 90, 91, 92, 93, 94, 95, 96, 97, 98, 99], \"y\": [2151.3328274638025, 2024.562454984408, 2128.2403672104, 2096.9048970196686, 1954.172880064457, 2080.0693145174987, 2081.4943281837805, 2015.6946036237027, 2016.0144173136555, 2167.131817171057, 2156.628576046416, 2101.984693561042, 2038.776796535372, 2037.961005940818, 2039.0560030510974, 2151.6444781851105, 2122.0745075338377, 1999.4786100852345, 2084.7149229730985, 2152.87619817403, 2069.9941765255144, 2051.8265495638916, 2091.083984010656, 2015.459766949669, 2104.165896148807, 2086.0601266652952, 1932.2850288064028, 2066.4577764749265, 2094.79954333922, 2055.8812577939448, 1989.59147036685, 2020.851496913328, 2084.0640916281673, 2093.4276683814523, 2041.7494108459985, 2070.46097422679, 2022.8910137380021, 2105.772074692726, 2057.3224910289846, 2047.466835152817, 2062.8321572252653, 2098.3485282311244, 2123.493044511665, 2128.935975398785, 2063.1244486822357, 2084.401890432705, 2100.3636023545096, 2129.308660061692, 2079.5847202088326, 2235.3240251881675, 2131.8303533783437, 2081.75154882882, 2086.215529500219, 1990.0333692539043, 2109.864400901781, 2081.9117770467174, 1893.2367730783305, 1948.1075768002759, 2035.9602462045443, 2150.481441479534, 2004.6522106976324, 2047.5748227349582, 2077.522339230317, 2054.7895662141186, 2110.671371911171, 1984.8632502315456, 2034.2543926102562, 2078.3003928954104, 2147.4139078049147, 2101.8358705773835, 2074.332526654703, 2162.33313461738, 2006.676659818247, 2058.7498007520167, 2004.5152623060642, 2060.648186043503, 2024.1013133073702, 2064.352897540468, 2107.1984418650018, 1976.5578523587697, 2231.7772213302437, 2071.822890161921, 2104.3284771662043, 1922.8653918855148, 2044.729906511922, 2112.7883211574563, 2075.286306951372, 2124.8682540719883, 2054.782644617238, 2122.5745609239534, 2095.9581446983507, 2055.920357794318, 2075.4084951408563, 1983.3038394100306, 2075.859346467033, 2027.525099993758, 2103.304896093161, 2139.6275602650426, 2075.6681693454716, 1972.0202020476943]}, {\"line\": {\"color\": \"red\", \"width\": 1}, \"name\": \"average reward\", \"type\": \"scatter\", \"x\": [0, 1, 2, 3, 4, 5, 6, 7, 8, 9, 10, 11, 12, 13, 14, 15, 16, 17, 18, 19, 20, 21, 22, 23, 24, 25, 26, 27, 28, 29, 30, 31, 32, 33, 34, 35, 36, 37, 38, 39, 40, 41, 42, 43, 44, 45, 46, 47, 48, 49, 50, 51, 52, 53, 54, 55, 56, 57, 58, 59, 60, 61, 62, 63, 64, 65, 66, 67, 68, 69, 70, 71, 72, 73, 74, 75, 76, 77, 78, 79, 80, 81, 82, 83, 84, 85, 86, 87, 88, 89, 90, 91, 92, 93, 94, 95, 96, 97, 98, 99], \"y\": [2069.692996878641, 2069.692996878641, 2069.692996878641, 2069.692996878641, 2069.692996878641, 2069.692996878641, 2069.692996878641, 2069.692996878641, 2069.692996878641, 2069.692996878641, 2069.692996878641, 2069.692996878641, 2069.692996878641, 2069.692996878641, 2069.692996878641, 2069.692996878641, 2069.692996878641, 2069.692996878641, 2069.692996878641, 2069.692996878641, 2069.692996878641, 2069.692996878641, 2069.692996878641, 2069.692996878641, 2069.692996878641, 2069.692996878641, 2069.692996878641, 2069.692996878641, 2069.692996878641, 2069.692996878641, 2069.692996878641, 2069.692996878641, 2069.692996878641, 2069.692996878641, 2069.692996878641, 2069.692996878641, 2069.692996878641, 2069.692996878641, 2069.692996878641, 2069.692996878641, 2069.692996878641, 2069.692996878641, 2069.692996878641, 2069.692996878641, 2069.692996878641, 2069.692996878641, 2069.692996878641, 2069.692996878641, 2069.692996878641, 2069.692996878641, 2069.692996878641, 2069.692996878641, 2069.692996878641, 2069.692996878641, 2069.692996878641, 2069.692996878641, 2069.692996878641, 2069.692996878641, 2069.692996878641, 2069.692996878641, 2069.692996878641, 2069.692996878641, 2069.692996878641, 2069.692996878641, 2069.692996878641, 2069.692996878641, 2069.692996878641, 2069.692996878641, 2069.692996878641, 2069.692996878641, 2069.692996878641, 2069.692996878641, 2069.692996878641, 2069.692996878641, 2069.692996878641, 2069.692996878641, 2069.692996878641, 2069.692996878641, 2069.692996878641, 2069.692996878641, 2069.692996878641, 2069.692996878641, 2069.692996878641, 2069.692996878641, 2069.692996878641, 2069.692996878641, 2069.692996878641, 2069.692996878641, 2069.692996878641, 2069.692996878641, 2069.692996878641, 2069.692996878641, 2069.692996878641, 2069.692996878641, 2069.692996878641, 2069.692996878641, 2069.692996878641, 2069.692996878641, 2069.692996878641, 2069.692996878641]}],\n",
       "                        {\"template\": {\"data\": {\"bar\": [{\"error_x\": {\"color\": \"#2a3f5f\"}, \"error_y\": {\"color\": \"#2a3f5f\"}, \"marker\": {\"line\": {\"color\": \"#E5ECF6\", \"width\": 0.5}}, \"type\": \"bar\"}], \"barpolar\": [{\"marker\": {\"line\": {\"color\": \"#E5ECF6\", \"width\": 0.5}}, \"type\": \"barpolar\"}], \"carpet\": [{\"aaxis\": {\"endlinecolor\": \"#2a3f5f\", \"gridcolor\": \"white\", \"linecolor\": \"white\", \"minorgridcolor\": \"white\", \"startlinecolor\": \"#2a3f5f\"}, \"baxis\": {\"endlinecolor\": \"#2a3f5f\", \"gridcolor\": \"white\", \"linecolor\": \"white\", \"minorgridcolor\": \"white\", \"startlinecolor\": \"#2a3f5f\"}, \"type\": \"carpet\"}], \"choropleth\": [{\"colorbar\": {\"outlinewidth\": 0, \"ticks\": \"\"}, \"type\": \"choropleth\"}], \"contour\": [{\"colorbar\": {\"outlinewidth\": 0, \"ticks\": \"\"}, \"colorscale\": [[0.0, \"#0d0887\"], [0.1111111111111111, \"#46039f\"], [0.2222222222222222, \"#7201a8\"], [0.3333333333333333, \"#9c179e\"], [0.4444444444444444, \"#bd3786\"], [0.5555555555555556, \"#d8576b\"], [0.6666666666666666, \"#ed7953\"], [0.7777777777777778, \"#fb9f3a\"], [0.8888888888888888, \"#fdca26\"], [1.0, \"#f0f921\"]], \"type\": \"contour\"}], \"contourcarpet\": [{\"colorbar\": {\"outlinewidth\": 0, \"ticks\": \"\"}, \"type\": \"contourcarpet\"}], \"heatmap\": [{\"colorbar\": {\"outlinewidth\": 0, \"ticks\": \"\"}, \"colorscale\": [[0.0, \"#0d0887\"], [0.1111111111111111, \"#46039f\"], [0.2222222222222222, \"#7201a8\"], [0.3333333333333333, \"#9c179e\"], [0.4444444444444444, \"#bd3786\"], [0.5555555555555556, \"#d8576b\"], [0.6666666666666666, \"#ed7953\"], [0.7777777777777778, \"#fb9f3a\"], [0.8888888888888888, \"#fdca26\"], [1.0, \"#f0f921\"]], \"type\": \"heatmap\"}], \"heatmapgl\": [{\"colorbar\": {\"outlinewidth\": 0, \"ticks\": \"\"}, \"colorscale\": [[0.0, \"#0d0887\"], [0.1111111111111111, \"#46039f\"], [0.2222222222222222, \"#7201a8\"], [0.3333333333333333, \"#9c179e\"], [0.4444444444444444, \"#bd3786\"], [0.5555555555555556, \"#d8576b\"], [0.6666666666666666, \"#ed7953\"], [0.7777777777777778, \"#fb9f3a\"], [0.8888888888888888, \"#fdca26\"], [1.0, \"#f0f921\"]], \"type\": \"heatmapgl\"}], \"histogram\": [{\"marker\": {\"colorbar\": {\"outlinewidth\": 0, \"ticks\": \"\"}}, \"type\": \"histogram\"}], \"histogram2d\": [{\"colorbar\": {\"outlinewidth\": 0, \"ticks\": \"\"}, \"colorscale\": [[0.0, \"#0d0887\"], [0.1111111111111111, \"#46039f\"], [0.2222222222222222, \"#7201a8\"], [0.3333333333333333, \"#9c179e\"], [0.4444444444444444, \"#bd3786\"], [0.5555555555555556, \"#d8576b\"], [0.6666666666666666, \"#ed7953\"], [0.7777777777777778, \"#fb9f3a\"], [0.8888888888888888, \"#fdca26\"], [1.0, \"#f0f921\"]], \"type\": \"histogram2d\"}], \"histogram2dcontour\": [{\"colorbar\": {\"outlinewidth\": 0, \"ticks\": \"\"}, \"colorscale\": [[0.0, \"#0d0887\"], [0.1111111111111111, \"#46039f\"], [0.2222222222222222, \"#7201a8\"], [0.3333333333333333, \"#9c179e\"], [0.4444444444444444, \"#bd3786\"], [0.5555555555555556, \"#d8576b\"], [0.6666666666666666, \"#ed7953\"], [0.7777777777777778, \"#fb9f3a\"], [0.8888888888888888, \"#fdca26\"], [1.0, \"#f0f921\"]], \"type\": \"histogram2dcontour\"}], \"mesh3d\": [{\"colorbar\": {\"outlinewidth\": 0, \"ticks\": \"\"}, \"type\": \"mesh3d\"}], \"parcoords\": [{\"line\": {\"colorbar\": {\"outlinewidth\": 0, \"ticks\": \"\"}}, \"type\": \"parcoords\"}], \"scatter\": [{\"marker\": {\"colorbar\": {\"outlinewidth\": 0, \"ticks\": \"\"}}, \"type\": \"scatter\"}], \"scatter3d\": [{\"line\": {\"colorbar\": {\"outlinewidth\": 0, \"ticks\": \"\"}}, \"marker\": {\"colorbar\": {\"outlinewidth\": 0, \"ticks\": \"\"}}, \"type\": \"scatter3d\"}], \"scattercarpet\": [{\"marker\": {\"colorbar\": {\"outlinewidth\": 0, \"ticks\": \"\"}}, \"type\": \"scattercarpet\"}], \"scattergeo\": [{\"marker\": {\"colorbar\": {\"outlinewidth\": 0, \"ticks\": \"\"}}, \"type\": \"scattergeo\"}], \"scattergl\": [{\"marker\": {\"colorbar\": {\"outlinewidth\": 0, \"ticks\": \"\"}}, \"type\": \"scattergl\"}], \"scattermapbox\": [{\"marker\": {\"colorbar\": {\"outlinewidth\": 0, \"ticks\": \"\"}}, \"type\": \"scattermapbox\"}], \"scatterpolar\": [{\"marker\": {\"colorbar\": {\"outlinewidth\": 0, \"ticks\": \"\"}}, \"type\": \"scatterpolar\"}], \"scatterpolargl\": [{\"marker\": {\"colorbar\": {\"outlinewidth\": 0, \"ticks\": \"\"}}, \"type\": \"scatterpolargl\"}], \"scatterternary\": [{\"marker\": {\"colorbar\": {\"outlinewidth\": 0, \"ticks\": \"\"}}, \"type\": \"scatterternary\"}], \"surface\": [{\"colorbar\": {\"outlinewidth\": 0, \"ticks\": \"\"}, \"colorscale\": [[0.0, \"#0d0887\"], [0.1111111111111111, \"#46039f\"], [0.2222222222222222, \"#7201a8\"], [0.3333333333333333, \"#9c179e\"], [0.4444444444444444, \"#bd3786\"], [0.5555555555555556, \"#d8576b\"], [0.6666666666666666, \"#ed7953\"], [0.7777777777777778, \"#fb9f3a\"], [0.8888888888888888, \"#fdca26\"], [1.0, \"#f0f921\"]], \"type\": \"surface\"}], \"table\": [{\"cells\": {\"fill\": {\"color\": \"#EBF0F8\"}, \"line\": {\"color\": \"white\"}}, \"header\": {\"fill\": {\"color\": \"#C8D4E3\"}, \"line\": {\"color\": \"white\"}}, \"type\": \"table\"}]}, \"layout\": {\"annotationdefaults\": {\"arrowcolor\": \"#2a3f5f\", \"arrowhead\": 0, \"arrowwidth\": 1}, \"colorscale\": {\"diverging\": [[0, \"#8e0152\"], [0.1, \"#c51b7d\"], [0.2, \"#de77ae\"], [0.3, \"#f1b6da\"], [0.4, \"#fde0ef\"], [0.5, \"#f7f7f7\"], [0.6, \"#e6f5d0\"], [0.7, \"#b8e186\"], [0.8, \"#7fbc41\"], [0.9, \"#4d9221\"], [1, \"#276419\"]], \"sequential\": [[0.0, \"#0d0887\"], [0.1111111111111111, \"#46039f\"], [0.2222222222222222, \"#7201a8\"], [0.3333333333333333, \"#9c179e\"], [0.4444444444444444, \"#bd3786\"], [0.5555555555555556, \"#d8576b\"], [0.6666666666666666, \"#ed7953\"], [0.7777777777777778, \"#fb9f3a\"], [0.8888888888888888, \"#fdca26\"], [1.0, \"#f0f921\"]], \"sequentialminus\": [[0.0, \"#0d0887\"], [0.1111111111111111, \"#46039f\"], [0.2222222222222222, \"#7201a8\"], [0.3333333333333333, \"#9c179e\"], [0.4444444444444444, \"#bd3786\"], [0.5555555555555556, \"#d8576b\"], [0.6666666666666666, \"#ed7953\"], [0.7777777777777778, \"#fb9f3a\"], [0.8888888888888888, \"#fdca26\"], [1.0, \"#f0f921\"]]}, \"colorway\": [\"#636efa\", \"#EF553B\", \"#00cc96\", \"#ab63fa\", \"#FFA15A\", \"#19d3f3\", \"#FF6692\", \"#B6E880\", \"#FF97FF\", \"#FECB52\"], \"font\": {\"color\": \"#2a3f5f\"}, \"geo\": {\"bgcolor\": \"white\", \"lakecolor\": \"white\", \"landcolor\": \"#E5ECF6\", \"showlakes\": true, \"showland\": true, \"subunitcolor\": \"white\"}, \"hoverlabel\": {\"align\": \"left\"}, \"hovermode\": \"closest\", \"mapbox\": {\"style\": \"light\"}, \"paper_bgcolor\": \"white\", \"plot_bgcolor\": \"#E5ECF6\", \"polar\": {\"angularaxis\": {\"gridcolor\": \"white\", \"linecolor\": \"white\", \"ticks\": \"\"}, \"bgcolor\": \"#E5ECF6\", \"radialaxis\": {\"gridcolor\": \"white\", \"linecolor\": \"white\", \"ticks\": \"\"}}, \"scene\": {\"xaxis\": {\"backgroundcolor\": \"#E5ECF6\", \"gridcolor\": \"white\", \"gridwidth\": 2, \"linecolor\": \"white\", \"showbackground\": true, \"ticks\": \"\", \"zerolinecolor\": \"white\"}, \"yaxis\": {\"backgroundcolor\": \"#E5ECF6\", \"gridcolor\": \"white\", \"gridwidth\": 2, \"linecolor\": \"white\", \"showbackground\": true, \"ticks\": \"\", \"zerolinecolor\": \"white\"}, \"zaxis\": {\"backgroundcolor\": \"#E5ECF6\", \"gridcolor\": \"white\", \"gridwidth\": 2, \"linecolor\": \"white\", \"showbackground\": true, \"ticks\": \"\", \"zerolinecolor\": \"white\"}}, \"shapedefaults\": {\"line\": {\"color\": \"#2a3f5f\"}}, \"ternary\": {\"aaxis\": {\"gridcolor\": \"white\", \"linecolor\": \"white\", \"ticks\": \"\"}, \"baxis\": {\"gridcolor\": \"white\", \"linecolor\": \"white\", \"ticks\": \"\"}, \"bgcolor\": \"#E5ECF6\", \"caxis\": {\"gridcolor\": \"white\", \"linecolor\": \"white\", \"ticks\": \"\"}}, \"title\": {\"x\": 0.05}, \"xaxis\": {\"automargin\": true, \"gridcolor\": \"white\", \"linecolor\": \"white\", \"ticks\": \"\", \"zerolinecolor\": \"white\", \"zerolinewidth\": 2}, \"yaxis\": {\"automargin\": true, \"gridcolor\": \"white\", \"linecolor\": \"white\", \"ticks\": \"\", \"zerolinecolor\": \"white\", \"zerolinewidth\": 2}}}, \"title\": {\"text\": \"SAC\"}, \"xaxis\": {\"title\": {\"text\": \"test\"}}, \"yaxis\": {\"title\": {\"text\": \"reward\"}}},\n",
       "                        {\"responsive\": true}\n",
       "                    ).then(function(){\n",
       "                            \n",
       "var gd = document.getElementById('e29ee1d9-ec9c-445c-9ba5-c229f4d9ae96');\n",
       "var x = new MutationObserver(function (mutations, observer) {{\n",
       "        var display = window.getComputedStyle(gd).display;\n",
       "        if (!display || display === 'none') {{\n",
       "            console.log([gd, 'removed!']);\n",
       "            Plotly.purge(gd);\n",
       "            observer.disconnect();\n",
       "        }}\n",
       "}});\n",
       "\n",
       "// Listen for the removal of the full notebook cells\n",
       "var notebookContainer = gd.closest('#notebook-container');\n",
       "if (notebookContainer) {{\n",
       "    x.observe(notebookContainer, {childList: true});\n",
       "}}\n",
       "\n",
       "// Listen for the clearing of the current output cell\n",
       "var outputEl = gd.closest('.output');\n",
       "if (outputEl) {{\n",
       "    x.observe(outputEl, {childList: true});\n",
       "}}\n",
       "\n",
       "                        })\n",
       "                };\n",
       "                });\n",
       "            </script>\n",
       "        </div>"
      ]
     },
     "metadata": {},
     "output_type": "display_data"
    }
   ],
   "source": [
    "fig = go.Figure()\n",
    "fig.add_trace(go.Scatter(x=x, y=reward_test, name='test reward',\n",
    "                                 line=dict(color=\"green\", width=1)))\n",
    "\n",
    "fig.add_trace(go.Scatter(x=x, y=[m]*len(reward_test), name='average reward',\n",
    "                                 line=dict(color=\"red\", width=1)))\n",
    "    \n",
    "fig.update_layout(title=\"SAC\",\n",
    "                           xaxis_title= \"test\",\n",
    "                           yaxis_title= \"reward\")\n",
    "fig.show()"
   ]
  },
  {
   "cell_type": "code",
   "execution_count": 56,
   "metadata": {},
   "outputs": [
    {
     "name": "stdout",
     "output_type": "stream",
     "text": [
      "average reward: 2069.692996878641\n"
     ]
    }
   ],
   "source": [
    "print(\"average reward:\", m)"
   ]
  }
 ],
 "metadata": {
  "kernelspec": {
   "display_name": "Python 3",
   "language": "python",
   "name": "python3"
  }
 },
 "nbformat": 4,
 "nbformat_minor": 2
}
